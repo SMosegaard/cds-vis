{
 "cells": [
  {
   "cell_type": "code",
   "execution_count": 5,
   "metadata": {},
   "outputs": [],
   "source": [
    "import os\n",
    "import cv2"
   ]
  },
  {
   "cell_type": "code",
   "execution_count": 9,
   "metadata": {},
   "outputs": [],
   "source": [
    "filepath_f1 = os.path.join(\"..\",\n",
    "                            \"..\",\n",
    "                            \"..\",\n",
    "                            \"..\",\n",
    "                            \"cds-vis-data\",\n",
    "                            \"flowers\", \n",
    "                            \"image_0001.jpg\")\n",
    "\n",
    "image_f1 = cv2.imread(filepath_f1)"
   ]
  },
  {
   "cell_type": "code",
   "execution_count": 10,
   "metadata": {},
   "outputs": [
    {
     "name": "stdout",
     "output_type": "stream",
     "text": [
      "[[[240 235 236]\n",
      "  [247 242 243]\n",
      "  [249 244 245]\n",
      "  ...\n",
      "  [ 53  52  61]\n",
      "  [ 49  48  57]\n",
      "  [ 31  30  39]]\n",
      "\n",
      " [[242 237 238]\n",
      "  [249 244 245]\n",
      "  [249 244 245]\n",
      "  ...\n",
      "  [ 47  46  55]\n",
      "  [ 43  42  51]\n",
      "  [ 28  27  36]]\n",
      "\n",
      " [[239 234 235]\n",
      "  [243 238 239]\n",
      "  [242 237 238]\n",
      "  ...\n",
      "  [ 56  55  64]\n",
      "  [ 52  51  60]\n",
      "  [ 38  37  46]]\n",
      "\n",
      " ...\n",
      "\n",
      " [[ 54 119 128]\n",
      "  [ 60 127 136]\n",
      "  [ 57 129 139]\n",
      "  ...\n",
      "  [ 31  43  45]\n",
      "  [ 35  47  49]\n",
      "  [ 46  54  54]]\n",
      "\n",
      " [[ 44 109 118]\n",
      "  [ 51 118 127]\n",
      "  [ 49 121 131]\n",
      "  ...\n",
      "  [ 23  35  37]\n",
      "  [ 25  37  39]\n",
      "  [ 32  40  40]]\n",
      "\n",
      " [[ 57 122 131]\n",
      "  [ 65 132 141]\n",
      "  [ 63 135 145]\n",
      "  ...\n",
      "  [ 36  48  50]\n",
      "  [ 36  48  50]\n",
      "  [ 43  51  51]]]\n"
     ]
    }
   ],
   "source": [
    "print(image_f1)"
   ]
  }
 ],
 "metadata": {
  "kernelspec": {
   "display_name": "Python 3",
   "language": "python",
   "name": "python3"
  },
  "language_info": {
   "codemirror_mode": {
    "name": "ipython",
    "version": 3
   },
   "file_extension": ".py",
   "mimetype": "text/x-python",
   "name": "python",
   "nbconvert_exporter": "python",
   "pygments_lexer": "ipython3",
   "version": "3.10.12"
  }
 },
 "nbformat": 4,
 "nbformat_minor": 2
}
