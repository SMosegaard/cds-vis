{
 "cells": [
  {
   "cell_type": "markdown",
   "metadata": {},
   "source": [
    "In this assignment, we're going to build on this idea to look for changing patterns in print media. Specifically, we are going to look at the presence in historical newspapers of *pictures of human faces*. This is a culturally meaningful question - how has the prevelance of images of human faces changed in print media over the last roughly 200 years? Are there any significant differences and what might this mean?\n",
    "\n",
    "You should write code which does the following:\n",
    "\n",
    "- For each of the three newspapers\n",
    "    - Go through each page and find how many faces are present\n",
    "    - Group these results together by *decade* and then save the following:\n",
    "        - A CSV showing the total number of faces per decade and the percentage of pages for that decade which have faces on them\n",
    "        - A plot which shows the latter information - i.e. percentage of pages with faces per decade over all of the decades avaiable for that newspaper\n",
    "- Repeat for the other newspapers\n",
    "\n",
    "For this task, we are going to use a pretrained CNN model which has been finteuned for face detection. You can see documentation of this model and some starter code about how to get it running at [this website](https://medium.com/@danushidk507/facenet-pytorch-pretrained-pytorch-face-detection-mtcnn-and-facial-recognition-b20af8771144). In particular, you'll want to use the first code block down to the line which detects faces in images:\n"
   ]
  },
  {
   "cell_type": "code",
   "execution_count": 1,
   "metadata": {},
   "outputs": [],
   "source": [
    "import os\n",
    "import pandas as pd\n",
    "from facenet_pytorch import MTCNN, InceptionResnetV1\n",
    "import torch\n",
    "from PIL import Image\n",
    "import matplotlib.pyplot as plt"
   ]
  },
  {
   "cell_type": "code",
   "execution_count": null,
   "metadata": {},
   "outputs": [],
   "source": [
    "\n"
   ]
  },
  {
   "cell_type": "code",
   "execution_count": 93,
   "metadata": {},
   "outputs": [],
   "source": [
    "def face_detection(image, mtcnn):\n",
    "    \"\"\"\n",
    "    The function detects faces in a given input image using MTCNN.\n",
    "    \"\"\"    \n",
    "    boxes, _ = mtcnn.detect(image)\n",
    "\n",
    "    return boxes"
   ]
  },
  {
   "cell_type": "code",
   "execution_count": 94,
   "metadata": {},
   "outputs": [],
   "source": [
    "\n",
    "def process_newspaper(filepath, mtcnn):\n",
    "    \"\"\" \n",
    "    The function iterates over the the three newspapers.\n",
    "    \"\"\"\n",
    "    for newpaper in os.listdir(filepath):\n",
    "        newspaper_path = os.path.join(filepath, newpaper)\n",
    "\n",
    "        # Initialize data structures for the current newspaper\n",
    "        newspaper_results = pd.DataFrame(columns=(\"Decade\", \"Total Faces\", \"Total Pages\"))\n",
    "\n",
    "        # Iterate through each newspaper issue\n",
    "        for issue in os.listdir(newspaper_path):\n",
    "            issue_year = int(issue.split('-')[1])\n",
    "            decade = get_decade(issue_year)\n",
    "            \n",
    "            print(issue) # JDG-1955-07-29-a-p0005.jpg\n",
    "\n",
    "            issue_faces = []\n",
    "\n",
    "            issue_dir = os.path.join(newspaper_path, issue)\n",
    "            print(issue_dir) # ../in/JDG/JDG-1955-07-29-a-p0005.jpg\n",
    "\n",
    "            image = Image.open(issue_dir)\n",
    "            detected_faces = face_detection(image, mtcnn)\n",
    "            \n",
    "\n",
    "            # Calculate\n",
    "            total_faces = sum(issue_faces)\n",
    "            total_pages = len(issue_faces)\n",
    "            pages_with_faces = sum([1 for faces in issue_faces if faces > 0])\n",
    "            percentage_pages_with_faces = (pages_with_faces / total_pages) * 100\n",
    "\n",
    "            text_row = [decade, total_faces, total_pages]\n",
    "            newspaper_results.loc[len(newspaper_results)] = text_row\n",
    "\n",
    "\n",
    "        csv_outpath = os.path.join(\"out\", f\"{newspaper}_results.csv\")\n",
    "\n",
    "    return print(\"The results has been saved to the out folder\")\n"
   ]
  },
  {
   "cell_type": "code",
   "execution_count": 45,
   "metadata": {},
   "outputs": [],
   "source": [
    "def initialize_MTCNN():\n",
    "    \"\"\"\n",
    "    Initialize Multi-Task Cascaded Convolutional Neural Networks (MTCNN) for face detection\n",
    "    \"\"\"\n",
    "    mtcnn = MTCNN(keep_all = True)\n",
    "    return mtcnn\n",
    "\n",
    "def load_classifier():\n",
    "    \"\"\"\n",
    "    Load pre-trained FaceNet model\n",
    "    \"\"\"\n",
    "    resnet = InceptionResnetV1(pretrained = 'casia-webface').eval()\n",
    "    return resnet\n",
    "\n",
    "def df_structure_results():\n",
    "    \"\"\"\n",
    "    total number of faces per dacade\n",
    "    percentage of pages for that decade which have faces on them\n",
    "    \"\"\"\n",
    "    results = pd.DataFrame(columns=(\"Newspaper\", \"Decade\", \"Total Faces\", \"Pages with Faces (%)\"))\n",
    "    #results = pd.DataFrame(columns=(\"Newspaper\", \"Decade\", \"Total Faces\", \"Pages with Faces (%)\"))\n",
    "    return results\n"
   ]
  },
  {
   "cell_type": "code",
   "execution_count": 46,
   "metadata": {},
   "outputs": [],
   "source": [
    "def get_decade(year):\n",
    "    \"\"\"\n",
    "    Get the decade from a given year, ie. 1789 = 80\n",
    "    \"\"\"\n",
    "    decade = str(year)[2:3] + \"0\"\n",
    "    return decade"
   ]
  },
  {
   "cell_type": "code",
   "execution_count": null,
   "metadata": {},
   "outputs": [],
   "source": [
    "issue = \"GDL-1789-02-05-a-p0001.jpg\"\n",
    "issue_year = int(issue.split('-')[1])\n",
    "issue_year\n",
    "\n",
    "decade = get_decade(issue_year)\n",
    "decade"
   ]
  },
  {
   "cell_type": "code",
   "execution_count": null,
   "metadata": {},
   "outputs": [],
   "source": [
    "# A plot which shows the latter information - i.e. percentage of pages with faces per decade over\n",
    "#  all of the decades avaiable for that newspaper\n",
    "\n",
    "def plot():\n",
    "    \"\"\"\n",
    "    Plot the percentage of pages with faces per decade \n",
    "    \"\"\"\n",
    "\n",
    "    # x = decade\n",
    "    # y = percentage of pages with faces \n",
    "\n",
    "    plt.title(f'Percentage of pages with faces per pecade - {newspaper}')\n",
    "    plt.xlabel('Decade')\n",
    "    plt.ylabel('Pages with faces (%)')\n",
    "\n",
    "    plt.savefig(\"out\", f'{newspaper}_faces_by_decade_plot.png')\n",
    "    #plt.show()\n",
    "\n",
    "    return print(\"The plot has been saved to the out folder\")\n"
   ]
  },
  {
   "cell_type": "code",
   "execution_count": null,
   "metadata": {},
   "outputs": [],
   "source": [
    "  \n",
    "def main():\n",
    "\n",
    "    filepath = os.path.join(\"../in\")\n",
    "\n",
    "    mtcnn = initialize_MTCNN()\n",
    "    resnet = load_classifier()\n",
    "\n",
    "    results = df_structure_results()\n",
    "\n",
    "    process_newspaper(filepath, mtcnn)\n",
    "\n",
    "if __name__ == \"__main__\":\n",
    "    main()"
   ]
  },
  {
   "cell_type": "code",
   "execution_count": null,
   "metadata": {},
   "outputs": [],
   "source": []
  },
  {
   "cell_type": "code",
   "execution_count": 96,
   "metadata": {},
   "outputs": [
    {
     "name": "stdout",
     "output_type": "stream",
     "text": [
      "../in/JDG\n",
      "JDG-1955-07-29-a-p0005.jpg\n",
      "../in/JDG/JDG-1955-07-29-a-p0005.jpg\n",
      "<PIL.JpegImagePlugin.JpegImageFile image mode=RGB size=1378x2000 at 0x7F66B127FC40>\n",
      "None\n"
     ]
    },
    {
     "ename": "ZeroDivisionError",
     "evalue": "division by zero",
     "output_type": "error",
     "traceback": [
      "\u001b[0;31m---------------------------------------------------------------------------\u001b[0m",
      "\u001b[0;31mZeroDivisionError\u001b[0m                         Traceback (most recent call last)",
      "\u001b[1;32m/work/Visual_analytics/cds-vis/assignments/assignment-4/src/main.ipynb Cell 13\u001b[0m line \u001b[0;36m2\n\u001b[1;32m      <a href='vscode-notebook-cell://app-5039712-0.cloud.sdu.dk/work/Visual_analytics/cds-vis/assignments/assignment-4/src/main.ipynb#X56sdnNjb2RlLXJlbW90ZQ%3D%3D?line=0'>1</a>\u001b[0m df \u001b[39m=\u001b[39m os\u001b[39m.\u001b[39mpath\u001b[39m.\u001b[39mjoin(\u001b[39m\"\u001b[39m\u001b[39m../in\u001b[39m\u001b[39m\"\u001b[39m)\n\u001b[0;32m----> <a href='vscode-notebook-cell://app-5039712-0.cloud.sdu.dk/work/Visual_analytics/cds-vis/assignments/assignment-4/src/main.ipynb#X56sdnNjb2RlLXJlbW90ZQ%3D%3D?line=1'>2</a>\u001b[0m process_newspaper(df, mtcnn)\n",
      "\u001b[1;32m/work/Visual_analytics/cds-vis/assignments/assignment-4/src/main.ipynb Cell 13\u001b[0m line \u001b[0;36m3\n\u001b[1;32m     <a href='vscode-notebook-cell://app-5039712-0.cloud.sdu.dk/work/Visual_analytics/cds-vis/assignments/assignment-4/src/main.ipynb#X56sdnNjb2RlLXJlbW90ZQ%3D%3D?line=28'>29</a>\u001b[0m total_pages \u001b[39m=\u001b[39m \u001b[39mlen\u001b[39m(issue_faces)\n\u001b[1;32m     <a href='vscode-notebook-cell://app-5039712-0.cloud.sdu.dk/work/Visual_analytics/cds-vis/assignments/assignment-4/src/main.ipynb#X56sdnNjb2RlLXJlbW90ZQ%3D%3D?line=29'>30</a>\u001b[0m pages_with_faces \u001b[39m=\u001b[39m \u001b[39msum\u001b[39m([\u001b[39m1\u001b[39m \u001b[39mfor\u001b[39;00m faces \u001b[39min\u001b[39;00m issue_faces \u001b[39mif\u001b[39;00m faces \u001b[39m>\u001b[39m \u001b[39m0\u001b[39m])\n\u001b[0;32m---> <a href='vscode-notebook-cell://app-5039712-0.cloud.sdu.dk/work/Visual_analytics/cds-vis/assignments/assignment-4/src/main.ipynb#X56sdnNjb2RlLXJlbW90ZQ%3D%3D?line=30'>31</a>\u001b[0m percentage_pages_with_faces \u001b[39m=\u001b[39m (pages_with_faces \u001b[39m/\u001b[39;49m total_pages) \u001b[39m*\u001b[39m \u001b[39m100\u001b[39m\n\u001b[1;32m     <a href='vscode-notebook-cell://app-5039712-0.cloud.sdu.dk/work/Visual_analytics/cds-vis/assignments/assignment-4/src/main.ipynb#X56sdnNjb2RlLXJlbW90ZQ%3D%3D?line=32'>33</a>\u001b[0m text_row \u001b[39m=\u001b[39m [decade, total_faces, total_pages]\n\u001b[1;32m     <a href='vscode-notebook-cell://app-5039712-0.cloud.sdu.dk/work/Visual_analytics/cds-vis/assignments/assignment-4/src/main.ipynb#X56sdnNjb2RlLXJlbW90ZQ%3D%3D?line=33'>34</a>\u001b[0m newspaper_results\u001b[39m.\u001b[39mloc[\u001b[39mlen\u001b[39m(newspaper_results)] \u001b[39m=\u001b[39m text_row\n",
      "\u001b[0;31mZeroDivisionError\u001b[0m: division by zero"
     ]
    }
   ],
   "source": [
    "df = os.path.join(\"../in\")\n",
    "process_newspaper(df, mtcnn)"
   ]
  },
  {
   "cell_type": "code",
   "execution_count": 70,
   "metadata": {},
   "outputs": [
    {
     "data": {
      "text/plain": [
       "PIL.JpegImagePlugin.JpegImageFile"
      ]
     },
     "execution_count": 70,
     "metadata": {},
     "output_type": "execute_result"
    }
   ],
   "source": [
    "mtcnn = MTCNN(keep_all = True)\n",
    "image = Image.open(\"../in/GDL/GDL-1798-02-05-a-p0001.jpg\")\n",
    "type(image)"
   ]
  },
  {
   "cell_type": "code",
   "execution_count": null,
   "metadata": {},
   "outputs": [],
   "source": []
  }
 ],
 "metadata": {
  "kernelspec": {
   "display_name": "Python 3",
   "language": "python",
   "name": "python3"
  },
  "language_info": {
   "codemirror_mode": {
    "name": "ipython",
    "version": 3
   },
   "file_extension": ".py",
   "mimetype": "text/x-python",
   "name": "python",
   "nbconvert_exporter": "python",
   "pygments_lexer": "ipython3",
   "version": "3.10.12"
  }
 },
 "nbformat": 4,
 "nbformat_minor": 2
}
