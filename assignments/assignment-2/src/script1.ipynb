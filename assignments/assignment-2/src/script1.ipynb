{
 "cells": [
  {
   "cell_type": "code",
   "execution_count": 11,
   "metadata": {},
   "outputs": [],
   "source": [
    "# sudo apt-get update\n",
    "# sudo apt-get install -y python3-opencv\n",
    "# pip install opencv-python matplotlib\n",
    "\n",
    "import cv2\n",
    "import matplotlib.pyplot as plt\n",
    "\n",
    "# Machine learning packages\n",
    "from sklearn.linear_model import LogisticRegression\n",
    "from sklearn.neural_network import MLPClassifier\n",
    "from sklearn import metrics\n"
   ]
  },
  {
   "cell_type": "code",
   "execution_count": null,
   "metadata": {},
   "outputs": [],
   "source": [
    "# Load in data\n",
    "from tensorflow.keras.datasets import cifar10\n",
    "(X_train, y_train), (X_test, y_test) = cifar10.load_data()"
   ]
  },
  {
   "cell_type": "markdown",
   "metadata": {},
   "source": [
    "### Preprocessing"
   ]
  },
  {
   "cell_type": "code",
   "execution_count": null,
   "metadata": {},
   "outputs": [],
   "source": [
    "## Grayscale\n",
    "\n",
    "# convert each image to greyscale - one by one using a for loop\n",
    "# for loop through all files (current shape (x, x, x, x))\n",
    "# np.array(list)\n",
    "\n",
    "X_train_greyed = cv2.cvtColor(X_train, cv2.COLOR_BGR2GRAY) \n",
    "X_test_greyed = cv2.cvtColor(X_test, cv2.COLOR_BGR2GRAY)"
   ]
  },
  {
   "cell_type": "code",
   "execution_count": 12,
   "metadata": {},
   "outputs": [],
   "source": [
    "# Scaling the features\n",
    "X_train_scaled = X_train/255.0\n",
    "X_test_scaled = X_test/255.0"
   ]
  },
  {
   "cell_type": "code",
   "execution_count": 13,
   "metadata": {},
   "outputs": [],
   "source": [
    "# Reshape\n",
    "X_train_scaled_reshape = X_train_scaled.reshape(-1, 1024)\n",
    "X_test_scaled_reshape = X_test_scaled.reshape(-1, 1024)"
   ]
  },
  {
   "cell_type": "code",
   "execution_count": 14,
   "metadata": {},
   "outputs": [
    {
     "data": {
      "text/plain": [
       "(150000, 1024)"
      ]
     },
     "execution_count": 14,
     "metadata": {},
     "output_type": "execute_result"
    }
   ],
   "source": [
    "X_train_scaled_reshape.shape"
   ]
  },
  {
   "cell_type": "code",
   "execution_count": 21,
   "metadata": {},
   "outputs": [
    {
     "ename": "TypeError",
     "evalue": "only integer scalar arrays can be converted to a scalar index",
     "output_type": "error",
     "traceback": [
      "\u001b[0;31m---------------------------------------------------------------------------\u001b[0m",
      "\u001b[0;31mTypeError\u001b[0m                                 Traceback (most recent call last)",
      "\u001b[1;32m/work/Visual_analytics/cds-vis/assignments/assignment-2/src/script1.ipynb Cell 8\u001b[0m line \u001b[0;36m1\n\u001b[0;32m----> <a href='vscode-notebook-cell://app-5025427-0.cloud.sdu.dk/work/Visual_analytics/cds-vis/assignments/assignment-2/src/script1.ipynb#X16sdnNjb2RlLXJlbW90ZQ%3D%3D?line=0'>1</a>\u001b[0m \u001b[39mfor\u001b[39;00m label \u001b[39min\u001b[39;00m \u001b[39menumerate\u001b[39;49m(y_train, y_test):\n\u001b[1;32m      <a href='vscode-notebook-cell://app-5025427-0.cloud.sdu.dk/work/Visual_analytics/cds-vis/assignments/assignment-2/src/script1.ipynb#X16sdnNjb2RlLXJlbW90ZQ%3D%3D?line=1'>2</a>\u001b[0m     label_name[\u001b[39m0\u001b[39m] \u001b[39m==\u001b[39m \u001b[39m'\u001b[39m\u001b[39mairplane\u001b[39m\u001b[39m'\u001b[39m,\n\u001b[1;32m      <a href='vscode-notebook-cell://app-5025427-0.cloud.sdu.dk/work/Visual_analytics/cds-vis/assignments/assignment-2/src/script1.ipynb#X16sdnNjb2RlLXJlbW90ZQ%3D%3D?line=2'>3</a>\u001b[0m     label_name[\u001b[39m1\u001b[39m] \u001b[39m==\u001b[39m \u001b[39m'\u001b[39m\u001b[39mautomobile\u001b[39m\u001b[39m'\u001b[39m,\n",
      "\u001b[0;31mTypeError\u001b[0m: only integer scalar arrays can be converted to a scalar index"
     ]
    }
   ],
   "source": [
    "# Add label names\n",
    "# You'll need to make a list of labels based on the object names - you can find these on the website.\n",
    "\n",
    "for label in enumerate(y_train, y_test):\n",
    "    label_name[0] == 'airplane',\n",
    "    label_name[1] == 'automobile',\n",
    "    "
   ]
  },
  {
   "cell_type": "code",
   "execution_count": null,
   "metadata": {},
   "outputs": [],
   "source": [
    "\n",
    "modality_label = ['airplane', 'automobile', 'bird', 'cat', 'deer']\n",
    "\n",
    "for label in modality_label:\n",
    "    label_name[label] = epochs[label][event_data[label][:, 2] == 0]\n",
    "    label_name[label] = epochs[label][event_data[label][:, 2] == 1]\n",
    "    label_name[label] = epochs[label][event_data[label][:, 2] == 2]\n",
    "\n",
    "\n"
   ]
  }
 ],
 "metadata": {
  "kernelspec": {
   "display_name": "Python 3",
   "language": "python",
   "name": "python3"
  },
  "language_info": {
   "codemirror_mode": {
    "name": "ipython",
    "version": 3
   },
   "file_extension": ".py",
   "mimetype": "text/x-python",
   "name": "python",
   "nbconvert_exporter": "python",
   "pygments_lexer": "ipython3",
   "version": "3.10.12"
  }
 },
 "nbformat": 4,
 "nbformat_minor": 2
}
