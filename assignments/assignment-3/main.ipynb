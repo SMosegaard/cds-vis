{
 "cells": [
  {
   "cell_type": "code",
   "execution_count": 4,
   "metadata": {},
   "outputs": [],
   "source": [
    "import os\n",
    "import numpy as np\n",
    "import matplotlib.pyplot as plt\n",
    "\n",
    "import tensorflow as tf\n",
    "\n",
    "# image processsing\n",
    "from tensorflow.keras.preprocessing.image import (load_img,\n",
    "                                                  img_to_array,\n",
    "                                                  ImageDataGenerator)"
   ]
  },
  {
   "cell_type": "code",
   "execution_count": null,
   "metadata": {},
   "outputs": [],
   "source": [
    "filepath = os.path.join(\"../../../../cds-vis-data/Tobacco3482/\")\n",
    "image = load_img(filepath, target_size = (224, 224))"
   ]
  },
  {
   "cell_type": "code",
   "execution_count": null,
   "metadata": {},
   "outputs": [],
   "source": [
    "filepath = os.path.join(\"../../../../cds-vis-data/Tobacco3482\")\n",
    "\n",
    "# loop through each file (image) in each of the 10 subfolders\n",
    "# save images in a list (list_of_images)\n",
    "# list with name of the given folder (list_of_labels)\n",
    "\n",
    "for file in sorted(os.listdir(filepath)):\n",
    "\n",
    "        # Initialize empty lists\n",
    "        list_of_images = [] \n",
    "        list_of_labels = []\n",
    "\n",
    "        # Extract images from the individual folders\n",
    "        individual_filepath = os.path.join(filepath, file)\n",
    "        image = load_img(individual_filepath, target_size = (224, 224))\n",
    "        #image_name = image.split(\".\")[0]\n",
    "\n",
    "        # Append image to list\n",
    "        list_of_images = list_of_images.append(image)\n",
    "\n",
    "        # Extract label (i.e., name of folder)\n",
    "\n",
    "        # generate label\n",
    "\n",
    "        #liste af billede-objekter\n",
    "        #liste af\n",
    "\n",
    "        # empty list and append\n"
   ]
  },
  {
   "cell_type": "code",
   "execution_count": 5,
   "metadata": {},
   "outputs": [],
   "source": [
    "\n",
    "def load_images(filepath):\n",
    "\n",
    "    for file in sorted(os.listdir(filepath)):\n",
    "        individual_filepath = os.path.join(filepath, file)\n",
    "        image = load_img(fileindividual_filepathpath, target_size = (224, 224))\n",
    "        image_name = image.split(\".jpg\")[0]\n",
    "\n",
    "        # # generate labels\n",
    "\n",
    "    return #two lists\n",
    "\n",
    "labelNames = [\"ADVE\", \"Email\", \"Form\", \"Letter\",  \"Memo\", \"News\", \"Note\", \"Report\", \"Resume\", \"Scientific\"]"
   ]
  },
  {
   "cell_type": "code",
   "execution_count": null,
   "metadata": {},
   "outputs": [],
   "source": [
    "def preprocess_images():\n",
    "    \n",
    "    # convert the image pixels to a numpy array\n",
    "    image = img_to_array(image) \n",
    "\n",
    "    # make 4D tensor\n",
    "\n",
    "    #....\n",
    "\n",
    "    return "
   ]
  },
  {
   "cell_type": "code",
   "execution_count": null,
   "metadata": {},
   "outputs": [],
   "source": [
    "def main():\n",
    "    filepath = os.path.join(\"../../../../cds-vis-data/Tobacco3482/\") # change to in for the final script\n",
    "    \n",
    "    load_images\n",
    "    \n",
    "    preprocess_images"
   ]
  }
 ],
 "metadata": {
  "kernelspec": {
   "display_name": "Python 3",
   "language": "python",
   "name": "python3"
  },
  "language_info": {
   "codemirror_mode": {
    "name": "ipython",
    "version": 3
   },
   "file_extension": ".py",
   "mimetype": "text/x-python",
   "name": "python",
   "nbconvert_exporter": "python",
   "pygments_lexer": "ipython3",
   "version": "3.10.12"
  }
 },
 "nbformat": 4,
 "nbformat_minor": 2
}
