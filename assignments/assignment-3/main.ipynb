{
 "cells": [
  {
   "cell_type": "code",
   "execution_count": null,
   "metadata": {},
   "outputs": [],
   "source": [
    "import os\n",
    "import tensorflow as tf\n",
    "\n",
    "# image processsing\n",
    "from tensorflow.keras.preprocessing.image import (load_img,\n",
    "                                                  img_to_array,\n",
    "                                                  ImageDataGenerator)\n",
    "\n",
    "# VGG16 model\n",
    "from tensorflow.keras.applications.vgg16 import (preprocess_input,\n",
    "                                                 decode_predictions,\n",
    "                                                 VGG16)\n",
    "\n",
    "# layers\n",
    "from tensorflow.keras.layers import (Flatten, \n",
    "                                     Dense, \n",
    "                                     Dropout, \n",
    "                                     BatchNormalization)\n",
    "\n",
    "# generic model object\n",
    "from tensorflow.keras.models import Model\n",
    "\n",
    "# optimizers\n",
    "from tensorflow.keras.optimizers.schedules import ExponentialDecay\n",
    "from tensorflow.keras.optimizers import SGD, Adam\n",
    "\n",
    "#scikit-learn\n",
    "from sklearn.preprocessing import LabelBinarizer\n",
    "from sklearn.metrics import classification_report\n",
    "\n",
    "# for plotting\n",
    "import numpy as np\n",
    "import matplotlib.pyplot as plt"
   ]
  },
  {
   "cell_type": "code",
   "execution_count": null,
   "metadata": {},
   "outputs": [],
   "source": [
    "filepath = os.path.join(\"../../../../cds-vis-data/Tobacco3482/\")\n",
    "image = load_img(filepath, target_size = (224, 224))"
   ]
  },
  {
   "cell_type": "code",
   "execution_count": 42,
   "metadata": {},
   "outputs": [
    {
     "name": "stdout",
     "output_type": "stream",
     "text": [
      "tob06517.41_tob0651742.jpg\n",
      "['tob06517', '41_tob0651742', 'jpg']\n",
      "tob0651741_tob0651742.jpg\n"
     ]
    }
   ],
   "source": [
    "filepath = os.path.join(\"../../../../cds-vis-data/Tobacco3482/ADVE/tob06517.41_tob0651742.jpg\")\n",
    "title = filepath.split(\"/\")[-1]\n",
    "print(title)\n",
    "test_title = title.split(\".\")\n",
    "print(test_title)\n",
    "\n",
    "test_title[-1] = \".\" + test_title[-1]\n",
    "\n",
    "test_title = \"\".join(test_title)\n",
    "print(test_title)"
   ]
  },
  {
   "cell_type": "code",
   "execution_count": 40,
   "metadata": {},
   "outputs": [
    {
     "data": {
      "text/plain": [
       "str"
      ]
     },
     "execution_count": 40,
     "metadata": {},
     "output_type": "execute_result"
    }
   ],
   "source": [
    "type(test_title[0])"
   ]
  },
  {
   "cell_type": "code",
   "execution_count": 48,
   "metadata": {},
   "outputs": [],
   "source": [
    "# clean image titles\n",
    "\n",
    "def title_cleaner(filepath):\n",
    "\n",
    "    title = filepath.split(\"/\")[-1]\n",
    "\n",
    "    splitted_title = title.split(\".\")\n",
    "    splitted_title[-1] = \".\" + splitted_title[-1] # add . before the fileformat\n",
    "    splitted_title = \"\".join(splitted_title)\n",
    "    \n",
    "    return cleaned_filepath\n"
   ]
  },
  {
   "cell_type": "code",
   "execution_count": 50,
   "metadata": {},
   "outputs": [
    {
     "ename": "NameError",
     "evalue": "name 'cleaned_filepath' is not defined",
     "output_type": "error",
     "traceback": [
      "\u001b[0;31m---------------------------------------------------------------------------\u001b[0m",
      "\u001b[0;31mNameError\u001b[0m                                 Traceback (most recent call last)",
      "\u001b[1;32m/work/Visual_analytics/cds-vis/assignments/assignment-3/main.ipynb Cell 6\u001b[0m line \u001b[0;36m2\n\u001b[1;32m     <a href='vscode-notebook-cell://app-5034146-0.cloud.sdu.dk/work/Visual_analytics/cds-vis/assignments/assignment-3/main.ipynb#W2sdnNjb2RlLXJlbW90ZQ%3D%3D?line=16'>17</a>\u001b[0m \u001b[39mfor\u001b[39;00m file \u001b[39min\u001b[39;00m os\u001b[39m.\u001b[39mlistdir(subfolder_path):\n\u001b[1;32m     <a href='vscode-notebook-cell://app-5034146-0.cloud.sdu.dk/work/Visual_analytics/cds-vis/assignments/assignment-3/main.ipynb#W2sdnNjb2RlLXJlbW90ZQ%3D%3D?line=18'>19</a>\u001b[0m         individual_filepath \u001b[39m=\u001b[39m os\u001b[39m.\u001b[39mpath\u001b[39m.\u001b[39mjoin(subfolder_path, file)\n\u001b[0;32m---> <a href='vscode-notebook-cell://app-5034146-0.cloud.sdu.dk/work/Visual_analytics/cds-vis/assignments/assignment-3/main.ipynb#W2sdnNjb2RlLXJlbW90ZQ%3D%3D?line=20'>21</a>\u001b[0m         cleaned_individual_filepath \u001b[39m=\u001b[39m title_cleaner(individual_filepath)\n\u001b[1;32m     <a href='vscode-notebook-cell://app-5034146-0.cloud.sdu.dk/work/Visual_analytics/cds-vis/assignments/assignment-3/main.ipynb#W2sdnNjb2RlLXJlbW90ZQ%3D%3D?line=21'>22</a>\u001b[0m         \u001b[39mprint\u001b[39m(cleaned_individual_filepath)\n\u001b[1;32m     <a href='vscode-notebook-cell://app-5034146-0.cloud.sdu.dk/work/Visual_analytics/cds-vis/assignments/assignment-3/main.ipynb#W2sdnNjb2RlLXJlbW90ZQ%3D%3D?line=22'>23</a>\u001b[0m         \u001b[39m# Load image from file\u001b[39;00m\n",
      "\u001b[1;32m/work/Visual_analytics/cds-vis/assignments/assignment-3/main.ipynb Cell 6\u001b[0m line \u001b[0;36m1\n\u001b[1;32m      <a href='vscode-notebook-cell://app-5034146-0.cloud.sdu.dk/work/Visual_analytics/cds-vis/assignments/assignment-3/main.ipynb#W2sdnNjb2RlLXJlbW90ZQ%3D%3D?line=7'>8</a>\u001b[0m splitted_title[\u001b[39m-\u001b[39m\u001b[39m1\u001b[39m] \u001b[39m=\u001b[39m \u001b[39m\"\u001b[39m\u001b[39m.\u001b[39m\u001b[39m\"\u001b[39m \u001b[39m+\u001b[39m splitted_title[\u001b[39m-\u001b[39m\u001b[39m1\u001b[39m] \u001b[39m# add . before the fileformat\u001b[39;00m\n\u001b[1;32m      <a href='vscode-notebook-cell://app-5034146-0.cloud.sdu.dk/work/Visual_analytics/cds-vis/assignments/assignment-3/main.ipynb#W2sdnNjb2RlLXJlbW90ZQ%3D%3D?line=8'>9</a>\u001b[0m splitted_title \u001b[39m=\u001b[39m \u001b[39m\"\u001b[39m\u001b[39m\"\u001b[39m\u001b[39m.\u001b[39mjoin(splitted_title)\n\u001b[0;32m---> <a href='vscode-notebook-cell://app-5034146-0.cloud.sdu.dk/work/Visual_analytics/cds-vis/assignments/assignment-3/main.ipynb#W2sdnNjb2RlLXJlbW90ZQ%3D%3D?line=10'>11</a>\u001b[0m \u001b[39mreturn\u001b[39;00m cleaned_filepath\n",
      "\u001b[0;31mNameError\u001b[0m: name 'cleaned_filepath' is not defined"
     ]
    }
   ],
   "source": [
    "folder_path = os.path.join(\"../../../../cds-vis-data/Tobacco3482\")\n",
    "\n",
    "# loop through each file (image) in each of the 10 subfolders\n",
    "# save images in a list (list_of_images)\n",
    "# list with name of the given folder (list_of_labels)\n",
    "\n",
    "for subfolder in sorted(os.listdir(folder_path)):\n",
    "\n",
    "        # Initialize empty lists\n",
    "        list_of_images = [] \n",
    "        list_of_labels = []\n",
    "\n",
    "        # Extract images from the individual folders\n",
    "        subfolder_path  = os.path.join(folder_path, subfolder)\n",
    "\n",
    "        for file in os.listdir(subfolder_path):\n",
    "                \n",
    "                individual_filepath = os.path.join(subfolder_path, file)\n",
    "                \n",
    "                cleaned_individual_filepath = title_cleaner(individual_filepath)\n",
    "                print(cleaned_individual_filepath)\n",
    "                \n",
    "                # Load image from file\n",
    "                image = load_img(cleaned_individual_filepath, target_size = (224, 224))\n",
    "\n",
    "                # Extract image name and append to list\n",
    "                image_name = cleaned_individual_filepath.split(\"/\")[-1]\n",
    "                list_of_images.append(image_name)\n",
    "\n",
    "                # Extract label and append to list\n",
    "                label = subfolder_path.split(\"/\")[-1]\n",
    "                list_of_labels.append(label)\n",
    "\n",
    "        # Extract label (i.e., name of folder)\n",
    "\n",
    "        # generate label\n",
    "\n",
    "        #liste af billede-objekter\n",
    "        #liste af\n",
    "\n",
    "        # empty list and append\n"
   ]
  },
  {
   "cell_type": "code",
   "execution_count": 5,
   "metadata": {},
   "outputs": [],
   "source": [
    "\n",
    "def load_images(filepath):\n",
    "\n",
    "    for subfolder in sorted(os.listdir(folder_path)):\n",
    "\n",
    "            # Initialize empty lists\n",
    "            list_of_images = [] \n",
    "            list_of_labels = []\n",
    "\n",
    "            # Extract images from the individual folders\n",
    "            subfolder_path  = os.path.join(folder_path, subfolder)\n",
    "\n",
    "            for file in os.listdir(subfolder_path):\n",
    "                    \n",
    "                    individual_filepath = os.path.join(subfolder_path, file)\n",
    "                    \n",
    "                    # Load image from file\n",
    "                    image = load_img(individual_filepath, target_size = (224, 224))\n",
    "                                    \n",
    "                    # Extract label and append to list\n",
    "                    label = subfolder_path.split(\"/\")[-1]\n",
    "                    list_of_labels.append(label)\n",
    "\n",
    "                    # Extract image name and append to list\n",
    "                    image_name = individual_filepath.split(\"/\")[-1]\n",
    "                    list_of_images.append(image_name)\n",
    "\n",
    "    return list_of_labels, list_of_images\n",
    "\n",
    "#labelNames = [\"ADVE\", \"Email\", \"Form\", \"Letter\",  \"Memo\", \"News\", \"Note\", \"Report\", \"Resume\", \"Scientific\"]"
   ]
  },
  {
   "cell_type": "code",
   "execution_count": null,
   "metadata": {},
   "outputs": [],
   "source": [
    "def preprocess_images():\n",
    "    \n",
    "    # convert the image pixels to a numpy array\n",
    "    image = img_to_array(image) \n",
    "\n",
    "    # make 4D tensor\n",
    "    # reshape data (to 4D array) for the model\n",
    "    # shape = (number of images, height, width, number of color-channels)\n",
    "    image = image.reshape((1, image.shape[0], image.shape[1], image.shape[2]))\n",
    "    \n",
    "    # prepare the image for the VGG model\n",
    "    image = preprocess_input(image)\n",
    "    #....\n",
    "\n",
    "    return "
   ]
  },
  {
   "cell_type": "code",
   "execution_count": null,
   "metadata": {},
   "outputs": [],
   "source": [
    "# load the model\n",
    "model = VGG16()\n",
    "\n",
    "# skal vi alle gøre - load model without classifier layers\n",
    "model = VGG16(include_top = False,        # dont use the final layer of the classifier\n",
    "              pooling = 'avg',\n",
    "              input_shape = (32, 32, 3))  # (height, width, number of color-channels)\n",
    "\n",
    "# skal vi alle gøre - mark loaded layers as not trainable\n",
    "for layer in model.layers:\n",
    "    layer.trainable = False   # for each layer in the model layers, freeze them --> meaning dont allow them to be trained\n",
    "\n",
    "##### Ida - clean model!\n",
    "flat1 = Flatten()(model.layers[-1].output)  # take final layer (-1) in the model and append to flat1\n",
    "class1 = Dense(128, activation = 'relu')(flat1)\n",
    "output = Dense(10, activation = 'softmax')(class1)\n",
    "\n",
    "##### Laura - BatchNormalization!\n",
    "flat1 = Flatten()(model.layers[-1].output)\n",
    "bn = BatchNormalization()(flat1)\n",
    "class1 = Dense(128, \n",
    "               activation='relu')(bn)\n",
    "output = Dense(10, \n",
    "               activation='softmax')(class2)\n",
    "\n",
    "##### Sofie - data argumentation!\n",
    "datagen = ImageDataGenerator(horizontal_flip = True, \n",
    "                             rotation_range = 20,\n",
    "                             validation_split = 0.1)\n",
    "\n",
    "\n",
    "# alle - define new model\n",
    "model = Model(inputs = model.inputs, outputs = output)\n",
    "\n",
    "\n",
    "# compile\n",
    "lr_schedule = tf.keras.optimizers.schedules.ExponentialDecay(initial_learning_rate = 0.01,\n",
    "                                                            decay_steps = 10000,\n",
    "                                                            decay_rate = 0.9)\n",
    "\n",
    "sgd = SGD(learning_rate=lr_schedule)\n",
    "#adam = Adam(learning_rate=lr_schedule)\n",
    "\n",
    "model.compile(optimizer = sgd,\n",
    "              loss = 'categorical_crossentropy',\n",
    "              metrics = ['accuracy'])"
   ]
  },
  {
   "cell_type": "code",
   "execution_count": null,
   "metadata": {},
   "outputs": [],
   "source": [
    "def main():\n",
    "    filepath = os.path.join(\"../../../../cds-vis-data/Tobacco3482/\") # change to in for the final script\n",
    "    \n",
    "    load_images(filepath)\n",
    "    \n",
    "    preprocess_images"
   ]
  }
 ],
 "metadata": {
  "kernelspec": {
   "display_name": "Python 3",
   "language": "python",
   "name": "python3"
  },
  "language_info": {
   "codemirror_mode": {
    "name": "ipython",
    "version": 3
   },
   "file_extension": ".py",
   "mimetype": "text/x-python",
   "name": "python",
   "nbconvert_exporter": "python",
   "pygments_lexer": "ipython3",
   "version": "3.10.12"
  }
 },
 "nbformat": 4,
 "nbformat_minor": 2
}
