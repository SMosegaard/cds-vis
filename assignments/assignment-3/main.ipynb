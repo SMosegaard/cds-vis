{
 "cells": [
  {
   "cell_type": "code",
   "execution_count": 1,
   "metadata": {},
   "outputs": [
    {
     "name": "stderr",
     "output_type": "stream",
     "text": [
      "2024-04-09 16:06:59.530667: I external/local_tsl/tsl/cuda/cudart_stub.cc:32] Could not find cuda drivers on your machine, GPU will not be used.\n",
      "2024-04-09 16:06:59.535140: I external/local_tsl/tsl/cuda/cudart_stub.cc:32] Could not find cuda drivers on your machine, GPU will not be used.\n",
      "2024-04-09 16:06:59.590349: I tensorflow/core/platform/cpu_feature_guard.cc:210] This TensorFlow binary is optimized to use available CPU instructions in performance-critical operations.\n",
      "To enable the following instructions: AVX2 AVX512F FMA, in other operations, rebuild TensorFlow with the appropriate compiler flags.\n",
      "2024-04-09 16:07:00.833457: W tensorflow/compiler/tf2tensorrt/utils/py_utils.cc:38] TF-TRT Warning: Could not find TensorRT\n"
     ]
    }
   ],
   "source": [
    "import os\n",
    "import tensorflow as tf\n",
    "\n",
    "from PIL import UnidentifiedImageError\n",
    "\n",
    "# image processsing\n",
    "from tensorflow.keras.preprocessing.image import (load_img,\n",
    "                                                  img_to_array,\n",
    "                                                  ImageDataGenerator)\n",
    "\n",
    "# VGG16 model\n",
    "from tensorflow.keras.applications.vgg16 import (preprocess_input,\n",
    "                                                 decode_predictions,\n",
    "                                                 VGG16)\n",
    "\n",
    "# layers\n",
    "from tensorflow.keras.layers import (Flatten, \n",
    "                                     Dense, \n",
    "                                     Dropout, \n",
    "                                     BatchNormalization)\n",
    "\n",
    "# generic model object\n",
    "from tensorflow.keras.models import Model\n",
    "\n",
    "# optimizers\n",
    "from tensorflow.keras.optimizers.schedules import ExponentialDecay\n",
    "from tensorflow.keras.optimizers import SGD, Adam\n",
    "\n",
    "#scikit-learn\n",
    "from sklearn.preprocessing import LabelBinarizer\n",
    "from sklearn.metrics import classification_report\n",
    "from sklearn.model_selection import train_test_split\n",
    "\n",
    "# for plotting\n",
    "import numpy as np\n",
    "import matplotlib.pyplot as plt"
   ]
  },
  {
   "cell_type": "code",
   "execution_count": null,
   "metadata": {},
   "outputs": [],
   "source": [
    "filepath = os.path.join(\"../../../../cds-vis-data/Tobacco3482/\")\n",
    "image = load_img(filepath, target_size = (224, 224))"
   ]
  },
  {
   "cell_type": "code",
   "execution_count": 42,
   "metadata": {},
   "outputs": [
    {
     "name": "stdout",
     "output_type": "stream",
     "text": [
      "tob06517.41_tob0651742.jpg\n",
      "['tob06517', '41_tob0651742', 'jpg']\n",
      "tob0651741_tob0651742.jpg\n"
     ]
    }
   ],
   "source": [
    "filepath = os.path.join(\"../../../../cds-vis-data/Tobacco3482/ADVE/tob06517.41_tob0651742.jpg\")\n",
    "title = filepath.split(\"/\")[-1]\n",
    "print(title)\n",
    "test_title = title.split(\".\")\n",
    "print(test_title)\n",
    "\n",
    "test_title[-1] = \".\" + test_title[-1]\n",
    "\n",
    "test_title = \"\".join(test_title)\n",
    "print(test_title)"
   ]
  },
  {
   "cell_type": "code",
   "execution_count": 40,
   "metadata": {},
   "outputs": [
    {
     "data": {
      "text/plain": [
       "str"
      ]
     },
     "execution_count": 40,
     "metadata": {},
     "output_type": "execute_result"
    }
   ],
   "source": [
    "type(test_title[0])"
   ]
  },
  {
   "cell_type": "code",
   "execution_count": 48,
   "metadata": {},
   "outputs": [],
   "source": [
    "# clean image titles\n",
    "\n",
    "def title_cleaner(filepath):\n",
    "\n",
    "    title = filepath.split(\"/\")[-1]\n",
    "\n",
    "    splitted_title = title.split(\".\")\n",
    "    splitted_title[-1] = \".\" + splitted_title[-1] # add . before the fileformat\n",
    "    splitted_title = \"\".join(splitted_title)\n",
    "    \n",
    "    return cleaned_filepath\n"
   ]
  },
  {
   "cell_type": "code",
   "execution_count": 39,
   "metadata": {},
   "outputs": [
    {
     "name": "stdout",
     "output_type": "stream",
     "text": [
      "Skipping ../../../../cds-vis-data/Tobacco3482/ADVE/Thumbs.db\n",
      "Skipping ../../../../cds-vis-data/Tobacco3482/Email/Thumbs.db\n",
      "Skipping ../../../../cds-vis-data/Tobacco3482/Form/Thumbs.db\n",
      "Skipping ../../../../cds-vis-data/Tobacco3482/Letter/Thumbs.db\n",
      "Skipping ../../../../cds-vis-data/Tobacco3482/Memo/Thumbs.db\n",
      "Skipping ../../../../cds-vis-data/Tobacco3482/News/Thumbs.db\n",
      "Skipping ../../../../cds-vis-data/Tobacco3482/Note/Thumbs.db\n",
      "Skipping ../../../../cds-vis-data/Tobacco3482/Report/Thumbs.db\n",
      "Skipping ../../../../cds-vis-data/Tobacco3482/Resume/Thumbs.db\n",
      "Skipping ../../../../cds-vis-data/Tobacco3482/Scientific/Thumbs.db\n"
     ]
    }
   ],
   "source": [
    "folder_path = os.path.join(\"../../../../cds-vis-data/Tobacco3482\")\n",
    "\n",
    "# Initialize empty lists\n",
    "list_of_images = [] \n",
    "list_of_labels = []\n",
    "\n",
    "# Loop through subfolders\n",
    "for subfolder in sorted(os.listdir(folder_path)):\n",
    "\n",
    "        # Extract images from the individual folders\n",
    "        subfolder_path  = os.path.join(folder_path, subfolder)\n",
    "\n",
    "        for file in os.listdir(subfolder_path):\n",
    "                \n",
    "                individual_filepath = os.path.join(subfolder_path, file)\n",
    "\n",
    "                try:\n",
    "                        # Load image from file\n",
    "                        image = load_img(individual_filepath, target_size = (224, 224))\n",
    "                        \n",
    "                        #list_of_images.append(image)\n",
    "\n",
    "                        # Extract image name and append to list\n",
    "                        #image_name = individual_filepath.split(\"/\")[-1]\n",
    "                        #list_of_images.append(image_name)\n",
    "\n",
    "                        # Extract label and append to list\n",
    "                        label = subfolder_path.split(\"/\")[-1]\n",
    "                        #list_of_labels.append(label)\n",
    "                        \n",
    "                        # Append the preprocessed image along with its label as a tuple\n",
    "                        list_of_images.append((image, label))\n",
    "\n",
    "                except (UnidentifiedImageError):\n",
    "                        print(f\"Skipping {individual_filepath}\")\n",
    "\n"
   ]
  },
  {
   "cell_type": "code",
   "execution_count": 11,
   "metadata": {},
   "outputs": [],
   "source": [
    "def load_images(folder_path):\n",
    "        \n",
    "        # Initialize empty lists\n",
    "        list_of_images = [] \n",
    "        list_of_labels = []\n",
    "\n",
    "        for subfolder in sorted(os.listdir(folder_path)):\n",
    "                \n",
    "                # Extract images from the individual folders\n",
    "                subfolder_path  = os.path.join(folder_path, subfolder)\n",
    "                \n",
    "                for file in os.listdir(subfolder_path):\n",
    "                        \n",
    "                        individual_filepath = os.path.join(subfolder_path, file)\n",
    "                        \n",
    "                        try:\n",
    "                                # Load image from file\n",
    "                                image = load_img(individual_filepath, target_size = (224, 224))\n",
    "                                list_of_images.append(image)\n",
    "\n",
    "                                # Extract image name and append to list\n",
    "                                #image_name = individual_filepath.split(\"/\")[-1]\n",
    "                                #list_of_images.append(image_name)\n",
    "\n",
    "                                # Extract label and append to list\n",
    "                                label = subfolder_path.split(\"/\")[-1]\n",
    "                                list_of_labels.append(label)\n",
    "                \n",
    "                        except (UnidentifiedImageError):\n",
    "                                print(f\"Skipping {individual_filepath}\")\n",
    "\n",
    "        return list_of_images, list_of_labels"
   ]
  },
  {
   "cell_type": "code",
   "execution_count": 46,
   "metadata": {},
   "outputs": [],
   "source": [
    "preprocessed_images = []\n",
    "\n",
    "for image_tuple in list_of_images:\n",
    "    image = image_tuple[0]  # Extract the image from the tuple\n",
    "    label = image_tuple[1]  # Extract the label from the tuple\n",
    "\n",
    "    # Convert the image pixels to a numpy array\n",
    "    image_array = img_to_array(image)\n",
    "\n",
    "    # reshape data to 4D tensor (shape = [number of images, height, width, number of color-channels])\n",
    "    image = image.reshape((1, image.shape[0], image.shape[1], image.shape[2]))\n",
    "\n",
    "    # prepare the image for the VGG model\n",
    "    image = preprocess_input(image)\n",
    "    \n",
    "    # append the preprocessed image along with its label as a tuple\n",
    "    preprocessed_images.append(image)\n"
   ]
  },
  {
   "cell_type": "code",
   "execution_count": 21,
   "metadata": {},
   "outputs": [],
   "source": [
    "\n",
    "def preprocess_images_old(list_of_images):\n",
    "\n",
    "    # Initialize empty lists\n",
    "    preprocessed_images = []\n",
    "\n",
    "    for image_tuple in list_of_images:\n",
    "        image = image_tuple[0]  # Extract the image from the tuple\n",
    "        label = image_tuple[1]\n",
    "\n",
    "        # convert the image pixels to a numpy array\n",
    "        image = img_to_array(image) \n",
    "\n",
    "        # reshape data to 4D tensor (shape = [number of images, height, width, number of color-channels])\n",
    "        image = image.reshape((1, image.shape[0], image.shape[1], image.shape[2]))\n",
    "        \n",
    "        # prepare the image for the VGG model\n",
    "        image = preprocess_input(image)\n",
    "\n",
    "        # append to list\n",
    "        preprocessed_images.append(image)\n",
    "\n",
    "    return preprocessed_images\n"
   ]
  },
  {
   "cell_type": "code",
   "execution_count": 118,
   "metadata": {},
   "outputs": [],
   "source": [
    "# Finetune the VGG16 model on new data\n",
    "\n",
    "# Split data into train and test:\n",
    "\n",
    "# Extract images and labels from the tuble into separate lists\n",
    "X = np.array([image for image, label in preprocessed_images])\n",
    "y = np.array([label for image, label in preprocessed_images])\n",
    "\n",
    "# Split data into training and testing sets. 'stratify' ensures that all labels are represented in both sets\n",
    "X_train, X_test, y_train, y_test = train_test_split(X, y, test_size = 0.2, stratify = y, random_state = 123)\n",
    "\n",
    "# normalize\n",
    "X_train = X_train.astype(\"float32\") / 255.\n",
    "X_test = X_test.astype(\"float32\") / 255.\n",
    "\n",
    "# one-hot encondings\n",
    "lb = LabelBinarizer()\n",
    "y_train = lb.fit_transform(y_train)   # shape (2785, 10)\n",
    "y_test = lb.fit_transform(y_test)     # shape (697, 10)\n",
    "\n",
    "# Tensor shape 4D (num of images, 224, 224, 3)\n",
    "X_train = np.reshape(X_train, (X_train.shape[0],) + X_train.shape[2:])  # shape (2785, 224, 224, 3)\n",
    "X_test = np.reshape(X_test, (X_test.shape[0],) + X_test.shape[2:])      # shape (697, 224, 224, 3)\n",
    "\n",
    "# Scale image features\n",
    "#def scale(X):\n",
    "#    scaled_images  = X  / 255.0\n",
    "#    return scaled_images "
   ]
  },
  {
   "cell_type": "markdown",
   "metadata": {},
   "source": [
    "Vi kører alle\n",
    "```\n",
    "model = VGG16()\n",
    "\n",
    "# skal vi alle gøre - load model without classifier layers\n",
    "model = VGG16(include_top = False,        # dont use the final layer of the classifier\n",
    "              pooling = 'avg',\n",
    "              input_shape = (32, 32, 3))  # (height, width, number of color-channels)\n",
    "\n",
    "# skal vi alle gøre - mark loaded layers as not trainable\n",
    "for layer in model.layers:\n",
    "    layer.trainable = False\n",
    "```\n",
    "\n",
    "1. Ida kører clean model:\n",
    "```\n",
    "flat1 = Flatten()(model.layers[-1].output)  # take final layer (-1) in the model and append to flat1\n",
    "class1 = Dense(128, activation = 'relu')(flat1)\n",
    "output = Dense(10, activation = 'softmax')(class1)\n",
    "```\n",
    "\n",
    "2. Laura kører BatchNorm\n",
    "```\n",
    "flat1 = Flatten()(model.layers[-1].output)\n",
    "bn = BatchNormalization()(flat1)\n",
    "class1 = Dense(128, \n",
    "               activation='relu')(bn)\n",
    "output = Dense(10, \n",
    "               activation='softmax')(class2)\n",
    "```\n",
    "\n",
    "3. Jeg Sofie kører data argumentation - nedenstående\n",
    "\n",
    "4. Alle kører både sgd og adam!\n",
    "```\n",
    "sgd = SGD(learning_rate=lr_schedule)\n",
    "adam = Adam(learning_rate=lr_schedule)\n",
    "```"
   ]
  },
  {
   "cell_type": "code",
   "execution_count": null,
   "metadata": {},
   "outputs": [],
   "source": [
    "# load model without classifier layers\n",
    "model = VGG16(include_top = False, \n",
    "              pooling = 'avg',\n",
    "              input_shape = (224, 224, 3)) ###???? er input_shape samme som Ross (32, 32, 3) eller vores (1, 224, 224, 3)???\n",
    "\n",
    "# mark loaded layers as not trainable\n",
    "for layer in model.layers:\n",
    "    layer.trainable = False\n",
    "    \n",
    "# add new classifier layers\n",
    "flat1 = Flatten()(model.layers[-1].output)\n",
    "bn = BatchNormalization()(flat1)\n",
    "class2 = Dense(128, \n",
    "               activation='relu')(bn)\n",
    "output = Dense(10, \n",
    "               activation='softmax')(class2)\n",
    "\n",
    "# define new model\n",
    "model = Model(inputs = model.inputs, \n",
    "              outputs = output)\n",
    "\n",
    "# compile\n",
    "lr_schedule = tf.keras.optimizers.schedules.ExponentialDecay(\n",
    "    initial_learning_rate = 0.01,\n",
    "    decay_steps = 10000,\n",
    "    decay_rate = 0.9)\n",
    "    \n",
    "sgd = SGD(learning_rate=lr_schedule)\n",
    "#adam = Adam(learning_rate=lr_schedule)\n",
    "\n",
    "model.compile(optimizer = sgd,\n",
    "              loss = 'categorical_crossentropy',\n",
    "              metrics = ['accuracy'])\n",
    "# summarize\n",
    "model.summary()"
   ]
  },
  {
   "cell_type": "code",
   "execution_count": 98,
   "metadata": {},
   "outputs": [],
   "source": [
    "# Define data generator\n",
    "\n",
    "# Add noise to an image\n",
    "def add_noise(img):\n",
    "    noise = np.random.normal(0, scale = 25, size = img.shape)\n",
    "    noisy_image = np.clip(image + noise, 0, 255) #.astype(np.uint8)\n",
    "    return noisy_image\n",
    "\n",
    "# flip along x axis (mirror image)\n",
    "datagen = ImageDataGenerator(horizontal_flip = True, \n",
    "                             rotation_range = 90,\n",
    "                             preprocessing_function = add_noise,\n",
    "                             validation_split = 0.1)\n"
   ]
  },
  {
   "cell_type": "code",
   "execution_count": 123,
   "metadata": {},
   "outputs": [
    {
     "name": "stdout",
     "output_type": "stream",
     "text": [
      "Epoch 1/5\n"
     ]
    },
    {
     "name": "stderr",
     "output_type": "stream",
     "text": [
      "/home/ucloud/.local/lib/python3.10/site-packages/keras/src/trainers/data_adapters/py_dataset_adapter.py:120: UserWarning: Your `PyDataset` class should call `super().__init__(**kwargs)` in its constructor. `**kwargs` can include `workers`, `use_multiprocessing`, `max_queue_size`. Do not pass these arguments to `fit()`, as they will be ignored.\n",
      "  self._warn_if_super_not_called()\n",
      "2024-04-09 17:31:05.016916: I tensorflow/core/kernels/data/shuffle_dataset_op.cc:450] ShuffleDatasetV3:2: Filling up shuffle buffer (this may take a while): 6 of 8\n",
      "2024-04-09 17:31:08.591674: I tensorflow/core/kernels/data/shuffle_dataset_op.cc:480] Shuffle buffer filled.\n"
     ]
    },
    {
     "name": "stdout",
     "output_type": "stream",
     "text": [
      "\u001b[1m 8/22\u001b[0m \u001b[32m━━━━━━━\u001b[0m\u001b[37m━━━━━━━━━━━━━\u001b[0m \u001b[1m4:14\u001b[0m 18s/step - accuracy: 0.1111 - loss: 2.5113"
     ]
    },
    {
     "ename": "KeyboardInterrupt",
     "evalue": "",
     "output_type": "error",
     "traceback": [
      "\u001b[0;31m---------------------------------------------------------------------------\u001b[0m",
      "\u001b[0;31mKeyboardInterrupt\u001b[0m                         Traceback (most recent call last)",
      "\u001b[1;32m/work/Visual_analytics/cds-vis/assignments/assignment-3/main.ipynb Cell 14\u001b[0m line \u001b[0;36m7\n\u001b[1;32m      <a href='vscode-notebook-cell://app-5034275-0.cloud.sdu.dk/work/Visual_analytics/cds-vis/assignments/assignment-3/main.ipynb#X54sdnNjb2RlLXJlbW90ZQ%3D%3D?line=3'>4</a>\u001b[0m datagen\u001b[39m.\u001b[39mfit(X_train)\n\u001b[1;32m      <a href='vscode-notebook-cell://app-5034275-0.cloud.sdu.dk/work/Visual_analytics/cds-vis/assignments/assignment-3/main.ipynb#X54sdnNjb2RlLXJlbW90ZQ%3D%3D?line=5'>6</a>\u001b[0m \u001b[39m# fits the model on batches with real-time data augmentation:\u001b[39;00m\n\u001b[0;32m----> <a href='vscode-notebook-cell://app-5034275-0.cloud.sdu.dk/work/Visual_analytics/cds-vis/assignments/assignment-3/main.ipynb#X54sdnNjb2RlLXJlbW90ZQ%3D%3D?line=6'>7</a>\u001b[0m H \u001b[39m=\u001b[39m model\u001b[39m.\u001b[39;49mfit(datagen\u001b[39m.\u001b[39;49mflow(X_train, y_train, batch_size \u001b[39m=\u001b[39;49m \u001b[39m128\u001b[39;49m), \n\u001b[1;32m      <a href='vscode-notebook-cell://app-5034275-0.cloud.sdu.dk/work/Visual_analytics/cds-vis/assignments/assignment-3/main.ipynb#X54sdnNjb2RlLXJlbW90ZQ%3D%3D?line=7'>8</a>\u001b[0m                             validation_data \u001b[39m=\u001b[39;49m datagen\u001b[39m.\u001b[39;49mflow(X_train, y_train, \n\u001b[1;32m      <a href='vscode-notebook-cell://app-5034275-0.cloud.sdu.dk/work/Visual_analytics/cds-vis/assignments/assignment-3/main.ipynb#X54sdnNjb2RlLXJlbW90ZQ%3D%3D?line=8'>9</a>\u001b[0m                                                            batch_size \u001b[39m=\u001b[39;49m \u001b[39m128\u001b[39;49m, \n\u001b[1;32m     <a href='vscode-notebook-cell://app-5034275-0.cloud.sdu.dk/work/Visual_analytics/cds-vis/assignments/assignment-3/main.ipynb#X54sdnNjb2RlLXJlbW90ZQ%3D%3D?line=9'>10</a>\u001b[0m                                                            subset \u001b[39m=\u001b[39;49m \u001b[39m\"\u001b[39;49m\u001b[39mvalidation\u001b[39;49m\u001b[39m\"\u001b[39;49m),\n\u001b[1;32m     <a href='vscode-notebook-cell://app-5034275-0.cloud.sdu.dk/work/Visual_analytics/cds-vis/assignments/assignment-3/main.ipynb#X54sdnNjb2RlLXJlbW90ZQ%3D%3D?line=10'>11</a>\u001b[0m                                                            epochs \u001b[39m=\u001b[39;49m \u001b[39m5\u001b[39;49m)   \u001b[39m# training for less time\u001b[39;00m\n",
      "File \u001b[0;32m~/.local/lib/python3.10/site-packages/keras/src/utils/traceback_utils.py:117\u001b[0m, in \u001b[0;36mfilter_traceback.<locals>.error_handler\u001b[0;34m(*args, **kwargs)\u001b[0m\n\u001b[1;32m    115\u001b[0m filtered_tb \u001b[39m=\u001b[39m \u001b[39mNone\u001b[39;00m\n\u001b[1;32m    116\u001b[0m \u001b[39mtry\u001b[39;00m:\n\u001b[0;32m--> 117\u001b[0m     \u001b[39mreturn\u001b[39;00m fn(\u001b[39m*\u001b[39;49margs, \u001b[39m*\u001b[39;49m\u001b[39m*\u001b[39;49mkwargs)\n\u001b[1;32m    118\u001b[0m \u001b[39mexcept\u001b[39;00m \u001b[39mException\u001b[39;00m \u001b[39mas\u001b[39;00m e:\n\u001b[1;32m    119\u001b[0m     filtered_tb \u001b[39m=\u001b[39m _process_traceback_frames(e\u001b[39m.\u001b[39m__traceback__)\n",
      "File \u001b[0;32m~/.local/lib/python3.10/site-packages/keras/src/backend/tensorflow/trainer.py:329\u001b[0m, in \u001b[0;36mTensorFlowTrainer.fit\u001b[0;34m(self, x, y, batch_size, epochs, verbose, callbacks, validation_split, validation_data, shuffle, class_weight, sample_weight, initial_epoch, steps_per_epoch, validation_steps, validation_batch_size, validation_freq)\u001b[0m\n\u001b[1;32m    327\u001b[0m \u001b[39mfor\u001b[39;00m step, iterator \u001b[39min\u001b[39;00m epoch_iterator\u001b[39m.\u001b[39menumerate_epoch():\n\u001b[1;32m    328\u001b[0m     callbacks\u001b[39m.\u001b[39mon_train_batch_begin(step)\n\u001b[0;32m--> 329\u001b[0m     logs \u001b[39m=\u001b[39m \u001b[39mself\u001b[39;49m\u001b[39m.\u001b[39;49mtrain_function(iterator)\n\u001b[1;32m    330\u001b[0m     callbacks\u001b[39m.\u001b[39mon_train_batch_end(\n\u001b[1;32m    331\u001b[0m         step, \u001b[39mself\u001b[39m\u001b[39m.\u001b[39m_pythonify_logs(logs)\n\u001b[1;32m    332\u001b[0m     )\n\u001b[1;32m    333\u001b[0m     \u001b[39mif\u001b[39;00m \u001b[39mself\u001b[39m\u001b[39m.\u001b[39mstop_training:\n",
      "File \u001b[0;32m~/.local/lib/python3.10/site-packages/tensorflow/python/util/traceback_utils.py:150\u001b[0m, in \u001b[0;36mfilter_traceback.<locals>.error_handler\u001b[0;34m(*args, **kwargs)\u001b[0m\n\u001b[1;32m    148\u001b[0m filtered_tb \u001b[39m=\u001b[39m \u001b[39mNone\u001b[39;00m\n\u001b[1;32m    149\u001b[0m \u001b[39mtry\u001b[39;00m:\n\u001b[0;32m--> 150\u001b[0m   \u001b[39mreturn\u001b[39;00m fn(\u001b[39m*\u001b[39;49margs, \u001b[39m*\u001b[39;49m\u001b[39m*\u001b[39;49mkwargs)\n\u001b[1;32m    151\u001b[0m \u001b[39mexcept\u001b[39;00m \u001b[39mException\u001b[39;00m \u001b[39mas\u001b[39;00m e:\n\u001b[1;32m    152\u001b[0m   filtered_tb \u001b[39m=\u001b[39m _process_traceback_frames(e\u001b[39m.\u001b[39m__traceback__)\n",
      "File \u001b[0;32m~/.local/lib/python3.10/site-packages/tensorflow/python/eager/polymorphic_function/polymorphic_function.py:833\u001b[0m, in \u001b[0;36mFunction.__call__\u001b[0;34m(self, *args, **kwds)\u001b[0m\n\u001b[1;32m    830\u001b[0m compiler \u001b[39m=\u001b[39m \u001b[39m\"\u001b[39m\u001b[39mxla\u001b[39m\u001b[39m\"\u001b[39m \u001b[39mif\u001b[39;00m \u001b[39mself\u001b[39m\u001b[39m.\u001b[39m_jit_compile \u001b[39melse\u001b[39;00m \u001b[39m\"\u001b[39m\u001b[39mnonXla\u001b[39m\u001b[39m\"\u001b[39m\n\u001b[1;32m    832\u001b[0m \u001b[39mwith\u001b[39;00m OptionalXlaContext(\u001b[39mself\u001b[39m\u001b[39m.\u001b[39m_jit_compile):\n\u001b[0;32m--> 833\u001b[0m   result \u001b[39m=\u001b[39m \u001b[39mself\u001b[39;49m\u001b[39m.\u001b[39;49m_call(\u001b[39m*\u001b[39;49margs, \u001b[39m*\u001b[39;49m\u001b[39m*\u001b[39;49mkwds)\n\u001b[1;32m    835\u001b[0m new_tracing_count \u001b[39m=\u001b[39m \u001b[39mself\u001b[39m\u001b[39m.\u001b[39mexperimental_get_tracing_count()\n\u001b[1;32m    836\u001b[0m without_tracing \u001b[39m=\u001b[39m (tracing_count \u001b[39m==\u001b[39m new_tracing_count)\n",
      "File \u001b[0;32m~/.local/lib/python3.10/site-packages/tensorflow/python/eager/polymorphic_function/polymorphic_function.py:878\u001b[0m, in \u001b[0;36mFunction._call\u001b[0;34m(self, *args, **kwds)\u001b[0m\n\u001b[1;32m    875\u001b[0m \u001b[39mself\u001b[39m\u001b[39m.\u001b[39m_lock\u001b[39m.\u001b[39mrelease()\n\u001b[1;32m    876\u001b[0m \u001b[39m# In this case we have not created variables on the first call. So we can\u001b[39;00m\n\u001b[1;32m    877\u001b[0m \u001b[39m# run the first trace but we should fail if variables are created.\u001b[39;00m\n\u001b[0;32m--> 878\u001b[0m results \u001b[39m=\u001b[39m tracing_compilation\u001b[39m.\u001b[39;49mcall_function(\n\u001b[1;32m    879\u001b[0m     args, kwds, \u001b[39mself\u001b[39;49m\u001b[39m.\u001b[39;49m_variable_creation_config\n\u001b[1;32m    880\u001b[0m )\n\u001b[1;32m    881\u001b[0m \u001b[39mif\u001b[39;00m \u001b[39mself\u001b[39m\u001b[39m.\u001b[39m_created_variables:\n\u001b[1;32m    882\u001b[0m   \u001b[39mraise\u001b[39;00m \u001b[39mValueError\u001b[39;00m(\u001b[39m\"\u001b[39m\u001b[39mCreating variables on a non-first call to a function\u001b[39m\u001b[39m\"\u001b[39m\n\u001b[1;32m    883\u001b[0m                    \u001b[39m\"\u001b[39m\u001b[39m decorated with tf.function.\u001b[39m\u001b[39m\"\u001b[39m)\n",
      "File \u001b[0;32m~/.local/lib/python3.10/site-packages/tensorflow/python/eager/polymorphic_function/tracing_compilation.py:139\u001b[0m, in \u001b[0;36mcall_function\u001b[0;34m(args, kwargs, tracing_options)\u001b[0m\n\u001b[1;32m    137\u001b[0m bound_args \u001b[39m=\u001b[39m function\u001b[39m.\u001b[39mfunction_type\u001b[39m.\u001b[39mbind(\u001b[39m*\u001b[39margs, \u001b[39m*\u001b[39m\u001b[39m*\u001b[39mkwargs)\n\u001b[1;32m    138\u001b[0m flat_inputs \u001b[39m=\u001b[39m function\u001b[39m.\u001b[39mfunction_type\u001b[39m.\u001b[39munpack_inputs(bound_args)\n\u001b[0;32m--> 139\u001b[0m \u001b[39mreturn\u001b[39;00m function\u001b[39m.\u001b[39;49m_call_flat(  \u001b[39m# pylint: disable=protected-access\u001b[39;49;00m\n\u001b[1;32m    140\u001b[0m     flat_inputs, captured_inputs\u001b[39m=\u001b[39;49mfunction\u001b[39m.\u001b[39;49mcaptured_inputs\n\u001b[1;32m    141\u001b[0m )\n",
      "File \u001b[0;32m~/.local/lib/python3.10/site-packages/tensorflow/python/eager/polymorphic_function/concrete_function.py:1322\u001b[0m, in \u001b[0;36mConcreteFunction._call_flat\u001b[0;34m(self, tensor_inputs, captured_inputs)\u001b[0m\n\u001b[1;32m   1318\u001b[0m possible_gradient_type \u001b[39m=\u001b[39m gradients_util\u001b[39m.\u001b[39mPossibleTapeGradientTypes(args)\n\u001b[1;32m   1319\u001b[0m \u001b[39mif\u001b[39;00m (possible_gradient_type \u001b[39m==\u001b[39m gradients_util\u001b[39m.\u001b[39mPOSSIBLE_GRADIENT_TYPES_NONE\n\u001b[1;32m   1320\u001b[0m     \u001b[39mand\u001b[39;00m executing_eagerly):\n\u001b[1;32m   1321\u001b[0m   \u001b[39m# No tape is watching; skip to running the function.\u001b[39;00m\n\u001b[0;32m-> 1322\u001b[0m   \u001b[39mreturn\u001b[39;00m \u001b[39mself\u001b[39;49m\u001b[39m.\u001b[39;49m_inference_function\u001b[39m.\u001b[39;49mcall_preflattened(args)\n\u001b[1;32m   1323\u001b[0m forward_backward \u001b[39m=\u001b[39m \u001b[39mself\u001b[39m\u001b[39m.\u001b[39m_select_forward_and_backward_functions(\n\u001b[1;32m   1324\u001b[0m     args,\n\u001b[1;32m   1325\u001b[0m     possible_gradient_type,\n\u001b[1;32m   1326\u001b[0m     executing_eagerly)\n\u001b[1;32m   1327\u001b[0m forward_function, args_with_tangents \u001b[39m=\u001b[39m forward_backward\u001b[39m.\u001b[39mforward()\n",
      "File \u001b[0;32m~/.local/lib/python3.10/site-packages/tensorflow/python/eager/polymorphic_function/atomic_function.py:216\u001b[0m, in \u001b[0;36mAtomicFunction.call_preflattened\u001b[0;34m(self, args)\u001b[0m\n\u001b[1;32m    214\u001b[0m \u001b[39mdef\u001b[39;00m \u001b[39mcall_preflattened\u001b[39m(\u001b[39mself\u001b[39m, args: Sequence[core\u001b[39m.\u001b[39mTensor]) \u001b[39m-\u001b[39m\u001b[39m>\u001b[39m Any:\n\u001b[1;32m    215\u001b[0m \u001b[39m  \u001b[39m\u001b[39m\"\"\"Calls with flattened tensor inputs and returns the structured output.\"\"\"\u001b[39;00m\n\u001b[0;32m--> 216\u001b[0m   flat_outputs \u001b[39m=\u001b[39m \u001b[39mself\u001b[39;49m\u001b[39m.\u001b[39;49mcall_flat(\u001b[39m*\u001b[39;49margs)\n\u001b[1;32m    217\u001b[0m   \u001b[39mreturn\u001b[39;00m \u001b[39mself\u001b[39m\u001b[39m.\u001b[39mfunction_type\u001b[39m.\u001b[39mpack_output(flat_outputs)\n",
      "File \u001b[0;32m~/.local/lib/python3.10/site-packages/tensorflow/python/eager/polymorphic_function/atomic_function.py:251\u001b[0m, in \u001b[0;36mAtomicFunction.call_flat\u001b[0;34m(self, *args)\u001b[0m\n\u001b[1;32m    249\u001b[0m \u001b[39mwith\u001b[39;00m record\u001b[39m.\u001b[39mstop_recording():\n\u001b[1;32m    250\u001b[0m   \u001b[39mif\u001b[39;00m \u001b[39mself\u001b[39m\u001b[39m.\u001b[39m_bound_context\u001b[39m.\u001b[39mexecuting_eagerly():\n\u001b[0;32m--> 251\u001b[0m     outputs \u001b[39m=\u001b[39m \u001b[39mself\u001b[39;49m\u001b[39m.\u001b[39;49m_bound_context\u001b[39m.\u001b[39;49mcall_function(\n\u001b[1;32m    252\u001b[0m         \u001b[39mself\u001b[39;49m\u001b[39m.\u001b[39;49mname,\n\u001b[1;32m    253\u001b[0m         \u001b[39mlist\u001b[39;49m(args),\n\u001b[1;32m    254\u001b[0m         \u001b[39mlen\u001b[39;49m(\u001b[39mself\u001b[39;49m\u001b[39m.\u001b[39;49mfunction_type\u001b[39m.\u001b[39;49mflat_outputs),\n\u001b[1;32m    255\u001b[0m     )\n\u001b[1;32m    256\u001b[0m   \u001b[39melse\u001b[39;00m:\n\u001b[1;32m    257\u001b[0m     outputs \u001b[39m=\u001b[39m make_call_op_in_graph(\n\u001b[1;32m    258\u001b[0m         \u001b[39mself\u001b[39m,\n\u001b[1;32m    259\u001b[0m         \u001b[39mlist\u001b[39m(args),\n\u001b[1;32m    260\u001b[0m         \u001b[39mself\u001b[39m\u001b[39m.\u001b[39m_bound_context\u001b[39m.\u001b[39mfunction_call_options\u001b[39m.\u001b[39mas_attrs(),\n\u001b[1;32m    261\u001b[0m     )\n",
      "File \u001b[0;32m~/.local/lib/python3.10/site-packages/tensorflow/python/eager/context.py:1500\u001b[0m, in \u001b[0;36mContext.call_function\u001b[0;34m(self, name, tensor_inputs, num_outputs)\u001b[0m\n\u001b[1;32m   1498\u001b[0m cancellation_context \u001b[39m=\u001b[39m cancellation\u001b[39m.\u001b[39mcontext()\n\u001b[1;32m   1499\u001b[0m \u001b[39mif\u001b[39;00m cancellation_context \u001b[39mis\u001b[39;00m \u001b[39mNone\u001b[39;00m:\n\u001b[0;32m-> 1500\u001b[0m   outputs \u001b[39m=\u001b[39m execute\u001b[39m.\u001b[39;49mexecute(\n\u001b[1;32m   1501\u001b[0m       name\u001b[39m.\u001b[39;49mdecode(\u001b[39m\"\u001b[39;49m\u001b[39mutf-8\u001b[39;49m\u001b[39m\"\u001b[39;49m),\n\u001b[1;32m   1502\u001b[0m       num_outputs\u001b[39m=\u001b[39;49mnum_outputs,\n\u001b[1;32m   1503\u001b[0m       inputs\u001b[39m=\u001b[39;49mtensor_inputs,\n\u001b[1;32m   1504\u001b[0m       attrs\u001b[39m=\u001b[39;49mattrs,\n\u001b[1;32m   1505\u001b[0m       ctx\u001b[39m=\u001b[39;49m\u001b[39mself\u001b[39;49m,\n\u001b[1;32m   1506\u001b[0m   )\n\u001b[1;32m   1507\u001b[0m \u001b[39melse\u001b[39;00m:\n\u001b[1;32m   1508\u001b[0m   outputs \u001b[39m=\u001b[39m execute\u001b[39m.\u001b[39mexecute_with_cancellation(\n\u001b[1;32m   1509\u001b[0m       name\u001b[39m.\u001b[39mdecode(\u001b[39m\"\u001b[39m\u001b[39mutf-8\u001b[39m\u001b[39m\"\u001b[39m),\n\u001b[1;32m   1510\u001b[0m       num_outputs\u001b[39m=\u001b[39mnum_outputs,\n\u001b[0;32m   (...)\u001b[0m\n\u001b[1;32m   1514\u001b[0m       cancellation_manager\u001b[39m=\u001b[39mcancellation_context,\n\u001b[1;32m   1515\u001b[0m   )\n",
      "File \u001b[0;32m~/.local/lib/python3.10/site-packages/tensorflow/python/eager/execute.py:53\u001b[0m, in \u001b[0;36mquick_execute\u001b[0;34m(op_name, num_outputs, inputs, attrs, ctx, name)\u001b[0m\n\u001b[1;32m     51\u001b[0m \u001b[39mtry\u001b[39;00m:\n\u001b[1;32m     52\u001b[0m   ctx\u001b[39m.\u001b[39mensure_initialized()\n\u001b[0;32m---> 53\u001b[0m   tensors \u001b[39m=\u001b[39m pywrap_tfe\u001b[39m.\u001b[39;49mTFE_Py_Execute(ctx\u001b[39m.\u001b[39;49m_handle, device_name, op_name,\n\u001b[1;32m     54\u001b[0m                                       inputs, attrs, num_outputs)\n\u001b[1;32m     55\u001b[0m \u001b[39mexcept\u001b[39;00m core\u001b[39m.\u001b[39m_NotOkStatusException \u001b[39mas\u001b[39;00m e:\n\u001b[1;32m     56\u001b[0m   \u001b[39mif\u001b[39;00m name \u001b[39mis\u001b[39;00m \u001b[39mnot\u001b[39;00m \u001b[39mNone\u001b[39;00m:\n",
      "\u001b[0;31mKeyboardInterrupt\u001b[0m: "
     ]
    }
   ],
   "source": [
    "# Train\n",
    "\n",
    "# fit the data generator to our images\n",
    "datagen.fit(X_train)\n",
    "\n",
    "# fits the model on batches with real-time data augmentation:\n",
    "H = model.fit(datagen.flow(X_train, y_train, batch_size = 128), \n",
    "                            validation_data = datagen.flow(X_train, y_train, \n",
    "                                                           batch_size = 128, \n",
    "                                                           subset = \"validation\"),\n",
    "                                                           epochs = 5)   # training for less time"
   ]
  },
  {
   "cell_type": "code",
   "execution_count": null,
   "metadata": {},
   "outputs": [],
   "source": [
    "# Inspect\n",
    "\n",
    "def plot_history(H, epochs):\n",
    "    plt.figure(figsize = (12,6))\n",
    "    plt.subplot(1,2,1)\n",
    "    plt.plot(np.arange(0, epochs), H.history[\"loss\"], label = \"train_loss\")\n",
    "    plt.plot(np.arange(0, epochs), H.history[\"val_loss\"], label = \"val_loss\", linestyle = \":\")\n",
    "    plt.title(\"Loss curve\")\n",
    "    plt.xlabel(\"Epoch\")\n",
    "    plt.ylabel(\"Loss\")\n",
    "    plt.tight_layout()\n",
    "    plt.legend()\n",
    "\n",
    "    plt.subplot(1,2,2)\n",
    "    plt.plot(np.arange(0, epochs), H.history[\"accuracy\"], label = \"train_acc\")\n",
    "    plt.plot(np.arange(0, epochs), H.history[\"val_accuracy\"], label = \"val_acc\", linestyle = \":\")\n",
    "    plt.title(\"Accuracy curve\")\n",
    "    plt.xlabel(\"Epoch\")\n",
    "    plt.ylabel(\"Accuracy\")\n",
    "    plt.tight_layout()\n",
    "    plt.legend()\n",
    "    plt.show()\n",
    "\n",
    "plot_history(H, 5)"
   ]
  },
  {
   "cell_type": "code",
   "execution_count": null,
   "metadata": {},
   "outputs": [],
   "source": [
    "# Evaluate\n",
    "\n",
    "predictions = model.predict(X_test, batch_size = 128)\n",
    "print(classification_report(y_test.argmax(axis = 1),\n",
    "                            predictions.argmax(axis = 1),\n",
    "                            target_names = labelNames))"
   ]
  },
  {
   "cell_type": "code",
   "execution_count": null,
   "metadata": {},
   "outputs": [],
   "source": []
  },
  {
   "cell_type": "code",
   "execution_count": 40,
   "metadata": {},
   "outputs": [],
   "source": [
    "def main():\n",
    "    folder_path = os.path.join(\"../../../../cds-vis-data/Tobacco3482/\") # change to in for the final script\n",
    "    \n",
    "    list_of_images, list_of_labels = load_images(folder_path)\n",
    "    \n",
    "    preprocessed_images = preprocess_images(list_of_images)\n",
    "    #preprocessed_images = [(preprocess_images(image), label) for image, label in preprocessed_images]\n"
   ]
  }
 ],
 "metadata": {
  "kernelspec": {
   "display_name": "Python 3",
   "language": "python",
   "name": "python3"
  },
  "language_info": {
   "codemirror_mode": {
    "name": "ipython",
    "version": 3
   },
   "file_extension": ".py",
   "mimetype": "text/x-python",
   "name": "python",
   "nbconvert_exporter": "python",
   "pygments_lexer": "ipython3",
   "version": "3.10.12"
  }
 },
 "nbformat": 4,
 "nbformat_minor": 2
}
