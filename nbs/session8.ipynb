{
 "cells": [
  {
   "attachments": {},
   "cell_type": "markdown",
   "metadata": {},
   "source": [
    "# Introducing CNNs with TensorFlow\n",
    "\n",
    "\n",
    "In this notebook, we're going to see how we can use ```TensorFlow``` to build convolutional neural networks to work with colour image data."
   ]
  },
  {
   "cell_type": "markdown",
   "metadata": {},
   "source": [
    "## Load libraries"
   ]
  },
  {
   "cell_type": "code",
   "execution_count": 2,
   "metadata": {
    "execution": {
     "iopub.execute_input": "2022-04-06T10:39:13.301627Z",
     "iopub.status.busy": "2022-04-06T10:39:13.301074Z",
     "iopub.status.idle": "2022-04-06T10:39:15.489769Z",
     "shell.execute_reply": "2022-04-06T10:39:15.488116Z",
     "shell.execute_reply.started": "2022-04-06T10:39:13.301569Z"
    }
   },
   "outputs": [
    {
     "name": "stderr",
     "output_type": "stream",
     "text": [
      "2024-03-22 14:10:18.927477: I external/local_tsl/tsl/cuda/cudart_stub.cc:32] Could not find cuda drivers on your machine, GPU will not be used.\n",
      "2024-03-22 14:10:18.932380: I external/local_tsl/tsl/cuda/cudart_stub.cc:32] Could not find cuda drivers on your machine, GPU will not be used.\n",
      "2024-03-22 14:10:18.999863: I tensorflow/core/platform/cpu_feature_guard.cc:210] This TensorFlow binary is optimized to use available CPU instructions in performance-critical operations.\n",
      "To enable the following instructions: AVX2 AVX512F FMA, in other operations, rebuild TensorFlow with the appropriate compiler flags.\n",
      "2024-03-22 14:10:20.057570: W tensorflow/compiler/tf2tensorrt/utils/py_utils.cc:38] TF-TRT Warning: Could not find TensorRT\n"
     ]
    }
   ],
   "source": [
    "# data tools\n",
    "import os\n",
    "import numpy as np\n",
    "import matplotlib.pyplot as plt\n",
    "import seaborn\n",
    "\n",
    "# sklearn tools\n",
    "from sklearn.preprocessing import LabelBinarizer\n",
    "from sklearn.metrics import classification_report\n",
    "\n",
    "# tf tools\n",
    "from tensorflow.keras.datasets import cifar10\n",
    "from tensorflow.keras.models import Sequential\n",
    "from tensorflow.keras.layers import (Conv2D, MaxPooling2D, Activation, Flatten, Dense)\n",
    "from tensorflow.keras.utils import plot_model\n",
    "from tensorflow.keras.optimizers import SGD\n",
    "from tensorflow.keras import backend as K"
   ]
  },
  {
   "cell_type": "markdown",
   "metadata": {},
   "source": [
    "__Define plotting function__"
   ]
  },
  {
   "cell_type": "code",
   "execution_count": 3,
   "metadata": {
    "execution": {
     "iopub.execute_input": "2022-04-06T10:43:29.152312Z",
     "iopub.status.busy": "2022-04-06T10:43:29.151745Z",
     "iopub.status.idle": "2022-04-06T10:43:29.166643Z",
     "shell.execute_reply": "2022-04-06T10:43:29.165251Z",
     "shell.execute_reply.started": "2022-04-06T10:43:29.152253Z"
    },
    "tags": []
   },
   "outputs": [],
   "source": [
    "def plot_history(H, epochs):\n",
    "    plt.figure(figsize=(12,6))\n",
    "    plt.subplot(1,2,1) # plot 1\n",
    "    plt.plot(np.arange(0, epochs), H.history[\"loss\"], label=\"train_loss\")\n",
    "    plt.plot(np.arange(0, epochs), H.history[\"val_loss\"], label=\"val_loss\", linestyle=\":\")\n",
    "    plt.title(\"Loss curve\")\n",
    "    plt.xlabel(\"Epoch\")\n",
    "    plt.ylabel(\"Loss\")\n",
    "    plt.tight_layout()\n",
    "    plt.legend()\n",
    "\n",
    "    plt.subplot(1,2,2) # plot 2\n",
    "    plt.plot(np.arange(0, epochs), H.history[\"accuracy\"], label=\"train_acc\")\n",
    "    plt.plot(np.arange(0, epochs), H.history[\"val_accuracy\"], label=\"val_acc\", linestyle=\":\")\n",
    "    plt.title(\"Accuracy curve\")\n",
    "    plt.xlabel(\"Epoch\")\n",
    "    plt.ylabel(\"Accuracy\")\n",
    "    plt.tight_layout()\n",
    "    plt.legend()\n",
    "    plt.show()"
   ]
  },
  {
   "cell_type": "markdown",
   "metadata": {},
   "source": [
    "__Load cifar10 data__"
   ]
  },
  {
   "attachments": {},
   "cell_type": "markdown",
   "metadata": {},
   "source": [
    "We first want to load the ```cifar-10``` dataset, normalize the values, and then binarize the labels."
   ]
  },
  {
   "cell_type": "code",
   "execution_count": 4,
   "metadata": {
    "execution": {
     "iopub.execute_input": "2022-04-06T10:45:48.273637Z",
     "iopub.status.busy": "2022-04-06T10:45:48.273092Z",
     "iopub.status.idle": "2022-04-06T10:45:57.745123Z",
     "shell.execute_reply": "2022-04-06T10:45:57.743714Z",
     "shell.execute_reply.started": "2022-04-06T10:45:48.273578Z"
    }
   },
   "outputs": [
    {
     "name": "stdout",
     "output_type": "stream",
     "text": [
      "Downloading data from https://www.cs.toronto.edu/~kriz/cifar-10-python.tar.gz\n",
      "\u001b[1m170498071/170498071\u001b[0m \u001b[32m━━━━━━━━━━━━━━━━━━━━\u001b[0m\u001b[37m\u001b[0m \u001b[1m7s\u001b[0m 0us/step\n"
     ]
    }
   ],
   "source": [
    "(X_train, y_train), (X_test, y_test) = cifar10.load_data()"
   ]
  },
  {
   "attachments": {},
   "cell_type": "markdown",
   "metadata": {},
   "source": [
    "**Question:** As an experiment, see what happens if you try to train the model with un-scaled images. Does it affect performance?"
   ]
  },
  {
   "cell_type": "code",
   "execution_count": 5,
   "metadata": {
    "execution": {
     "iopub.execute_input": "2022-04-06T11:29:37.235138Z",
     "iopub.status.busy": "2022-04-06T11:29:37.234573Z",
     "iopub.status.idle": "2022-04-06T11:29:37.701534Z",
     "shell.execute_reply": "2022-04-06T11:29:37.699781Z",
     "shell.execute_reply.started": "2022-04-06T11:29:37.235080Z"
    },
    "tags": []
   },
   "outputs": [],
   "source": [
    "X_train = X_train/255\n",
    "X_test = X_test/255"
   ]
  },
  {
   "cell_type": "code",
   "execution_count": 6,
   "metadata": {
    "execution": {
     "iopub.execute_input": "2022-04-06T11:29:38.852624Z",
     "iopub.status.busy": "2022-04-06T11:29:38.852137Z",
     "iopub.status.idle": "2022-04-06T11:29:38.905796Z",
     "shell.execute_reply": "2022-04-06T11:29:38.904528Z",
     "shell.execute_reply.started": "2022-04-06T11:29:38.852569Z"
    },
    "tags": []
   },
   "outputs": [],
   "source": [
    "# Create one-hot encodings\n",
    "lb = LabelBinarizer()\n",
    "y_train = lb.fit_transform(y_train)\n",
    "y_test = lb.fit_transform(y_test)"
   ]
  },
  {
   "attachments": {},
   "cell_type": "markdown",
   "metadata": {},
   "source": [
    "We'll also manually create a list of labels for when we come to print the classification report later."
   ]
  },
  {
   "cell_type": "code",
   "execution_count": 7,
   "metadata": {
    "execution": {
     "iopub.execute_input": "2022-04-06T11:29:42.542423Z",
     "iopub.status.busy": "2022-04-06T11:29:42.541855Z",
     "iopub.status.idle": "2022-04-06T11:29:42.550121Z",
     "shell.execute_reply": "2022-04-06T11:29:42.548686Z",
     "shell.execute_reply.started": "2022-04-06T11:29:42.542364Z"
    },
    "tags": []
   },
   "outputs": [],
   "source": [
    "# Initialize label names for CIFAR-10 dataset\n",
    "label_names = [\"airplane\", \"automobile\", \"bird\", \"cat\", \"deer\", \"dog\", \"frog\", \"horse\", \"ship\", \"truck\"]"
   ]
  },
  {
   "cell_type": "markdown",
   "metadata": {},
   "source": [
    "## ShallowNet "
   ]
  },
  {
   "attachments": {},
   "cell_type": "markdown",
   "metadata": {},
   "source": [
    "We're going to begin by creating one of the simplest CNN architectures with only a single convolutional layer. This type of architecture is known as the ShallowNet architecture:\n",
    ">INPUT => CONV => ReLU => FC\n",
    "\n",
    "(only 1 convolutional layer, 1 activation layer, 1 fully connected layer)"
   ]
  },
  {
   "cell_type": "code",
   "execution_count": 8,
   "metadata": {
    "execution": {
     "iopub.execute_input": "2022-04-06T11:49:06.518186Z",
     "iopub.status.busy": "2022-04-06T11:49:06.517636Z",
     "iopub.status.idle": "2022-04-06T11:49:06.573755Z",
     "shell.execute_reply": "2022-04-06T11:49:06.573032Z",
     "shell.execute_reply.started": "2022-04-06T11:49:06.518128Z"
    },
    "tags": []
   },
   "outputs": [
    {
     "name": "stderr",
     "output_type": "stream",
     "text": [
      "/home/ucloud/.local/lib/python3.10/site-packages/keras/src/layers/convolutional/base_conv.py:99: UserWarning: Do not pass an `input_shape`/`input_dim` argument to a layer. When using Sequential models, prefer using an `Input(shape)` object as the first layer in the model instead.\n",
      "  super().__init__(\n"
     ]
    }
   ],
   "source": [
    "# Initalise model (which is also a class)\n",
    "model = Sequential()\n",
    "\n",
    "# Define CONV => ReLU\n",
    "model.add(Conv2D(32,                        # convolutional layer with 32 kernels\n",
    "                (3,3),                      # each kernel is 3x3\n",
    "                padding = \"same\",           # padding (the frame can be \"same\" or \"zero\")\n",
    "                input_shape = (32, 32, 3)))\n",
    "model.add(Activation(\"relu\"))\n",
    "          \n",
    "# FC classifier\n",
    "model.add(Flatten())                        # flatten into a single array\n",
    "model.add(Dense(128))\n",
    "model.add(Activation(\"relu\"))\n",
    "model.add(Dense(10))                        # final layer with 10 outputs (multiclass classificaiton problem w 10 classes)\n",
    "model.add(Activation(\"softmax\"))"
   ]
  },
  {
   "cell_type": "markdown",
   "metadata": {},
   "source": [
    "__Compile model__"
   ]
  },
  {
   "attachments": {},
   "cell_type": "markdown",
   "metadata": {},
   "source": [
    "We then compile our model using some of the same arguments we've already seen in different contexts."
   ]
  },
  {
   "cell_type": "code",
   "execution_count": 9,
   "metadata": {
    "execution": {
     "iopub.execute_input": "2022-04-06T11:49:11.681155Z",
     "iopub.status.busy": "2022-04-06T11:49:11.680491Z",
     "iopub.status.idle": "2022-04-06T11:49:11.694871Z",
     "shell.execute_reply": "2022-04-06T11:49:11.694086Z",
     "shell.execute_reply.started": "2022-04-06T11:49:11.681098Z"
    },
    "tags": []
   },
   "outputs": [],
   "source": [
    "sgd = SGD(learning_rate =.001)                      # learning rate = contrains how fast, the model can learn\n",
    "model.compile(loss=\"categorical_crossentropy\",      # loss function for multiclass classification problem\n",
    "              optimizer = sgd,\n",
    "              metrics=[\"accuracy\"])                 # training the model to optimize on accuracy"
   ]
  },
  {
   "cell_type": "markdown",
   "metadata": {},
   "source": [
    "__Model summary__"
   ]
  },
  {
   "cell_type": "code",
   "execution_count": 11,
   "metadata": {
    "execution": {
     "iopub.execute_input": "2022-04-06T11:49:16.029260Z",
     "iopub.status.busy": "2022-04-06T11:49:16.028743Z",
     "iopub.status.idle": "2022-04-06T11:49:16.053799Z",
     "shell.execute_reply": "2022-04-06T11:49:16.052984Z",
     "shell.execute_reply.started": "2022-04-06T11:49:16.029205Z"
    },
    "tags": []
   },
   "outputs": [
    {
     "data": {
      "text/html": [
       "<pre style=\"white-space:pre;overflow-x:auto;line-height:normal;font-family:Menlo,'DejaVu Sans Mono',consolas,'Courier New',monospace\"><span style=\"font-weight: bold\">Model: \"sequential\"</span>\n",
       "</pre>\n"
      ],
      "text/plain": [
       "\u001b[1mModel: \"sequential\"\u001b[0m\n"
      ]
     },
     "metadata": {},
     "output_type": "display_data"
    },
    {
     "data": {
      "text/html": [
       "<pre style=\"white-space:pre;overflow-x:auto;line-height:normal;font-family:Menlo,'DejaVu Sans Mono',consolas,'Courier New',monospace\">┏━━━━━━━━━━━━━━━━━━━━━━━━━━━━━━━━━┳━━━━━━━━━━━━━━━━━━━━━━━━┳━━━━━━━━━━━━━━━┓\n",
       "┃<span style=\"font-weight: bold\"> Layer (type)                    </span>┃<span style=\"font-weight: bold\"> Output Shape           </span>┃<span style=\"font-weight: bold\">       Param # </span>┃\n",
       "┡━━━━━━━━━━━━━━━━━━━━━━━━━━━━━━━━━╇━━━━━━━━━━━━━━━━━━━━━━━━╇━━━━━━━━━━━━━━━┩\n",
       "│ conv2d (<span style=\"color: #0087ff; text-decoration-color: #0087ff\">Conv2D</span>)                 │ (<span style=\"color: #00d7ff; text-decoration-color: #00d7ff\">None</span>, <span style=\"color: #00af00; text-decoration-color: #00af00\">32</span>, <span style=\"color: #00af00; text-decoration-color: #00af00\">32</span>, <span style=\"color: #00af00; text-decoration-color: #00af00\">32</span>)     │           <span style=\"color: #00af00; text-decoration-color: #00af00\">896</span> │\n",
       "├─────────────────────────────────┼────────────────────────┼───────────────┤\n",
       "│ activation (<span style=\"color: #0087ff; text-decoration-color: #0087ff\">Activation</span>)         │ (<span style=\"color: #00d7ff; text-decoration-color: #00d7ff\">None</span>, <span style=\"color: #00af00; text-decoration-color: #00af00\">32</span>, <span style=\"color: #00af00; text-decoration-color: #00af00\">32</span>, <span style=\"color: #00af00; text-decoration-color: #00af00\">32</span>)     │             <span style=\"color: #00af00; text-decoration-color: #00af00\">0</span> │\n",
       "├─────────────────────────────────┼────────────────────────┼───────────────┤\n",
       "│ flatten (<span style=\"color: #0087ff; text-decoration-color: #0087ff\">Flatten</span>)               │ (<span style=\"color: #00d7ff; text-decoration-color: #00d7ff\">None</span>, <span style=\"color: #00af00; text-decoration-color: #00af00\">32768</span>)          │             <span style=\"color: #00af00; text-decoration-color: #00af00\">0</span> │\n",
       "├─────────────────────────────────┼────────────────────────┼───────────────┤\n",
       "│ dense (<span style=\"color: #0087ff; text-decoration-color: #0087ff\">Dense</span>)                   │ (<span style=\"color: #00d7ff; text-decoration-color: #00d7ff\">None</span>, <span style=\"color: #00af00; text-decoration-color: #00af00\">128</span>)            │     <span style=\"color: #00af00; text-decoration-color: #00af00\">4,194,432</span> │\n",
       "├─────────────────────────────────┼────────────────────────┼───────────────┤\n",
       "│ activation_1 (<span style=\"color: #0087ff; text-decoration-color: #0087ff\">Activation</span>)       │ (<span style=\"color: #00d7ff; text-decoration-color: #00d7ff\">None</span>, <span style=\"color: #00af00; text-decoration-color: #00af00\">128</span>)            │             <span style=\"color: #00af00; text-decoration-color: #00af00\">0</span> │\n",
       "├─────────────────────────────────┼────────────────────────┼───────────────┤\n",
       "│ dense_1 (<span style=\"color: #0087ff; text-decoration-color: #0087ff\">Dense</span>)                 │ (<span style=\"color: #00d7ff; text-decoration-color: #00d7ff\">None</span>, <span style=\"color: #00af00; text-decoration-color: #00af00\">10</span>)             │         <span style=\"color: #00af00; text-decoration-color: #00af00\">1,290</span> │\n",
       "├─────────────────────────────────┼────────────────────────┼───────────────┤\n",
       "│ activation_2 (<span style=\"color: #0087ff; text-decoration-color: #0087ff\">Activation</span>)       │ (<span style=\"color: #00d7ff; text-decoration-color: #00d7ff\">None</span>, <span style=\"color: #00af00; text-decoration-color: #00af00\">10</span>)             │             <span style=\"color: #00af00; text-decoration-color: #00af00\">0</span> │\n",
       "└─────────────────────────────────┴────────────────────────┴───────────────┘\n",
       "</pre>\n"
      ],
      "text/plain": [
       "┏━━━━━━━━━━━━━━━━━━━━━━━━━━━━━━━━━┳━━━━━━━━━━━━━━━━━━━━━━━━┳━━━━━━━━━━━━━━━┓\n",
       "┃\u001b[1m \u001b[0m\u001b[1mLayer (type)                   \u001b[0m\u001b[1m \u001b[0m┃\u001b[1m \u001b[0m\u001b[1mOutput Shape          \u001b[0m\u001b[1m \u001b[0m┃\u001b[1m \u001b[0m\u001b[1m      Param #\u001b[0m\u001b[1m \u001b[0m┃\n",
       "┡━━━━━━━━━━━━━━━━━━━━━━━━━━━━━━━━━╇━━━━━━━━━━━━━━━━━━━━━━━━╇━━━━━━━━━━━━━━━┩\n",
       "│ conv2d (\u001b[38;5;33mConv2D\u001b[0m)                 │ (\u001b[38;5;45mNone\u001b[0m, \u001b[38;5;34m32\u001b[0m, \u001b[38;5;34m32\u001b[0m, \u001b[38;5;34m32\u001b[0m)     │           \u001b[38;5;34m896\u001b[0m │\n",
       "├─────────────────────────────────┼────────────────────────┼───────────────┤\n",
       "│ activation (\u001b[38;5;33mActivation\u001b[0m)         │ (\u001b[38;5;45mNone\u001b[0m, \u001b[38;5;34m32\u001b[0m, \u001b[38;5;34m32\u001b[0m, \u001b[38;5;34m32\u001b[0m)     │             \u001b[38;5;34m0\u001b[0m │\n",
       "├─────────────────────────────────┼────────────────────────┼───────────────┤\n",
       "│ flatten (\u001b[38;5;33mFlatten\u001b[0m)               │ (\u001b[38;5;45mNone\u001b[0m, \u001b[38;5;34m32768\u001b[0m)          │             \u001b[38;5;34m0\u001b[0m │\n",
       "├─────────────────────────────────┼────────────────────────┼───────────────┤\n",
       "│ dense (\u001b[38;5;33mDense\u001b[0m)                   │ (\u001b[38;5;45mNone\u001b[0m, \u001b[38;5;34m128\u001b[0m)            │     \u001b[38;5;34m4,194,432\u001b[0m │\n",
       "├─────────────────────────────────┼────────────────────────┼───────────────┤\n",
       "│ activation_1 (\u001b[38;5;33mActivation\u001b[0m)       │ (\u001b[38;5;45mNone\u001b[0m, \u001b[38;5;34m128\u001b[0m)            │             \u001b[38;5;34m0\u001b[0m │\n",
       "├─────────────────────────────────┼────────────────────────┼───────────────┤\n",
       "│ dense_1 (\u001b[38;5;33mDense\u001b[0m)                 │ (\u001b[38;5;45mNone\u001b[0m, \u001b[38;5;34m10\u001b[0m)             │         \u001b[38;5;34m1,290\u001b[0m │\n",
       "├─────────────────────────────────┼────────────────────────┼───────────────┤\n",
       "│ activation_2 (\u001b[38;5;33mActivation\u001b[0m)       │ (\u001b[38;5;45mNone\u001b[0m, \u001b[38;5;34m10\u001b[0m)             │             \u001b[38;5;34m0\u001b[0m │\n",
       "└─────────────────────────────────┴────────────────────────┴───────────────┘\n"
      ]
     },
     "metadata": {},
     "output_type": "display_data"
    },
    {
     "data": {
      "text/html": [
       "<pre style=\"white-space:pre;overflow-x:auto;line-height:normal;font-family:Menlo,'DejaVu Sans Mono',consolas,'Courier New',monospace\"><span style=\"font-weight: bold\"> Total params: </span><span style=\"color: #00af00; text-decoration-color: #00af00\">4,196,618</span> (16.01 MB)\n",
       "</pre>\n"
      ],
      "text/plain": [
       "\u001b[1m Total params: \u001b[0m\u001b[38;5;34m4,196,618\u001b[0m (16.01 MB)\n"
      ]
     },
     "metadata": {},
     "output_type": "display_data"
    },
    {
     "data": {
      "text/html": [
       "<pre style=\"white-space:pre;overflow-x:auto;line-height:normal;font-family:Menlo,'DejaVu Sans Mono',consolas,'Courier New',monospace\"><span style=\"font-weight: bold\"> Trainable params: </span><span style=\"color: #00af00; text-decoration-color: #00af00\">4,196,618</span> (16.01 MB)\n",
       "</pre>\n"
      ],
      "text/plain": [
       "\u001b[1m Trainable params: \u001b[0m\u001b[38;5;34m4,196,618\u001b[0m (16.01 MB)\n"
      ]
     },
     "metadata": {},
     "output_type": "display_data"
    },
    {
     "data": {
      "text/html": [
       "<pre style=\"white-space:pre;overflow-x:auto;line-height:normal;font-family:Menlo,'DejaVu Sans Mono',consolas,'Courier New',monospace\"><span style=\"font-weight: bold\"> Non-trainable params: </span><span style=\"color: #00af00; text-decoration-color: #00af00\">0</span> (0.00 B)\n",
       "</pre>\n"
      ],
      "text/plain": [
       "\u001b[1m Non-trainable params: \u001b[0m\u001b[38;5;34m0\u001b[0m (0.00 B)\n"
      ]
     },
     "metadata": {},
     "output_type": "display_data"
    }
   ],
   "source": [
    "model.summary()"
   ]
  },
  {
   "cell_type": "markdown",
   "metadata": {},
   "source": [
    "__Train model__"
   ]
  },
  {
   "attachments": {},
   "cell_type": "markdown",
   "metadata": {},
   "source": [
    "Finally, we train the model on the data and get our predictions."
   ]
  },
  {
   "cell_type": "code",
   "execution_count": 12,
   "metadata": {
    "execution": {
     "iopub.execute_input": "2022-04-06T11:49:24.543998Z",
     "iopub.status.busy": "2022-04-06T11:49:24.543465Z",
     "iopub.status.idle": "2022-04-06T11:53:31.220699Z",
     "shell.execute_reply": "2022-04-06T11:53:31.219175Z",
     "shell.execute_reply.started": "2022-04-06T11:49:24.543927Z"
    },
    "tags": []
   },
   "outputs": [
    {
     "name": "stdout",
     "output_type": "stream",
     "text": [
      "Epoch 1/20\n",
      "\u001b[1m1407/1407\u001b[0m \u001b[32m━━━━━━━━━━━━━━━━━━━━\u001b[0m\u001b[37m\u001b[0m \u001b[1m77s\u001b[0m 55ms/step - accuracy: 0.2445 - loss: 2.1330 - val_accuracy: 0.3072 - val_loss: 1.9286\n",
      "Epoch 2/20\n",
      "\u001b[1m1407/1407\u001b[0m \u001b[32m━━━━━━━━━━━━━━━━━━━━\u001b[0m\u001b[37m\u001b[0m \u001b[1m70s\u001b[0m 49ms/step - accuracy: 0.3536 - loss: 1.8565 - val_accuracy: 0.3554 - val_loss: 1.8321\n",
      "Epoch 3/20\n",
      "\u001b[1m1407/1407\u001b[0m \u001b[32m━━━━━━━━━━━━━━━━━━━━\u001b[0m\u001b[37m\u001b[0m \u001b[1m70s\u001b[0m 50ms/step - accuracy: 0.3818 - loss: 1.7727 - val_accuracy: 0.3952 - val_loss: 1.7638\n",
      "Epoch 4/20\n",
      "\u001b[1m1407/1407\u001b[0m \u001b[32m━━━━━━━━━━━━━━━━━━━━\u001b[0m\u001b[37m\u001b[0m \u001b[1m70s\u001b[0m 50ms/step - accuracy: 0.3983 - loss: 1.7274 - val_accuracy: 0.3936 - val_loss: 1.7258\n",
      "Epoch 5/20\n",
      "\u001b[1m1407/1407\u001b[0m \u001b[32m━━━━━━━━━━━━━━━━━━━━\u001b[0m\u001b[37m\u001b[0m \u001b[1m70s\u001b[0m 50ms/step - accuracy: 0.4106 - loss: 1.6889 - val_accuracy: 0.4106 - val_loss: 1.6866\n",
      "Epoch 6/20\n",
      "\u001b[1m1407/1407\u001b[0m \u001b[32m━━━━━━━━━━━━━━━━━━━━\u001b[0m\u001b[37m\u001b[0m \u001b[1m70s\u001b[0m 50ms/step - accuracy: 0.4253 - loss: 1.6464 - val_accuracy: 0.4316 - val_loss: 1.6450\n",
      "Epoch 7/20\n",
      "\u001b[1m1407/1407\u001b[0m \u001b[32m━━━━━━━━━━━━━━━━━━━━\u001b[0m\u001b[37m\u001b[0m \u001b[1m68s\u001b[0m 49ms/step - accuracy: 0.4400 - loss: 1.6100 - val_accuracy: 0.4216 - val_loss: 1.6370\n",
      "Epoch 8/20\n",
      "\u001b[1m1407/1407\u001b[0m \u001b[32m━━━━━━━━━━━━━━━━━━━━\u001b[0m\u001b[37m\u001b[0m \u001b[1m70s\u001b[0m 50ms/step - accuracy: 0.4486 - loss: 1.5833 - val_accuracy: 0.4436 - val_loss: 1.5890\n",
      "Epoch 9/20\n",
      "\u001b[1m1407/1407\u001b[0m \u001b[32m━━━━━━━━━━━━━━━━━━━━\u001b[0m\u001b[37m\u001b[0m \u001b[1m69s\u001b[0m 49ms/step - accuracy: 0.4560 - loss: 1.5523 - val_accuracy: 0.4612 - val_loss: 1.5593\n",
      "Epoch 10/20\n",
      "\u001b[1m1407/1407\u001b[0m \u001b[32m━━━━━━━━━━━━━━━━━━━━\u001b[0m\u001b[37m\u001b[0m \u001b[1m69s\u001b[0m 49ms/step - accuracy: 0.4696 - loss: 1.5213 - val_accuracy: 0.4666 - val_loss: 1.5440\n",
      "Epoch 11/20\n",
      "\u001b[1m1407/1407\u001b[0m \u001b[32m━━━━━━━━━━━━━━━━━━━━\u001b[0m\u001b[37m\u001b[0m \u001b[1m70s\u001b[0m 50ms/step - accuracy: 0.4806 - loss: 1.4960 - val_accuracy: 0.4596 - val_loss: 1.5347\n",
      "Epoch 12/20\n",
      "\u001b[1m1407/1407\u001b[0m \u001b[32m━━━━━━━━━━━━━━━━━━━━\u001b[0m\u001b[37m\u001b[0m \u001b[1m70s\u001b[0m 50ms/step - accuracy: 0.4819 - loss: 1.4846 - val_accuracy: 0.4710 - val_loss: 1.5133\n",
      "Epoch 13/20\n",
      "\u001b[1m1407/1407\u001b[0m \u001b[32m━━━━━━━━━━━━━━━━━━━━\u001b[0m\u001b[37m\u001b[0m \u001b[1m70s\u001b[0m 50ms/step - accuracy: 0.4914 - loss: 1.4563 - val_accuracy: 0.4832 - val_loss: 1.4757\n",
      "Epoch 14/20\n",
      "\u001b[1m1407/1407\u001b[0m \u001b[32m━━━━━━━━━━━━━━━━━━━━\u001b[0m\u001b[37m\u001b[0m \u001b[1m70s\u001b[0m 50ms/step - accuracy: 0.4972 - loss: 1.4378 - val_accuracy: 0.4860 - val_loss: 1.4630\n",
      "Epoch 15/20\n",
      "\u001b[1m1407/1407\u001b[0m \u001b[32m━━━━━━━━━━━━━━━━━━━━\u001b[0m\u001b[37m\u001b[0m \u001b[1m69s\u001b[0m 49ms/step - accuracy: 0.5120 - loss: 1.4007 - val_accuracy: 0.4804 - val_loss: 1.4742\n",
      "Epoch 16/20\n",
      "\u001b[1m1407/1407\u001b[0m \u001b[32m━━━━━━━━━━━━━━━━━━━━\u001b[0m\u001b[37m\u001b[0m \u001b[1m70s\u001b[0m 50ms/step - accuracy: 0.5091 - loss: 1.3985 - val_accuracy: 0.5002 - val_loss: 1.4326\n",
      "Epoch 17/20\n",
      "\u001b[1m1407/1407\u001b[0m \u001b[32m━━━━━━━━━━━━━━━━━━━━\u001b[0m\u001b[37m\u001b[0m \u001b[1m70s\u001b[0m 50ms/step - accuracy: 0.5200 - loss: 1.3761 - val_accuracy: 0.5024 - val_loss: 1.4255\n",
      "Epoch 18/20\n",
      "\u001b[1m1407/1407\u001b[0m \u001b[32m━━━━━━━━━━━━━━━━━━━━\u001b[0m\u001b[37m\u001b[0m \u001b[1m69s\u001b[0m 49ms/step - accuracy: 0.5254 - loss: 1.3634 - val_accuracy: 0.5012 - val_loss: 1.4269\n",
      "Epoch 19/20\n",
      "\u001b[1m1407/1407\u001b[0m \u001b[32m━━━━━━━━━━━━━━━━━━━━\u001b[0m\u001b[37m\u001b[0m \u001b[1m70s\u001b[0m 50ms/step - accuracy: 0.5309 - loss: 1.3440 - val_accuracy: 0.5066 - val_loss: 1.3994\n",
      "Epoch 20/20\n",
      "\u001b[1m1407/1407\u001b[0m \u001b[32m━━━━━━━━━━━━━━━━━━━━\u001b[0m\u001b[37m\u001b[0m \u001b[1m72s\u001b[0m 51ms/step - accuracy: 0.5350 - loss: 1.3255 - val_accuracy: 0.4832 - val_loss: 1.4511\n"
     ]
    }
   ],
   "source": [
    "H = model.fit(X_train, y_train,\n",
    "              validation_split = 0.1,      # validate on 10% of the test data\n",
    "              batch_size = 32,\n",
    "              epochs = 20,                 # the model will see the training data 20 times\n",
    "              verbose = 1)"
   ]
  },
  {
   "cell_type": "markdown",
   "metadata": {},
   "source": [
    "__Evaluate model__"
   ]
  },
  {
   "cell_type": "code",
   "execution_count": 13,
   "metadata": {
    "execution": {
     "iopub.execute_input": "2022-04-06T11:53:33.804125Z",
     "iopub.status.busy": "2022-04-06T11:53:33.803618Z",
     "iopub.status.idle": "2022-04-06T11:53:34.959096Z",
     "shell.execute_reply": "2022-04-06T11:53:34.957961Z",
     "shell.execute_reply.started": "2022-04-06T11:53:33.804072Z"
    },
    "tags": []
   },
   "outputs": [
    {
     "name": "stdout",
     "output_type": "stream",
     "text": [
      "\u001b[1m313/313\u001b[0m \u001b[32m━━━━━━━━━━━━━━━━━━━━\u001b[0m\u001b[37m\u001b[0m \u001b[1m5s\u001b[0m 14ms/step\n"
     ]
    }
   ],
   "source": [
    "predictions = model.predict(X_test, batch_size = 32)"
   ]
  },
  {
   "cell_type": "code",
   "execution_count": 14,
   "metadata": {
    "execution": {
     "iopub.execute_input": "2022-04-06T11:53:34.992910Z",
     "iopub.status.busy": "2022-04-06T11:53:34.992786Z",
     "iopub.status.idle": "2022-04-06T11:53:35.016822Z",
     "shell.execute_reply": "2022-04-06T11:53:35.015863Z",
     "shell.execute_reply.started": "2022-04-06T11:53:34.992895Z"
    },
    "tags": []
   },
   "outputs": [
    {
     "name": "stdout",
     "output_type": "stream",
     "text": [
      "              precision    recall  f1-score   support\n",
      "\n",
      "    airplane       0.68      0.41      0.52      1000\n",
      "  automobile       0.59      0.69      0.64      1000\n",
      "        bird       0.26      0.70      0.38      1000\n",
      "         cat       0.47      0.15      0.23      1000\n",
      "        deer       0.58      0.22      0.32      1000\n",
      "         dog       0.46      0.39      0.42      1000\n",
      "        frog       0.48      0.61      0.54      1000\n",
      "       horse       0.70      0.43      0.53      1000\n",
      "        ship       0.54      0.72      0.62      1000\n",
      "       truck       0.62      0.47      0.54      1000\n",
      "\n",
      "    accuracy                           0.48     10000\n",
      "   macro avg       0.54      0.48      0.47     10000\n",
      "weighted avg       0.54      0.48      0.47     10000\n",
      "\n"
     ]
    }
   ],
   "source": [
    "print(classification_report(y_test.argmax(axis = 1),\n",
    "                            predictions.argmax(axis = 1),\n",
    "                            target_names = label_names))"
   ]
  },
  {
   "attachments": {},
   "cell_type": "markdown",
   "metadata": {},
   "source": [
    "We can also use the ```plot_history()``` function available from ```TensorFlow``` to see how our model performs during training.\n",
    "\n",
    "These plots can tell us *a lot* about whether a model is under- or over-fiting the data. You read more at [this fantastic blog post](https://machinelearningmastery.com/learning-curves-for-diagnosing-machine-learning-model-performance/). \n",
    "\n",
    "Other useful blogs are [here](https://rstudio-conf-2020.github.io/dl-keras-tf/notebooks/learning-curve-diagnostics.nb.html) and there's a good video overview [here](https://youtu.be/p3CcfIjycBA)."
   ]
  },
  {
   "cell_type": "code",
   "execution_count": 15,
   "metadata": {
    "execution": {
     "iopub.execute_input": "2022-04-06T11:53:46.390120Z",
     "iopub.status.busy": "2022-04-06T11:53:46.389589Z",
     "iopub.status.idle": "2022-04-06T11:53:46.746258Z",
     "shell.execute_reply": "2022-04-06T11:53:46.745649Z",
     "shell.execute_reply.started": "2022-04-06T11:53:46.390066Z"
    },
    "tags": []
   },
   "outputs": [
    {
     "data": {
      "image/png": "[encoded data removed]",
      "text/plain": [
       "<Figure size 1200x600 with 2 Axes>"
      ]
     },
     "metadata": {},
     "output_type": "display_data"
    }
   ],
   "source": [
    "plot_history(H, 20)"
   ]
  },
  {
   "cell_type": "markdown",
   "metadata": {},
   "source": [
    "## LeNet"
   ]
  },
  {
   "attachments": {},
   "cell_type": "markdown",
   "metadata": {},
   "source": [
    "Next, we'll look at a slightly more complicated CNN architecture, known as ```LeNet``` after its creator Yann LeCun, who is now Chief AI Scientist at Meta. You can read more [here](https://en.wikipedia.org/wiki/LeNet).\n",
    ">INPUT => CONV => ReLU => MAXPOOL => CONV => ReLU => MAXPOOL => FC => ReLU => FC"
   ]
  },
  {
   "cell_type": "markdown",
   "metadata": {},
   "source": [
    "__Define model__"
   ]
  },
  {
   "cell_type": "code",
   "execution_count": null,
   "metadata": {
    "execution": {
     "iopub.execute_input": "2022-04-06T12:33:34.993026Z",
     "iopub.status.busy": "2022-04-06T12:33:34.992503Z",
     "iopub.status.idle": "2022-04-06T12:33:35.060581Z",
     "shell.execute_reply": "2022-04-06T12:33:35.059482Z",
     "shell.execute_reply.started": "2022-04-06T12:33:34.992971Z"
    },
    "tags": []
   },
   "outputs": [],
   "source": [
    "# Define model\n",
    "model = Sequential()\n",
    "\n",
    "# First set of layers CONV => RELU => MAXPOOL\n",
    "model.add(Conv2D(32, (3,3),\n",
    "                 padding=\"same\",\n",
    "                 input_shape=(32,32,3)))\n",
    "model.add(Activation(\"relu\"))\n",
    "model.add(MaxPooling2D(pool_size = (2,2),\n",
    "                       strides = (2,2)))    # one stride for moving horizontally and one for vertically\n",
    "\n",
    "# Second set of layers CONV => RELU => MAXPOOL\n",
    "model.add(Conv2D(50, (5,5),\n",
    "                 padding=\"same\"))\n",
    "model.add(Activation(\"relu\"))\n",
    "model.add(MaxPooling2D(pool_size = (2,2),\n",
    "                       strides = (2,2)))\n",
    "\n",
    "# FC => RELU\n",
    "model.add(Flatten())\n",
    "model.add(Dense(128))\n",
    "model.add(Activation(\"relu\"))\n",
    "\n",
    "# Softmax classifier\n",
    "model.add(Dense(10))\n",
    "model.add(Activation(\"softmax\"))"
   ]
  },
  {
   "cell_type": "markdown",
   "metadata": {},
   "source": [
    "__Compile model__"
   ]
  },
  {
   "cell_type": "code",
   "execution_count": null,
   "metadata": {
    "execution": {
     "iopub.execute_input": "2022-04-06T12:33:39.430087Z",
     "iopub.status.busy": "2022-04-06T12:33:39.429395Z",
     "iopub.status.idle": "2022-04-06T12:33:39.444910Z",
     "shell.execute_reply": "2022-04-06T12:33:39.443726Z",
     "shell.execute_reply.started": "2022-04-06T12:33:39.430027Z"
    },
    "tags": []
   },
   "outputs": [],
   "source": [
    "sgd = SGD(learning_rate = 0.001)\n",
    "model.compile(loss = \"categorical_crossentropy\",\n",
    "              optimizer = sgd,\n",
    "              metrics=[\"accuracy\"])"
   ]
  },
  {
   "cell_type": "markdown",
   "metadata": {},
   "source": [
    "__Model summary__"
   ]
  },
  {
   "cell_type": "code",
   "execution_count": null,
   "metadata": {
    "execution": {
     "iopub.execute_input": "2022-04-06T12:33:40.194325Z",
     "iopub.status.busy": "2022-04-06T12:33:40.193187Z",
     "iopub.status.idle": "2022-04-06T12:33:40.224235Z",
     "shell.execute_reply": "2022-04-06T12:33:40.223522Z",
     "shell.execute_reply.started": "2022-04-06T12:33:40.194258Z"
    },
    "tags": []
   },
   "outputs": [],
   "source": [
    "model.summary()"
   ]
  },
  {
   "cell_type": "markdown",
   "metadata": {},
   "source": [
    "__Train model__"
   ]
  },
  {
   "cell_type": "code",
   "execution_count": null,
   "metadata": {
    "execution": {
     "iopub.execute_input": "2022-04-06T12:33:56.658288Z",
     "iopub.status.busy": "2022-04-06T12:33:56.657599Z",
     "iopub.status.idle": "2022-04-06T12:39:46.878708Z",
     "shell.execute_reply": "2022-04-06T12:39:46.877023Z",
     "shell.execute_reply.started": "2022-04-06T12:33:56.658226Z"
    },
    "tags": []
   },
   "outputs": [],
   "source": [
    "# Train model\n",
    "H = model.fit(X_train, y_train,\n",
    "              validation_split = 0.1, \n",
    "              batch_size = 32,\n",
    "              epochs = 20,\n",
    "              verbose = 1)"
   ]
  },
  {
   "cell_type": "code",
   "execution_count": null,
   "metadata": {
    "execution": {
     "iopub.execute_input": "2022-04-06T12:39:49.678682Z",
     "iopub.status.busy": "2022-04-06T12:39:49.678169Z",
     "iopub.status.idle": "2022-04-06T12:39:49.917519Z",
     "shell.execute_reply": "2022-04-06T12:39:49.916956Z",
     "shell.execute_reply.started": "2022-04-06T12:39:49.678628Z"
    },
    "tags": []
   },
   "outputs": [],
   "source": [
    "plot_history(H,20)"
   ]
  },
  {
   "cell_type": "code",
   "execution_count": null,
   "metadata": {
    "execution": {
     "iopub.execute_input": "2022-04-06T12:40:25.637585Z",
     "iopub.status.busy": "2022-04-06T12:40:25.637081Z",
     "iopub.status.idle": "2022-04-06T12:40:27.143891Z",
     "shell.execute_reply": "2022-04-06T12:40:27.143357Z",
     "shell.execute_reply.started": "2022-04-06T12:40:25.637533Z"
    },
    "tags": []
   },
   "outputs": [],
   "source": [
    "predictions = model.predict(X_test, batch_size = 32)\n",
    "print(classification_report(y_test.argmax(axis = 1),\n",
    "                            predictions.argmax(axis = 1),\n",
    "                            target_names = label_names))\n",
    "\n",
    "# Slightly more balanced model "
   ]
  }
 ],
 "metadata": {
  "kernelspec": {
   "display_name": "Python 3 ",
   "language": "python",
   "name": "python3"
  },
  "language_info": {
   "codemirror_mode": {
    "name": "ipython",
    "version": 3
   },
   "file_extension": ".py",
   "mimetype": "text/x-python",
   "name": "python",
   "nbconvert_exporter": "python",
   "pygments_lexer": "ipython3",
   "version": "3.10.12"
  }
 },
 "nbformat": 4,
 "nbformat_minor": 4
}
