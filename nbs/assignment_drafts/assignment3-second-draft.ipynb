{
 "cells": [
  {
   "cell_type": "code",
   "execution_count": 1,
   "metadata": {},
   "outputs": [
    {
     "name": "stderr",
     "output_type": "stream",
     "text": [
      "2024-04-11 15:15:44.229984: I external/local_tsl/tsl/cuda/cudart_stub.cc:32] Could not find cuda drivers on your machine, GPU will not be used.\n",
      "2024-04-11 15:15:44.235023: I external/local_tsl/tsl/cuda/cudart_stub.cc:32] Could not find cuda drivers on your machine, GPU will not be used.\n",
      "2024-04-11 15:15:44.304949: I tensorflow/core/platform/cpu_feature_guard.cc:210] This TensorFlow binary is optimized to use available CPU instructions in performance-critical operations.\n",
      "To enable the following instructions: AVX2 AVX512F FMA, in other operations, rebuild TensorFlow with the appropriate compiler flags.\n",
      "2024-04-11 15:15:45.896406: W tensorflow/compiler/tf2tensorrt/utils/py_utils.cc:38] TF-TRT Warning: Could not find TensorRT\n"
     ]
    }
   ],
   "source": [
    "import os\n",
    "import tensorflow as tf\n",
    "\n",
    "from PIL import UnidentifiedImageError\n",
    "\n",
    "# image processsing\n",
    "from tensorflow.keras.preprocessing.image import (load_img,\n",
    "                                                  img_to_array,\n",
    "                                                  ImageDataGenerator)\n",
    "\n",
    "# VGG16 model\n",
    "from tensorflow.keras.applications.vgg16 import (preprocess_input,\n",
    "                                                 decode_predictions,\n",
    "                                                 VGG16)\n",
    "\n",
    "# layers\n",
    "from tensorflow.keras.layers import (Flatten, \n",
    "                                     Dense, \n",
    "                                     Dropout, \n",
    "                                     BatchNormalization)\n",
    "\n",
    "# generic model object\n",
    "from tensorflow.keras.models import Model\n",
    "\n",
    "# optimizers\n",
    "from tensorflow.keras.optimizers.schedules import ExponentialDecay\n",
    "from tensorflow.keras.optimizers import SGD, Adam\n",
    "\n",
    "#scikit-learn\n",
    "from sklearn.preprocessing import LabelBinarizer\n",
    "from sklearn.metrics import classification_report\n",
    "from sklearn.model_selection import train_test_split\n",
    "\n",
    "# for plotting\n",
    "import numpy as np\n",
    "import matplotlib.pyplot as plt"
   ]
  },
  {
   "cell_type": "code",
   "execution_count": 11,
   "metadata": {},
   "outputs": [],
   "source": [
    "def plot_history(H, epochs, outpath):\n",
    "    plt.figure(figsize = (12,6))\n",
    "    plt.subplot(1,2,1)\n",
    "    plt.plot(np.arange(0, epochs), H.history[\"loss\"], label = \"train_loss\")\n",
    "    plt.plot(np.arange(0, epochs), H.history[\"val_loss\"], label = \"val_loss\", linestyle = \":\")\n",
    "    plt.title(\"Loss curve\")\n",
    "    plt.xlabel(\"Epoch\")\n",
    "    plt.ylabel(\"Loss\")\n",
    "    plt.tight_layout()\n",
    "    plt.legend()\n",
    "\n",
    "    plt.subplot(1,2,2)\n",
    "    plt.plot(np.arange(0, epochs), H.history[\"accuracy\"], label = \"train_acc\")\n",
    "    plt.plot(np.arange(0, epochs), H.history[\"val_accuracy\"], label = \"val_acc\", linestyle = \":\")\n",
    "    plt.title(\"Accuracy curve\")\n",
    "    plt.xlabel(\"Epoch\")\n",
    "    plt.ylabel(\"Accuracy\")\n",
    "    plt.tight_layout()\n",
    "    plt.legend()\n",
    "    plt.show()\n",
    "    plt.savefig(outpath)"
   ]
  },
  {
   "cell_type": "code",
   "execution_count": 3,
   "metadata": {},
   "outputs": [
    {
     "name": "stdout",
     "output_type": "stream",
     "text": [
      "Skipping ../../../../cds-vis-data/Tobacco3482/ADVE/Thumbs.db\n",
      "Skipping ../../../../cds-vis-data/Tobacco3482/Email/Thumbs.db\n",
      "Skipping ../../../../cds-vis-data/Tobacco3482/Form/Thumbs.db\n",
      "Skipping ../../../../cds-vis-data/Tobacco3482/Letter/Thumbs.db\n",
      "Skipping ../../../../cds-vis-data/Tobacco3482/Memo/Thumbs.db\n",
      "Skipping ../../../../cds-vis-data/Tobacco3482/News/Thumbs.db\n",
      "Skipping ../../../../cds-vis-data/Tobacco3482/Note/Thumbs.db\n",
      "Skipping ../../../../cds-vis-data/Tobacco3482/Report/Thumbs.db\n",
      "Skipping ../../../../cds-vis-data/Tobacco3482/Resume/Thumbs.db\n",
      "Skipping ../../../../cds-vis-data/Tobacco3482/Scientific/Thumbs.db\n"
     ]
    }
   ],
   "source": [
    "folder_path = os.path.join(\"../../../../cds-vis-data/Tobacco3482\")\n",
    "\n",
    "# Initialize empty lists\n",
    "list_of_images = [] \n",
    "list_of_labels = []\n",
    "\n",
    "# Loop through subfolders\n",
    "for subfolder in sorted(os.listdir(folder_path)):\n",
    "\n",
    "        # Extract images from the individual folders\n",
    "        subfolder_path  = os.path.join(folder_path, subfolder)\n",
    "\n",
    "        for file in os.listdir(subfolder_path):\n",
    "                \n",
    "                individual_filepath = os.path.join(subfolder_path, file)\n",
    "\n",
    "                try:\n",
    "                        # Load image from file\n",
    "                        image = load_img(individual_filepath, target_size = (224, 224))\n",
    "                        # Convert the image pixels to a numpy array\n",
    "                        image = img_to_array(image)\n",
    "                        list_of_images.append(image)\n",
    "\n",
    "                        # Extract image name and append to list\n",
    "                        #image_name = individual_filepath.split(\"/\")[-1]\n",
    "                        #list_of_images.append(image_name)\n",
    "\n",
    "                        # Extract label and append to list\n",
    "                        label = subfolder_path.split(\"/\")[-1]\n",
    "                        list_of_labels.append(label)\n",
    "                        \n",
    "                        # Append the preprocessed image along with its label as a tuple\n",
    "                        #list_of_images.append((image, label))\n",
    "\n",
    "                except (UnidentifiedImageError):\n",
    "                        print(f\"Skipping {individual_filepath}\")\n",
    "\n",
    "array_of_images = np.array(list_of_images)\n",
    "X = preprocess_input(array_of_images)\n",
    "y = list_of_labels"
   ]
  },
  {
   "cell_type": "code",
   "execution_count": 11,
   "metadata": {},
   "outputs": [],
   "source": [
    "def load_images(folder_path):\n",
    "        \n",
    "        # Initialize empty lists\n",
    "        list_of_images = [] \n",
    "        list_of_labels = []\n",
    "\n",
    "        for subfolder in sorted(os.listdir(folder_path)):\n",
    "                \n",
    "                # Extract images from the individual folders\n",
    "                subfolder_path  = os.path.join(folder_path, subfolder)\n",
    "                \n",
    "                for file in os.listdir(subfolder_path):\n",
    "                        \n",
    "                        individual_filepath = os.path.join(subfolder_path, file)\n",
    "                        \n",
    "                        try:\n",
    "                                # Load image from file\n",
    "                                image = load_img(individual_filepath, target_size = (224, 224))\n",
    "\n",
    "                                # Convert the image pixels to a numpy array\n",
    "                                image = img_to_array(image)\n",
    "\n",
    "                                list_of_images.append(image)\n",
    "\n",
    "                                # Extract image name and append to list\n",
    "                                #image_name = individual_filepath.split(\"/\")[-1]\n",
    "                                #list_of_images.append(image_name)\n",
    "\n",
    "                                # Extract label and append to list\n",
    "                                label = subfolder_path.split(\"/\")[-1]\n",
    "                                list_of_labels.append(label)\n",
    "                \n",
    "                        except (UnidentifiedImageError):\n",
    "                                print(f\"Skipping {individual_filepath}\")\n",
    "        \n",
    "        array_of_images = np.array(list_of_images)\n",
    "        X = preprocess_input(array_of_images)\n",
    "        y = list_of_labels\n",
    "        \n",
    "        return X, y\n"
   ]
  },
  {
   "cell_type": "code",
   "execution_count": null,
   "metadata": {},
   "outputs": [],
   "source": []
  },
  {
   "cell_type": "code",
   "execution_count": null,
   "metadata": {},
   "outputs": [],
   "source": []
  },
  {
   "cell_type": "code",
   "execution_count": 4,
   "metadata": {},
   "outputs": [],
   "source": [
    "X_train, X_test, y_train, y_test = train_test_split(X, y, test_size = 0.2, stratify = y, random_state = 123)\n",
    "\n",
    "X_train = X_train.astype(\"float32\") / 255.\n",
    "X_test = X_test.astype(\"float32\") / 255.\n",
    "\n",
    "lb = LabelBinarizer()\n",
    "y_train = lb.fit_transform(y_train)   # shape (2785, 10)\n",
    "y_test = lb.fit_transform(y_test)     # shape (697, 10)\n"
   ]
  },
  {
   "cell_type": "code",
   "execution_count": null,
   "metadata": {},
   "outputs": [],
   "source": [
    "def data_split(X,y):\n",
    "    \n",
    "    X_train, X_test, y_train, y_test = train_test_split(X, y, test_size = 0.2, stratify = y, random_state = 123)\n",
    "    X_train = X_train.astype(\"float32\") / 255.\n",
    "    X_test = X_test.astype(\"float32\") / 255.\n",
    "    lb = LabelBinarizer()\n",
    "    y_train = lb.fit_transform(y_train)\n",
    "    y_test = lb.fit_transform(y_test) \n",
    "\n",
    "    return X_train, X_test, y_train, y_test"
   ]
  },
  {
   "cell_type": "markdown",
   "metadata": {},
   "source": [
    "Vi kører alle\n",
    "```\n",
    "model = VGG16()\n",
    "\n",
    "# skal vi alle gøre - load model without classifier layers\n",
    "model = VGG16(include_top = False,        # dont use the final layer of the classifier\n",
    "              pooling = 'avg',\n",
    "              input_shape = (32, 32, 3))  # (height, width, number of color-channels)\n",
    "\n",
    "# skal vi alle gøre - mark loaded layers as not trainable\n",
    "for layer in model.layers:\n",
    "    layer.trainable = False\n",
    "```\n",
    "\n",
    "1. Ida kører clean model:\n",
    "```\n",
    "flat1 = Flatten()(model.layers[-1].output)  # take final layer (-1) in the model and append to flat1\n",
    "class1 = Dense(128, activation = 'relu')(flat1)\n",
    "output = Dense(10, activation = 'softmax')(class1)\n",
    "```\n",
    "\n",
    "2. Laura kører BatchNorm\n",
    "```\n",
    "flat1 = Flatten()(model.layers[-1].output)\n",
    "bn = BatchNormalization()(flat1)\n",
    "class1 = Dense(128, \n",
    "               activation='relu')(bn)\n",
    "output = Dense(10, \n",
    "               activation='softmax')(class2)\n",
    "```\n",
    "\n",
    "3. Jeg Sofie kører data argumentation - nedenstående\n",
    "\n",
    "4. Alle kører både sgd og adam!\n",
    "```\n",
    "sgd = SGD(learning_rate=lr_schedule)\n",
    "adam = Adam(learning_rate=lr_schedule)\n",
    "```"
   ]
  },
  {
   "cell_type": "code",
   "execution_count": null,
   "metadata": {},
   "outputs": [],
   "source": [
    "# load model without classifier layers\n",
    "model = VGG16(include_top = False, \n",
    "              pooling = 'avg',\n",
    "              input_shape = (224, 224, 3)) \n",
    "\n",
    "# mark loaded layers as not trainable\n",
    "for layer in model.layers:\n",
    "    layer.trainable = False\n",
    "\n",
    "model.summary()"
   ]
  },
  {
   "cell_type": "code",
   "execution_count": null,
   "metadata": {},
   "outputs": [],
   "source": [
    "# add new classifier layers\n",
    "flat1 = Flatten()(model.layers[-1].output)\n",
    "bn = BatchNormalization()(flat1)\n",
    "class2 = Dense(128, \n",
    "               activation='relu')(bn)\n",
    "output = Dense(10, \n",
    "               activation='softmax')(class2)\n",
    "\n",
    "# define new model\n",
    "model = Model(inputs = model.inputs, \n",
    "              outputs = output)\n",
    "\n",
    "# compile\n",
    "lr_schedule = tf.keras.optimizers.schedules.ExponentialDecay(\n",
    "    initial_learning_rate = 0.01,\n",
    "    decay_steps = 10000,\n",
    "    decay_rate = 0.9)\n",
    "    \n",
    "#sgd = SGD(learning_rate=lr_schedule)\n",
    "adam = Adam(learning_rate=lr_schedule)\n",
    "\n",
    "model.compile(optimizer = adam,\n",
    "              loss = 'categorical_crossentropy',\n",
    "              metrics = ['accuracy'])\n",
    "# summarize\n",
    "model.summary()"
   ]
  },
  {
   "cell_type": "code",
   "execution_count": 7,
   "metadata": {},
   "outputs": [],
   "source": [
    "# Define data generator\n",
    "\n",
    "# Add noise to an image\n",
    "def add_noise(image):\n",
    "    noise = np.random.normal(0, scale = 25, size = image.shape)\n",
    "    noisy_image = np.clip(image + noise, 0, 255) #.astype(np.uint8)\n",
    "    return noisy_image\n",
    "\n",
    "# flip along x axis (mirror image)\n",
    "datagen = ImageDataGenerator(horizontal_flip = True, \n",
    "                             rotation_range = 90,\n",
    "                             #preprocessing_function = add_noise(),\n",
    "                             validation_split = 0.1)\n"
   ]
  },
  {
   "cell_type": "code",
   "execution_count": 8,
   "metadata": {},
   "outputs": [
    {
     "name": "stdout",
     "output_type": "stream",
     "text": [
      "Epoch 1/10\n"
     ]
    },
    {
     "name": "stderr",
     "output_type": "stream",
     "text": [
      "/home/ucloud/.local/lib/python3.10/site-packages/keras/src/trainers/data_adapters/py_dataset_adapter.py:120: UserWarning: Your `PyDataset` class should call `super().__init__(**kwargs)` in its constructor. `**kwargs` can include `workers`, `use_multiprocessing`, `max_queue_size`. Do not pass these arguments to `fit()`, as they will be ignored.\n",
      "  self._warn_if_super_not_called()\n"
     ]
    },
    {
     "name": "stdout",
     "output_type": "stream",
     "text": [
      "\u001b[1m88/88\u001b[0m \u001b[32m━━━━━━━━━━━━━━━━━━━━\u001b[0m\u001b[37m\u001b[0m \u001b[1m348s\u001b[0m 4s/step - accuracy: 0.5014 - loss: 1.7394 - val_accuracy: 0.2914 - val_loss: 2.0250\n",
      "Epoch 2/10\n",
      "\u001b[1m88/88\u001b[0m \u001b[32m━━━━━━━━━━━━━━━━━━━━\u001b[0m\u001b[37m\u001b[0m \u001b[1m346s\u001b[0m 4s/step - accuracy: 0.6270 - loss: 1.1361 - val_accuracy: 0.3777 - val_loss: 1.8631\n",
      "Epoch 3/10\n",
      "\u001b[1m88/88\u001b[0m \u001b[32m━━━━━━━━━━━━━━━━━━━━\u001b[0m\u001b[37m\u001b[0m \u001b[1m352s\u001b[0m 4s/step - accuracy: 0.6441 - loss: 1.0461 - val_accuracy: 0.3381 - val_loss: 1.8198\n",
      "Epoch 4/10\n",
      "\u001b[1m88/88\u001b[0m \u001b[32m━━━━━━━━━━━━━━━━━━━━\u001b[0m\u001b[37m\u001b[0m \u001b[1m359s\u001b[0m 4s/step - accuracy: 0.6737 - loss: 0.9953 - val_accuracy: 0.5971 - val_loss: 1.4736\n",
      "Epoch 5/10\n",
      "\u001b[1m88/88\u001b[0m \u001b[32m━━━━━━━━━━━━━━━━━━━━\u001b[0m\u001b[37m\u001b[0m \u001b[1m357s\u001b[0m 4s/step - accuracy: 0.6679 - loss: 0.9955 - val_accuracy: 0.6583 - val_loss: 1.1376\n",
      "Epoch 6/10\n",
      "\u001b[1m88/88\u001b[0m \u001b[32m━━━━━━━━━━━━━━━━━━━━\u001b[0m\u001b[37m\u001b[0m \u001b[1m359s\u001b[0m 4s/step - accuracy: 0.6899 - loss: 0.9296 - val_accuracy: 0.6871 - val_loss: 1.0343\n",
      "Epoch 7/10\n",
      "\u001b[1m88/88\u001b[0m \u001b[32m━━━━━━━━━━━━━━━━━━━━\u001b[0m\u001b[37m\u001b[0m \u001b[1m362s\u001b[0m 4s/step - accuracy: 0.6848 - loss: 0.9145 - val_accuracy: 0.7266 - val_loss: 0.8363\n",
      "Epoch 8/10\n",
      "\u001b[1m88/88\u001b[0m \u001b[32m━━━━━━━━━━━━━━━━━━━━\u001b[0m\u001b[37m\u001b[0m \u001b[1m345s\u001b[0m 4s/step - accuracy: 0.7057 - loss: 0.8803 - val_accuracy: 0.7014 - val_loss: 0.8844\n",
      "Epoch 9/10\n",
      "\u001b[1m88/88\u001b[0m \u001b[32m━━━━━━━━━━━━━━━━━━━━\u001b[0m\u001b[37m\u001b[0m \u001b[1m345s\u001b[0m 4s/step - accuracy: 0.7047 - loss: 0.8722 - val_accuracy: 0.7050 - val_loss: 0.8323\n",
      "Epoch 10/10\n",
      "\u001b[1m88/88\u001b[0m \u001b[32m━━━━━━━━━━━━━━━━━━━━\u001b[0m\u001b[37m\u001b[0m \u001b[1m348s\u001b[0m 4s/step - accuracy: 0.7080 - loss: 0.8859 - val_accuracy: 0.7590 - val_loss: 0.7106\n"
     ]
    }
   ],
   "source": [
    "# Train\n",
    "\n",
    "# fit the data generator to our images\n",
    "datagen.fit(X_train)\n",
    "\n",
    "# fits the model on batches with real-time data augmentation:\n",
    "H = model.fit(datagen.flow(X_train, y_train, batch_size = 32), # change\n",
    "                            validation_data = datagen.flow(X_train, y_train, \n",
    "                                                           batch_size = 32,  # change\n",
    "                                                           subset = \"validation\"),\n",
    "                                                           epochs = 10)   # training for less time\n",
    "\n",
    "# first test batch 128, epoch 10\n",
    "# 1 epoch 358s = ca 6 min\n"
   ]
  },
  {
   "cell_type": "code",
   "execution_count": 12,
   "metadata": {},
   "outputs": [
    {
     "data": {
      "image/png": "[encoded data removed]",
      "text/plain": [
       "<Figure size 1200x600 with 2 Axes>"
      ]
     },
     "metadata": {},
     "output_type": "display_data"
    },
    {
     "data": {
      "text/plain": [
       "<Figure size 640x480 with 0 Axes>"
      ]
     },
     "metadata": {},
     "output_type": "display_data"
    }
   ],
   "source": [
    "# Inspect\n",
    "\n",
    "plot_history(H, 10, \"out/VGG16_losscurve_DatAug_adam.png\")\n"
   ]
  },
  {
   "cell_type": "code",
   "execution_count": 13,
   "metadata": {},
   "outputs": [
    {
     "name": "stdout",
     "output_type": "stream",
     "text": [
      "\u001b[1m22/22\u001b[0m \u001b[32m━━━━━━━━━━━━━━━━━━━━\u001b[0m\u001b[37m\u001b[0m \u001b[1m78s\u001b[0m 4s/step\n",
      "              precision    recall  f1-score   support\n",
      "\n",
      "        ADVE       0.89      0.87      0.88        46\n",
      "       Email       0.88      0.82      0.85       120\n",
      "        Form       0.50      0.85      0.63        86\n",
      "      Letter       0.81      0.38      0.51       114\n",
      "        Memo       0.47      0.70      0.56       124\n",
      "        News       0.77      0.89      0.83        38\n",
      "        Note       0.58      0.62      0.60        40\n",
      "      Report       0.48      0.21      0.29        53\n",
      "      Resume       0.31      0.17      0.22        24\n",
      "  Scientific       0.46      0.31      0.37        52\n",
      "\n",
      "    accuracy                           0.62       697\n",
      "   macro avg       0.62      0.58      0.57       697\n",
      "weighted avg       0.65      0.62      0.60       697\n",
      "\n"
     ]
    }
   ],
   "source": [
    "# Evaluate\n",
    "label_names = [\"ADVE\", \"Email\", \"Form\", \"Letter\", \"Memo\", \"News\", \"Note\", \"Report\", \"Resume\", \"Scientific\"]\n",
    "\n",
    "predictions = model.predict(X_test, batch_size = 32)\n",
    "classifier_metrics = classification_report(y_test.argmax(axis = 1),\n",
    "                            predictions.argmax(axis = 1),\n",
    "                            target_names = label_names)\n",
    "\n",
    "\n",
    "print(classifier_metrics)\n",
    "\n",
    "filepath_metrics = open('out/VGG16_metrics_DatAug_adam.txt', 'w')\n",
    "filepath_metrics.write(classifier_metrics)\n",
    "filepath_metrics.close()\n"
   ]
  },
  {
   "cell_type": "code",
   "execution_count": null,
   "metadata": {},
   "outputs": [],
   "source": [
    "def eval_model(X_test, y_test, model, H, optimizer):\n",
    "\n",
    "    predictions = model.predict(X_test)\n",
    "    VGG16_metrics = classification_report(y_test.argmax(axis = 1),\n",
    "                                            predictions.argmax(axis = 1),\n",
    "                                            target_names = label_names)\n",
    "    filepath_metrics = open(f'out/VGG16_metrics{optimizer}.txt', 'w')\n",
    "    filepath_metrics.write(VGG16_metrics)\n",
    "    filepath_metrics.close()\n",
    "\n",
    "    plot_history(H, 5, f\"../out/VGG16_losscurve{optimizer}.png\")\n",
    "\n",
    "    return print(\"Results have been saved to the out folder\")"
   ]
  },
  {
   "cell_type": "code",
   "execution_count": null,
   "metadata": {},
   "outputs": [],
   "source": [
    "filepath_report = \"out/LR_classification_report.txt\"\n",
    "    with open(filepath_report, 'w') as file:\n",
    "        file.write(classifier_metrics)"
   ]
  },
  {
   "cell_type": "code",
   "execution_count": 40,
   "metadata": {},
   "outputs": [],
   "source": [
    "def main():\n",
    "    folder_path = os.path.join(\"../../../../cds-vis-data/Tobacco3482/\") # change to in for the final script\n",
    "    \n",
    "    list_of_images, list_of_labels = load_images(folder_path)\n",
    "    \n",
    "    preprocessed_images = preprocess_images(list_of_images)\n",
    "    #preprocessed_images = [(preprocess_images(image), label) for image, label in preprocessed_images]\n"
   ]
  }
 ],
 "metadata": {
  "kernelspec": {
   "display_name": "Python 3",
   "language": "python",
   "name": "python3"
  },
  "language_info": {
   "codemirror_mode": {
    "name": "ipython",
    "version": 3
   },
   "file_extension": ".py",
   "mimetype": "text/x-python",
   "name": "python",
   "nbconvert_exporter": "python",
   "pygments_lexer": "ipython3",
   "version": "3.10.12"
  }
 },
 "nbformat": 4,
 "nbformat_minor": 2
}
