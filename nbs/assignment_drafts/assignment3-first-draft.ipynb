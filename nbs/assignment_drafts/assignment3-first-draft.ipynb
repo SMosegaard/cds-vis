{
 "cells": [
  {
   "cell_type": "code",
   "execution_count": 1,
   "metadata": {},
   "outputs": [
    {
     "name": "stderr",
     "output_type": "stream",
     "text": [
      "2024-04-10 20:59:48.253058: I external/local_tsl/tsl/cuda/cudart_stub.cc:32] Could not find cuda drivers on your machine, GPU will not be used.\n",
      "2024-04-10 20:59:48.256873: I external/local_tsl/tsl/cuda/cudart_stub.cc:32] Could not find cuda drivers on your machine, GPU will not be used.\n",
      "2024-04-10 20:59:48.345858: I tensorflow/core/platform/cpu_feature_guard.cc:210] This TensorFlow binary is optimized to use available CPU instructions in performance-critical operations.\n",
      "To enable the following instructions: AVX2 AVX512F FMA, in other operations, rebuild TensorFlow with the appropriate compiler flags.\n",
      "2024-04-10 20:59:49.437182: W tensorflow/compiler/tf2tensorrt/utils/py_utils.cc:38] TF-TRT Warning: Could not find TensorRT\n"
     ]
    }
   ],
   "source": [
    "import os\n",
    "import tensorflow as tf\n",
    "\n",
    "from PIL import UnidentifiedImageError\n",
    "\n",
    "# image processsing\n",
    "from tensorflow.keras.preprocessing.image import (load_img,\n",
    "                                                  img_to_array,\n",
    "                                                  ImageDataGenerator)\n",
    "\n",
    "# VGG16 model\n",
    "from tensorflow.keras.applications.vgg16 import (preprocess_input,\n",
    "                                                 decode_predictions,\n",
    "                                                 VGG16)\n",
    "\n",
    "# layers\n",
    "from tensorflow.keras.layers import (Flatten, \n",
    "                                     Dense, \n",
    "                                     Dropout, \n",
    "                                     BatchNormalization)\n",
    "\n",
    "# generic model object\n",
    "from tensorflow.keras.models import Model\n",
    "\n",
    "# optimizers\n",
    "from tensorflow.keras.optimizers.schedules import ExponentialDecay\n",
    "from tensorflow.keras.optimizers import SGD, Adam\n",
    "\n",
    "#scikit-learn\n",
    "from sklearn.preprocessing import LabelBinarizer\n",
    "from sklearn.metrics import classification_report\n",
    "from sklearn.model_selection import train_test_split\n",
    "\n",
    "# for plotting\n",
    "import numpy as np\n",
    "import matplotlib.pyplot as plt"
   ]
  },
  {
   "cell_type": "code",
   "execution_count": 2,
   "metadata": {},
   "outputs": [],
   "source": [
    "def plot_history(H, epochs, outpath):\n",
    "    plt.figure(figsize = (12,6))\n",
    "    plt.subplot(1,2,1)\n",
    "    plt.plot(np.arange(0, epochs), H.history[\"loss\"], label = \"train_loss\")\n",
    "    plt.plot(np.arange(0, epochs), H.history[\"val_loss\"], label = \"val_loss\", linestyle = \":\")\n",
    "    plt.title(\"Loss curve\")\n",
    "    plt.xlabel(\"Epoch\")\n",
    "    plt.ylabel(\"Loss\")\n",
    "    plt.tight_layout()\n",
    "    plt.legend()\n",
    "\n",
    "    plt.subplot(1,2,2)\n",
    "    plt.plot(np.arange(0, epochs), H.history[\"accuracy\"], label = \"train_acc\")\n",
    "    plt.plot(np.arange(0, epochs), H.history[\"val_accuracy\"], label = \"val_acc\", linestyle = \":\")\n",
    "    plt.title(\"Accuracy curve\")\n",
    "    plt.xlabel(\"Epoch\")\n",
    "    plt.ylabel(\"Accuracy\")\n",
    "    plt.tight_layout()\n",
    "    plt.legend()\n",
    "    plt.show()\n",
    "    plt.savefig(outpath)\n"
   ]
  },
  {
   "cell_type": "code",
   "execution_count": 3,
   "metadata": {},
   "outputs": [
    {
     "name": "stdout",
     "output_type": "stream",
     "text": [
      "Skipping ../../../../cds-vis-data/Tobacco3482/ADVE/Thumbs.db\n",
      "Skipping ../../../../cds-vis-data/Tobacco3482/Email/Thumbs.db\n"
     ]
    }
   ],
   "source": [
    "folder_path = os.path.join(\"../../../../cds-vis-data/Tobacco3482\")\n",
    "\n",
    "# Initialize empty lists\n",
    "list_of_images = [] \n",
    "list_of_labels = []\n",
    "\n",
    "# Loop through subfolders\n",
    "for subfolder in sorted(os.listdir(folder_path)):\n",
    "\n",
    "        # Extract images from the individual folders\n",
    "        subfolder_path  = os.path.join(folder_path, subfolder)\n",
    "\n",
    "        for file in os.listdir(subfolder_path):\n",
    "                \n",
    "                individual_filepath = os.path.join(subfolder_path, file)\n",
    "\n",
    "                try:\n",
    "                        # Load image from file\n",
    "                        image = load_img(individual_filepath, target_size = (224, 224))\n",
    "                        # Convert the image pixels to a numpy array\n",
    "                        image = img_to_array(image)\n",
    "                        list_of_images.append(image)\n",
    "\n",
    "                        # Extract image name and append to list\n",
    "                        #image_name = individual_filepath.split(\"/\")[-1]\n",
    "                        #list_of_images.append(image_name)\n",
    "\n",
    "                        # Extract label and append to list\n",
    "                        label = subfolder_path.split(\"/\")[-1]\n",
    "                        list_of_labels.append(label)\n",
    "                        \n",
    "                        # Append the preprocessed image along with its label as a tuple\n",
    "                        #list_of_images.append((image, label))\n",
    "\n",
    "                except (UnidentifiedImageError):\n",
    "                        print(f\"Skipping {individual_filepath}\")\n",
    "\n",
    "array_of_images = np.array(list_of_images)\n",
    "X = preprocess_input(array_of_images)\n",
    "y = list_of_labels\n"
   ]
  },
  {
   "cell_type": "code",
   "execution_count": 11,
   "metadata": {},
   "outputs": [],
   "source": [
    "def load_images(folder_path):\n",
    "        \n",
    "        # Initialize empty lists\n",
    "        list_of_images = [] \n",
    "        list_of_labels = []\n",
    "\n",
    "        for subfolder in sorted(os.listdir(folder_path)):\n",
    "                \n",
    "                # Extract images from the individual folders\n",
    "                subfolder_path  = os.path.join(folder_path, subfolder)\n",
    "                \n",
    "                for file in os.listdir(subfolder_path):\n",
    "                        \n",
    "                        individual_filepath = os.path.join(subfolder_path, file)\n",
    "                        \n",
    "                        try:\n",
    "                                # Load image from file\n",
    "                                image = load_img(individual_filepath, target_size = (224, 224))\n",
    "\n",
    "                                # Convert the image pixels to a numpy array\n",
    "                                image = img_to_array(image)\n",
    "\n",
    "                                list_of_images.append(image)\n",
    "\n",
    "                                # Extract image name and append to list\n",
    "                                #image_name = individual_filepath.split(\"/\")[-1]\n",
    "                                #list_of_images.append(image_name)\n",
    "\n",
    "                                # Extract label and append to list\n",
    "                                label = subfolder_path.split(\"/\")[-1]\n",
    "                                list_of_labels.append(label)\n",
    "                \n",
    "                        except (UnidentifiedImageError):\n",
    "                                print(f\"Skipping {individual_filepath}\")\n",
    "        \n",
    "        array_of_images = np.array(list_of_images)\n",
    "        X = preprocess_input(array_of_images)\n",
    "        y = list_of_labels\n",
    "        \n",
    "        return X, y\n"
   ]
  },
  {
   "cell_type": "code",
   "execution_count": null,
   "metadata": {},
   "outputs": [],
   "source": []
  },
  {
   "cell_type": "code",
   "execution_count": 23,
   "metadata": {},
   "outputs": [],
   "source": [
    "preprocessed_images = []\n",
    "\n",
    "for image in list_of_images:\n",
    "#for image_tuple in list_of_images: \n",
    "    #image = image_tuple[0]  # Extract the image from the tuple\n",
    "    #label = image_tuple[1]  # Extract the label from the tuple\n",
    "\n",
    "    # Convert the image pixels to a numpy array\n",
    "    #image_array = img_to_array(image)\n",
    "\n",
    "    # reshape data to 4D tensor (shape = [number of images, height, width, number of color-channels])\n",
    "    image = image.reshape((1, image.shape[0], image.shape[1], image.shape[2]))\n",
    "\n",
    "    # prepare the image for the VGG model\n",
    "    image = preprocess_input(image)\n",
    "    \n",
    "    # append the preprocessed image along with its label as a tuple\n",
    "    preprocessed_images.append(image)\n"
   ]
  },
  {
   "cell_type": "code",
   "execution_count": 21,
   "metadata": {},
   "outputs": [],
   "source": [
    "\n",
    "def preprocess_images(list_of_images):\n",
    "\n",
    "    # Initialize empty lists\n",
    "    preprocessed_images = []\n",
    "\n",
    "    for image_tuple in list_of_images:\n",
    "        image = image_tuple[0]  # Extract the image from the tuple\n",
    "        label = image_tuple[1]\n",
    "\n",
    "        # convert the image pixels to a numpy array\n",
    "        image = img_to_array(image) \n",
    "\n",
    "        # reshape data to 4D tensor (shape = [number of images, height, width, number of color-channels])\n",
    "        image = image.reshape((1, image.shape[0], image.shape[1], image.shape[2]))\n",
    "        \n",
    "        # prepare the image for the VGG model\n",
    "        image = preprocess_input(image)\n",
    "\n",
    "        # append to list\n",
    "        preprocessed_images.append(image)\n",
    "\n",
    "    return preprocessed_images\n"
   ]
  },
  {
   "cell_type": "code",
   "execution_count": null,
   "metadata": {},
   "outputs": [],
   "source": []
  },
  {
   "cell_type": "code",
   "execution_count": 4,
   "metadata": {},
   "outputs": [],
   "source": [
    "X_train, X_test, y_train, y_test = train_test_split(X, y, test_size = 0.2, stratify = y, random_state = 123)\n",
    "\n",
    "X_train = X_train.astype(\"float32\") / 255.\n",
    "X_test = X_test.astype(\"float32\") / 255.\n",
    "\n",
    "lb = LabelBinarizer()\n",
    "y_train = lb.fit_transform(y_train)   # shape (2785, 10)\n",
    "y_test = lb.fit_transform(y_test)     # shape (697, 10)\n"
   ]
  },
  {
   "cell_type": "code",
   "execution_count": null,
   "metadata": {},
   "outputs": [],
   "source": [
    "# Finetune the VGG16 model on new data\n",
    "\n",
    "# Split data into train and test:\n",
    "\n",
    "# Extract images and labels from the tuble into separate lists\n",
    "\n",
    "X = preprocessed_images\n",
    "y = list_of_labels\n",
    "\n",
    "#X = np.array([image for image, label in preprocessed_images])\n",
    "#y = np.array([label for image, label in preprocessed_images])\n",
    "\n",
    "# Split data into training and testing sets. 'stratify' ensures that all labels are represented in both sets\n",
    "X_train, X_test, y_train, y_test = train_test_split(X, y, test_size = 0.2, stratify = y, random_state = 123)\n",
    "\n",
    "# normalize\n",
    "X_train = X_train.astype(\"float32\") / 255.\n",
    "X_test = X_test.astype(\"float32\") / 255.\n",
    "\n",
    "# one-hot encondings\n",
    "lb = LabelBinarizer()\n",
    "y_train = lb.fit_transform(y_train)   # shape (2785, 10)\n",
    "y_test = lb.fit_transform(y_test)     # shape (697, 10)\n",
    "\n",
    "# Tensor shape 4D (num of images, 224, 224, 3)\n",
    "#X_train = np.reshape(X_train, (X_train.shape[0],) + X_train.shape[2:])  # shape (2785, 224, 224, 3)\n",
    "#X_test = np.reshape(X_test, (X_test.shape[0],) + X_test.shape[2:])      # shape (697, 224, 224, 3)\n",
    "\n",
    "# Scale image features\n",
    "#def scale(X):\n",
    "#    scaled_images  = X  / 255.0\n",
    "#    return scaled_images "
   ]
  },
  {
   "cell_type": "code",
   "execution_count": null,
   "metadata": {},
   "outputs": [],
   "source": [
    "def data_split(X,y):\n",
    "    \n",
    "    X_train, X_test, y_train, y_test = train_test_split(X, y, test_size = 0.2, stratify = y, random_state = 123)\n",
    "    X_train = X_train.astype(\"float32\") / 255.\n",
    "    X_test = X_test.astype(\"float32\") / 255.\n",
    "    lb = LabelBinarizer()\n",
    "    y_train = lb.fit_transform(y_train)\n",
    "    y_test = lb.fit_transform(y_test) \n",
    "\n",
    "    return X_train, X_test, y_train, y_test"
   ]
  },
  {
   "cell_type": "markdown",
   "metadata": {},
   "source": [
    "Vi kører alle\n",
    "```\n",
    "model = VGG16()\n",
    "\n",
    "# skal vi alle gøre - load model without classifier layers\n",
    "model = VGG16(include_top = False,        # dont use the final layer of the classifier\n",
    "              pooling = 'avg',\n",
    "              input_shape = (32, 32, 3))  # (height, width, number of color-channels)\n",
    "\n",
    "# skal vi alle gøre - mark loaded layers as not trainable\n",
    "for layer in model.layers:\n",
    "    layer.trainable = False\n",
    "```\n",
    "\n",
    "1. Ida kører clean model:\n",
    "```\n",
    "flat1 = Flatten()(model.layers[-1].output)  # take final layer (-1) in the model and append to flat1\n",
    "class1 = Dense(128, activation = 'relu')(flat1)\n",
    "output = Dense(10, activation = 'softmax')(class1)\n",
    "```\n",
    "\n",
    "2. Laura kører BatchNorm\n",
    "```\n",
    "flat1 = Flatten()(model.layers[-1].output)\n",
    "bn = BatchNormalization()(flat1)\n",
    "class1 = Dense(128, \n",
    "               activation='relu')(bn)\n",
    "output = Dense(10, \n",
    "               activation='softmax')(class2)\n",
    "```\n",
    "\n",
    "3. Jeg Sofie kører data argumentation - nedenstående\n",
    "\n",
    "4. Alle kører både sgd og adam!\n",
    "```\n",
    "sgd = SGD(learning_rate=lr_schedule)\n",
    "adam = Adam(learning_rate=lr_schedule)\n",
    "```"
   ]
  },
  {
   "cell_type": "code",
   "execution_count": null,
   "metadata": {},
   "outputs": [],
   "source": [
    "# load model without classifier layers\n",
    "model = VGG16(include_top = False, \n",
    "              pooling = 'avg',\n",
    "              input_shape = (224, 224, 3)) \n",
    "\n",
    "# mark loaded layers as not trainable\n",
    "for layer in model.layers:\n",
    "    layer.trainable = False\n",
    "    \n",
    "# add new classifier layers\n",
    "flat1 = Flatten()(model.layers[-1].output)\n",
    "bn = BatchNormalization()(flat1)\n",
    "class2 = Dense(128, \n",
    "               activation='relu')(bn)\n",
    "output = Dense(10, \n",
    "               activation='softmax')(class2)\n",
    "\n",
    "# define new model\n",
    "model = Model(inputs = model.inputs, \n",
    "              outputs = output)\n",
    "\n",
    "# compile\n",
    "lr_schedule = tf.keras.optimizers.schedules.ExponentialDecay(\n",
    "    initial_learning_rate = 0.01,\n",
    "    decay_steps = 10000,\n",
    "    decay_rate = 0.9)\n",
    "    \n",
    "sgd = SGD(learning_rate=lr_schedule)\n",
    "#adam = Adam(learning_rate=lr_schedule)\n",
    "\n",
    "model.compile(optimizer = sgd,\n",
    "              loss = 'categorical_crossentropy',\n",
    "              metrics = ['accuracy'])\n",
    "# summarize\n",
    "model.summary()"
   ]
  },
  {
   "cell_type": "code",
   "execution_count": 7,
   "metadata": {},
   "outputs": [],
   "source": [
    "# Define data generator\n",
    "\n",
    "# Add noise to an image\n",
    "def add_noise(img):\n",
    "    noise = np.random.normal(0, scale = 25, size = img.shape)\n",
    "    noisy_image = np.clip(image + noise, 0, 255) #.astype(np.uint8)\n",
    "    return noisy_image\n",
    "\n",
    "# flip along x axis (mirror image)\n",
    "datagen = ImageDataGenerator(horizontal_flip = True, \n",
    "                             rotation_range = 90,\n",
    "                             preprocessing_function = add_noise,\n",
    "                             validation_split = 0.1)\n"
   ]
  },
  {
   "cell_type": "code",
   "execution_count": 8,
   "metadata": {},
   "outputs": [
    {
     "name": "stdout",
     "output_type": "stream",
     "text": [
      "Epoch 1/10\n"
     ]
    },
    {
     "name": "stderr",
     "output_type": "stream",
     "text": [
      "/home/ucloud/.local/lib/python3.10/site-packages/keras/src/trainers/data_adapters/py_dataset_adapter.py:120: UserWarning: Your `PyDataset` class should call `super().__init__(**kwargs)` in its constructor. `**kwargs` can include `workers`, `use_multiprocessing`, `max_queue_size`. Do not pass these arguments to `fit()`, as they will be ignored.\n",
      "  self._warn_if_super_not_called()\n",
      "2024-04-10 19:58:30.397984: I tensorflow/core/kernels/data/shuffle_dataset_op.cc:450] ShuffleDatasetV3:2: Filling up shuffle buffer (this may take a while): 5 of 8\n",
      "2024-04-10 19:58:36.546636: I tensorflow/core/kernels/data/shuffle_dataset_op.cc:480] Shuffle buffer filled.\n"
     ]
    },
    {
     "name": "stdout",
     "output_type": "stream",
     "text": [
      "\u001b[1m22/22\u001b[0m \u001b[32m━━━━━━━━━━━━━━━━━━━━\u001b[0m\u001b[37m\u001b[0m \u001b[1m358s\u001b[0m 16s/step - accuracy: 0.1418 - loss: 2.4374 - val_accuracy: 0.1583 - val_loss: 16.0289\n",
      "Epoch 2/10\n"
     ]
    },
    {
     "name": "stderr",
     "output_type": "stream",
     "text": [
      "2024-04-10 20:04:27.459833: I tensorflow/core/kernels/data/shuffle_dataset_op.cc:450] ShuffleDatasetV3:2: Filling up shuffle buffer (this may take a while): 5 of 8\n",
      "2024-04-10 20:04:33.381429: I tensorflow/core/kernels/data/shuffle_dataset_op.cc:480] Shuffle buffer filled.\n"
     ]
    },
    {
     "name": "stdout",
     "output_type": "stream",
     "text": [
      "\u001b[1m22/22\u001b[0m \u001b[32m━━━━━━━━━━━━━━━━━━━━\u001b[0m\u001b[37m\u001b[0m \u001b[1m351s\u001b[0m 15s/step - accuracy: 0.1712 - loss: 2.2178 - val_accuracy: 0.1583 - val_loss: 7.3275\n",
      "Epoch 3/10\n"
     ]
    },
    {
     "name": "stderr",
     "output_type": "stream",
     "text": [
      "2024-04-10 20:10:18.438767: I tensorflow/core/kernels/data/shuffle_dataset_op.cc:450] ShuffleDatasetV3:2: Filling up shuffle buffer (this may take a while): 5 of 8\n",
      "2024-04-10 20:10:24.148722: I tensorflow/core/kernels/data/shuffle_dataset_op.cc:480] Shuffle buffer filled.\n"
     ]
    },
    {
     "name": "stdout",
     "output_type": "stream",
     "text": [
      "\u001b[1m22/22\u001b[0m \u001b[32m━━━━━━━━━━━━━━━━━━━━\u001b[0m\u001b[37m\u001b[0m \u001b[1m349s\u001b[0m 15s/step - accuracy: 0.1667 - loss: 2.2025 - val_accuracy: 0.1583 - val_loss: 5.5431\n",
      "Epoch 4/10\n"
     ]
    },
    {
     "name": "stderr",
     "output_type": "stream",
     "text": [
      "2024-04-10 20:16:09.457308: I tensorflow/core/kernels/data/shuffle_dataset_op.cc:450] ShuffleDatasetV3:2: Filling up shuffle buffer (this may take a while): 6 of 8\n",
      "2024-04-10 20:16:13.643838: I tensorflow/core/kernels/data/shuffle_dataset_op.cc:480] Shuffle buffer filled.\n"
     ]
    },
    {
     "name": "stdout",
     "output_type": "stream",
     "text": [
      "\u001b[1m22/22\u001b[0m \u001b[32m━━━━━━━━━━━━━━━━━━━━\u001b[0m\u001b[37m\u001b[0m \u001b[1m352s\u001b[0m 16s/step - accuracy: 0.1510 - loss: 2.2050 - val_accuracy: 0.1583 - val_loss: 3.4204\n",
      "Epoch 5/10\n"
     ]
    },
    {
     "name": "stderr",
     "output_type": "stream",
     "text": [
      "2024-04-10 20:21:59.847496: I tensorflow/core/kernels/data/shuffle_dataset_op.cc:450] ShuffleDatasetV3:2: Filling up shuffle buffer (this may take a while): 5 of 8\n",
      "2024-04-10 20:22:06.143791: I tensorflow/core/kernels/data/shuffle_dataset_op.cc:480] Shuffle buffer filled.\n"
     ]
    },
    {
     "name": "stdout",
     "output_type": "stream",
     "text": [
      "\u001b[1m22/22\u001b[0m \u001b[32m━━━━━━━━━━━━━━━━━━━━\u001b[0m\u001b[37m\u001b[0m \u001b[1m350s\u001b[0m 15s/step - accuracy: 0.1785 - loss: 2.1779 - val_accuracy: 0.1691 - val_loss: 2.5320\n",
      "Epoch 6/10\n"
     ]
    },
    {
     "name": "stderr",
     "output_type": "stream",
     "text": [
      "2024-04-10 20:27:50.064885: I tensorflow/core/kernels/data/shuffle_dataset_op.cc:450] ShuffleDatasetV3:2: Filling up shuffle buffer (this may take a while): 5 of 8\n",
      "2024-04-10 20:27:56.970655: I tensorflow/core/kernels/data/shuffle_dataset_op.cc:480] Shuffle buffer filled.\n"
     ]
    },
    {
     "name": "stdout",
     "output_type": "stream",
     "text": [
      "\u001b[1m22/22\u001b[0m \u001b[32m━━━━━━━━━━━━━━━━━━━━\u001b[0m\u001b[37m\u001b[0m \u001b[1m349s\u001b[0m 15s/step - accuracy: 0.1929 - loss: 2.1830 - val_accuracy: 0.1583 - val_loss: 2.2360\n",
      "Epoch 7/10\n"
     ]
    },
    {
     "name": "stderr",
     "output_type": "stream",
     "text": [
      "2024-04-10 20:33:38.757624: I tensorflow/core/kernels/data/shuffle_dataset_op.cc:450] ShuffleDatasetV3:2: Filling up shuffle buffer (this may take a while): 5 of 8\n",
      "2024-04-10 20:33:45.979142: I tensorflow/core/kernels/data/shuffle_dataset_op.cc:480] Shuffle buffer filled.\n"
     ]
    },
    {
     "name": "stdout",
     "output_type": "stream",
     "text": [
      "\u001b[1m22/22\u001b[0m \u001b[32m━━━━━━━━━━━━━━━━━━━━\u001b[0m\u001b[37m\u001b[0m \u001b[1m349s\u001b[0m 15s/step - accuracy: 0.1728 - loss: 2.1820 - val_accuracy: 0.1763 - val_loss: 2.1792\n",
      "Epoch 8/10\n"
     ]
    },
    {
     "name": "stderr",
     "output_type": "stream",
     "text": [
      "2024-04-10 20:39:28.063358: I tensorflow/core/kernels/data/shuffle_dataset_op.cc:450] ShuffleDatasetV3:2: Filling up shuffle buffer (this may take a while): 5 of 8\n",
      "2024-04-10 20:39:34.525336: I tensorflow/core/kernels/data/shuffle_dataset_op.cc:480] Shuffle buffer filled.\n"
     ]
    },
    {
     "name": "stdout",
     "output_type": "stream",
     "text": [
      "\u001b[1m22/22\u001b[0m \u001b[32m━━━━━━━━━━━━━━━━━━━━\u001b[0m\u001b[37m\u001b[0m \u001b[1m345s\u001b[0m 15s/step - accuracy: 0.1656 - loss: 2.1739 - val_accuracy: 0.1942 - val_loss: 2.1335\n",
      "Epoch 9/10\n"
     ]
    },
    {
     "name": "stderr",
     "output_type": "stream",
     "text": [
      "2024-04-10 20:45:13.257934: I tensorflow/core/kernels/data/shuffle_dataset_op.cc:450] ShuffleDatasetV3:2: Filling up shuffle buffer (this may take a while): 5 of 8\n",
      "2024-04-10 20:45:20.253989: I tensorflow/core/kernels/data/shuffle_dataset_op.cc:480] Shuffle buffer filled.\n"
     ]
    },
    {
     "name": "stdout",
     "output_type": "stream",
     "text": [
      "\u001b[1m22/22\u001b[0m \u001b[32m━━━━━━━━━━━━━━━━━━━━\u001b[0m\u001b[37m\u001b[0m \u001b[1m347s\u001b[0m 15s/step - accuracy: 0.1591 - loss: 2.1682 - val_accuracy: 0.2122 - val_loss: 2.1703\n",
      "Epoch 10/10\n"
     ]
    },
    {
     "name": "stderr",
     "output_type": "stream",
     "text": [
      "2024-04-10 20:51:01.136045: I tensorflow/core/kernels/data/shuffle_dataset_op.cc:450] ShuffleDatasetV3:2: Filling up shuffle buffer (this may take a while): 5 of 8\n",
      "2024-04-10 20:51:08.045419: I tensorflow/core/kernels/data/shuffle_dataset_op.cc:480] Shuffle buffer filled.\n"
     ]
    },
    {
     "name": "stdout",
     "output_type": "stream",
     "text": [
      "\u001b[1m22/22\u001b[0m \u001b[32m━━━━━━━━━━━━━━━━━━━━\u001b[0m\u001b[37m\u001b[0m \u001b[1m348s\u001b[0m 15s/step - accuracy: 0.1716 - loss: 2.1738 - val_accuracy: 0.2050 - val_loss: 2.1407\n"
     ]
    }
   ],
   "source": [
    "# Train\n",
    "\n",
    "# fit the data generator to our images\n",
    "datagen.fit(X_train)\n",
    "\n",
    "# fits the model on batches with real-time data augmentation:\n",
    "H = model.fit(datagen.flow(X_train, y_train, batch_size = 128), \n",
    "                            validation_data = datagen.flow(X_train, y_train, \n",
    "                                                           batch_size = 64, \n",
    "                                                           subset = \"validation\"),\n",
    "                                                           epochs = 20)   # training for less time\n",
    "\n",
    "# batch_size 128\n",
    "# epochs 10\n",
    "# 1 epoch 358s \n",
    "# fra 19.58 til 20:51\n",
    "\n",
    "# new test \n",
    "# batch 64\n",
    "# epochs 20"
   ]
  },
  {
   "cell_type": "code",
   "execution_count": 9,
   "metadata": {},
   "outputs": [
    {
     "data": {
      "image/png": "[encoded data removed]",
      "text/plain": [
       "<Figure size 1200x600 with 2 Axes>"
      ]
     },
     "metadata": {},
     "output_type": "display_data"
    },
    {
     "data": {
      "text/plain": [
       "<Figure size 640x480 with 0 Axes>"
      ]
     },
     "metadata": {},
     "output_type": "display_data"
    }
   ],
   "source": [
    "# Inspect\n",
    "\n",
    "plot_history(H, 10, \"out/VGG16_losscurve_data_augmentation_sgd-new.png\")"
   ]
  },
  {
   "cell_type": "code",
   "execution_count": 10,
   "metadata": {},
   "outputs": [
    {
     "name": "stdout",
     "output_type": "stream",
     "text": [
      "\u001b[1m6/6\u001b[0m \u001b[32m━━━━━━━━━━━━━━━━━━━━\u001b[0m\u001b[37m\u001b[0m \u001b[1m70s\u001b[0m 11s/step\n",
      "              precision    recall  f1-score   support\n",
      "\n",
      "        ADVE       0.00      0.00      0.00        46\n",
      "       Email       0.00      0.00      0.00       120\n",
      "        Form       0.00      0.00      0.00        86\n",
      "      Letter       0.00      0.00      0.00       114\n",
      "        Memo       0.18      1.00      0.30       124\n",
      "        News       0.00      0.00      0.00        38\n",
      "        Note       0.00      0.00      0.00        40\n",
      "      Report       0.00      0.00      0.00        53\n",
      "      Resume       0.00      0.00      0.00        24\n",
      "  Scientific       0.00      0.00      0.00        52\n",
      "\n",
      "    accuracy                           0.18       697\n",
      "   macro avg       0.02      0.10      0.03       697\n",
      "weighted avg       0.03      0.18      0.05       697\n",
      "\n"
     ]
    },
    {
     "name": "stderr",
     "output_type": "stream",
     "text": [
      "/home/ucloud/.local/lib/python3.10/site-packages/sklearn/metrics/_classification.py:1509: UndefinedMetricWarning: Precision is ill-defined and being set to 0.0 in labels with no predicted samples. Use `zero_division` parameter to control this behavior.\n",
      "  _warn_prf(average, modifier, f\"{metric.capitalize()} is\", len(result))\n",
      "/home/ucloud/.local/lib/python3.10/site-packages/sklearn/metrics/_classification.py:1509: UndefinedMetricWarning: Precision is ill-defined and being set to 0.0 in labels with no predicted samples. Use `zero_division` parameter to control this behavior.\n",
      "  _warn_prf(average, modifier, f\"{metric.capitalize()} is\", len(result))\n",
      "/home/ucloud/.local/lib/python3.10/site-packages/sklearn/metrics/_classification.py:1509: UndefinedMetricWarning: Precision is ill-defined and being set to 0.0 in labels with no predicted samples. Use `zero_division` parameter to control this behavior.\n",
      "  _warn_prf(average, modifier, f\"{metric.capitalize()} is\", len(result))\n"
     ]
    }
   ],
   "source": [
    "# Evaluate\n",
    "label_names = [\"ADVE\", \"Email\", \"Form\", \"Letter\", \"Memo\", \"News\", \"Note\", \"Report\", \"Resume\", \"Scientific\"]\n",
    "\n",
    "predictions = model.predict(X_test, batch_size = 128)\n",
    "classifier_metrics = classification_report(y_test.argmax(axis = 1),\n",
    "                            predictions.argmax(axis = 1),\n",
    "                            target_names = label_names)\n",
    "\n",
    "\n",
    "print(classifier_metrics)\n",
    "\n",
    "filepath_metrics = open('out/VGG16_metrics_data_augmentation_sgd-new.txt', 'w')\n",
    "filepath_metrics.write(classifier_metrics)\n",
    "filepath_metrics.close()\n"
   ]
  },
  {
   "cell_type": "code",
   "execution_count": null,
   "metadata": {},
   "outputs": [],
   "source": [
    "def eval_model(X_test, y_test, model, H, optimizer):\n",
    "\n",
    "    predictions = model.predict(X_test)\n",
    "    VGG16_metrics = classification_report(y_test.argmax(axis = 1),\n",
    "                                            predictions.argmax(axis = 1),\n",
    "                                            target_names = label_names)\n",
    "    filepath_metrics = open(f'out/VGG16_metrics{optimizer}.txt', 'w')\n",
    "    filepath_metrics.write(VGG16_metrics)\n",
    "    filepath_metrics.close()\n",
    "\n",
    "    plot_history(H, 5, f\"../out/VGG16_losscurve{optimizer}.png\")\n",
    "\n",
    "    return print(\"Results have been saved to the out folder\")"
   ]
  },
  {
   "cell_type": "code",
   "execution_count": null,
   "metadata": {},
   "outputs": [],
   "source": [
    "filepath_report = \"out/LR_classification_report.txt\"\n",
    "    with open(filepath_report, 'w') as file:\n",
    "        file.write(classifier_metrics)"
   ]
  },
  {
   "cell_type": "code",
   "execution_count": 40,
   "metadata": {},
   "outputs": [],
   "source": [
    "def main():\n",
    "    folder_path = os.path.join(\"../../../../cds-vis-data/Tobacco3482/\") # change to in for the final script\n",
    "    \n",
    "    list_of_images, list_of_labels = load_images(folder_path)\n",
    "    \n",
    "    preprocessed_images = preprocess_images(list_of_images)\n",
    "    #preprocessed_images = [(preprocess_images(image), label) for image, label in preprocessed_images]\n"
   ]
  }
 ],
 "metadata": {
  "kernelspec": {
   "display_name": "Python 3",
   "language": "python",
   "name": "python3"
  },
  "language_info": {
   "codemirror_mode": {
    "name": "ipython",
    "version": 3
   },
   "file_extension": ".py",
   "mimetype": "text/x-python",
   "name": "python",
   "nbconvert_exporter": "python",
   "pygments_lexer": "ipython3",
   "version": "3.10.12"
  }
 },
 "nbformat": 4,
 "nbformat_minor": 2
}
