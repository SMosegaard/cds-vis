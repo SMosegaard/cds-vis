{
 "cells": [
  {
   "cell_type": "code",
   "execution_count": 2,
   "metadata": {},
   "outputs": [],
   "source": [
    "import os\n",
    "import pandas as pd\n",
    "from facenet_pytorch import MTCNN, InceptionResnetV1\n",
    "import torch\n",
    "from PIL import Image, ImageFile\n",
    "ImageFile.LOAD_TRUNCATED_IMAGES = True\n",
    "import matplotlib.pyplot as plt\n",
    "import seaborn as sns"
   ]
  },
  {
   "cell_type": "code",
   "execution_count": null,
   "metadata": {},
   "outputs": [],
   "source": [
    "# samlet\n",
    "\n",
    "def initialize_MTCNN():\n",
    "    mtcnn = MTCNN(keep_all = True)\n",
    "    return mtcnn\n",
    "\n",
    "def load_classifier():\n",
    "    resnet = InceptionResnetV1(pretrained = 'casia-webface').eval()\n",
    "    return resnet\n",
    "\n",
    "def initialize_df():\n",
    "    df = pd.DataFrame(columns = (\"Newspaper\", \"Decade\", \"Number of faces\", \"Present face\", \"Pages with faces (%)\"))\n",
    "    return df\n",
    "\n",
    "def get_decade(year):\n",
    "    decade = str(year)[:3] + \"0\"\n",
    "    return decade\n",
    "\n",
    "def face_detection(image, mtcnn, df, newspaper, decade):\n",
    "    boxes, _ = mtcnn.detect(image)\n",
    "    if boxes is not None:\n",
    "        n_faces = boxes.shape[0]\n",
    "        for i in range(n_faces):\n",
    "            df.loc[len(df)] = [newspaper, decade, n_faces, 1, 0]\n",
    "    else:\n",
    "        df.loc[len(df)] = [newspaper, decade, 0, 0, 0]\n",
    "    return df \n",
    "\n",
    "\n",
    "def process_newspaper(filepath, mtcnn, df):\n",
    "    for newspaper in os.listdir(filepath):\n",
    "        newspaper_path = os.path.join(filepath, newspaper)\n",
    "        for issue in os.listdir(newspaper_path):\n",
    "            issue_year = int(issue.split('-')[1])\n",
    "            decade = get_decade(issue_year)\n",
    "            issue_dir = os.path.join(newspaper_path, issue)\n",
    "            print(issue_dir)\n",
    "            image = Image.open(issue_dir)\n",
    "            df = face_detection(image, mtcnn, df, newspaper, decade)\n",
    "    return df\n",
    "\n",
    "\n",
    "def calculate_pages_with_faces(df):\n",
    "    total_faces = df.groupby([\"Newspaper\", \"Decade\"]).sum([\"Number of faces\", \"Present face\"]).reset_index()\n",
    "    total_pages = df.groupby([\"Newspaper\", \"Decade\"]).size().reset_index(name=\"Number of Pages\")\n",
    "    pages_with_faces = total_faces.merge(total_pages, on = [\"Newspaper\", \"Decade\"])\n",
    "    pages_with_faces[\"Pages with Faces (%)\"] = (pages_with_faces[\"Present face\"] / pages_with_faces[\"Number of Pages\"]) * 100\n",
    "    return pages_with_faces\n",
    "\n",
    "def plot(pages_with_faces, outpath):\n",
    "    sns.relplot(data = pages_with_faces, kind = \"line\", x = \"Decade\", y = \"Pages with faces (%)\", hue = \"Newspaper\")\n",
    "    plt.title('Percentage of pages with faces per pecade')\n",
    "    plt.savefig(outpath)\n",
    "    return print(\"The plot has been saved to the out folder\")\n",
    "\n",
    "\n",
    "def save_df_to_csv(df, csv_outpath):\n",
    "    \"\"\"\n",
    "    Save the dataframe as .csv \n",
    "    \"\"\"\n",
    "    df.to_csv(csv_outpath)\n",
    "    return print(\"The results have been saved to the out folder\")\n",
    "\n",
    "\n",
    "def main():\n",
    "    filepath = os.path.join(\"../in_test\")\n",
    "\n",
    "    mtcnn = initialize_MTCNN()\n",
    "    resnet = load_classifier()\n",
    "\n",
    "    df = initialize_df()\n",
    "    print(df)\n",
    "\n",
    "    df = process_newspaper(filepath, mtcnn, df)\n",
    "    print(df)\n",
    "\n",
    "    pages_with_faces = calculate_pages_with_faces(df)\n",
    "    save_df_to_csv(pages_with_faces, \"../out/face_count.csv\")\n",
    "    print(pages_with_faces)\n",
    "\n",
    "    plot(pages_with_faces, \"../out/face_plot.png\")\n",
    "\n",
    "if __name__ == \"__main__\":\n",
    "    main()"
   ]
  },
  {
   "cell_type": "code",
   "execution_count": 39,
   "metadata": {},
   "outputs": [],
   "source": [
    "def calculate_pages_with_faces_1(df):\n",
    "    total_faces =  df.groupby([\"Newspaper\", \"Decade\"]).sum([\"Number of faces\", \"Present face\"]).reset_index()\n",
    "    total_pages = df.value_counts([\"Newspaper\",\"Decade\"]).reset_index().rename(columns = {\"count\":\"Number of pages\"})    \n",
    "    pages_with_faces = pd.merge(total_faces, total_pages, on = [\"Newspaper\", \"Decade\"])\n",
    "    pages_with_faces[\"Pages with faces (%)\"] = (pages_with_faces[\"Present face\"] / pages_with_faces[\"Number of pages\"]) * 100\n",
    "    return pages_with_faces\n",
    "\n",
    "def calculate_pages_with_faces_2(df):\n",
    "    total_faces = df.groupby([\"Newspaper\", \"Decade\"]).sum([\"Number of faces\", \"Present face\"]).reset_index()\n",
    "    total_pages = df.groupby([\"Newspaper\", \"Decade\"]).size().reset_index(name=\"Number of Pages\")\n",
    "    pages_with_faces = total_faces.merge(total_pages, on=[\"Newspaper\", \"Decade\"])\n",
    "    pages_with_faces[\"Pages with Faces (%)\"] = (pages_with_faces[\"Present face\"] / pages_with_faces[\"Number of Pages\"]) * 100\n",
    "    return pages_with_faces\n",
    "    \n",
    "def calculate_pages_with_faces_3(df):\n",
    "    total_faces = df.groupby([\"Newspaper\", \"Decade\"]).sum([\"Number of faces\", \"Present face\"]).reset_index()\n",
    "    total_pages = df.groupby([\"Newspaper\", \"Decade\"]).size().reset_index(name=\"Number of Pages\")\n",
    "    pages_with_faces = pd.merge(total_pages, pages_with_faces, on = [\"Newspaper\", \"Decade\"]) \n",
    "    pages_with_faces[\"Pages with faces (%)\"] = (pages_with_faces[\"Present face\"] / pages_with_faces[\"Number of pages\"]) * 100\n",
    "    return pages_with_faces"
   ]
  },
  {
   "cell_type": "code",
   "execution_count": 41,
   "metadata": {},
   "outputs": [
    {
     "data": {
      "text/html": [
       "<div>\n",
       "<style scoped>\n",
       "    .dataframe tbody tr th:only-of-type {\n",
       "        vertical-align: middle;\n",
       "    }\n",
       "\n",
       "    .dataframe tbody tr th {\n",
       "        vertical-align: top;\n",
       "    }\n",
       "\n",
       "    .dataframe thead th {\n",
       "        text-align: right;\n",
       "    }\n",
       "</style>\n",
       "<table border=\"1\" class=\"dataframe\">\n",
       "  <thead>\n",
       "    <tr style=\"text-align: right;\">\n",
       "      <th></th>\n",
       "      <th>Newspaper</th>\n",
       "      <th>Decade</th>\n",
       "      <th>Number of faces</th>\n",
       "      <th>Present face</th>\n",
       "      <th>Pages with faces (%)</th>\n",
       "      <th>Number of Pages</th>\n",
       "      <th>Pages with Faces (%)</th>\n",
       "    </tr>\n",
       "  </thead>\n",
       "  <tbody>\n",
       "    <tr>\n",
       "      <th>0</th>\n",
       "      <td>GDL</td>\n",
       "      <td>1790</td>\n",
       "      <td>0</td>\n",
       "      <td>0</td>\n",
       "      <td>0</td>\n",
       "      <td>1</td>\n",
       "      <td>0.0</td>\n",
       "    </tr>\n",
       "    <tr>\n",
       "      <th>1</th>\n",
       "      <td>GDL</td>\n",
       "      <td>1990</td>\n",
       "      <td>0</td>\n",
       "      <td>0</td>\n",
       "      <td>0</td>\n",
       "      <td>2</td>\n",
       "      <td>0.0</td>\n",
       "    </tr>\n",
       "    <tr>\n",
       "      <th>2</th>\n",
       "      <td>JDG</td>\n",
       "      <td>1820</td>\n",
       "      <td>0</td>\n",
       "      <td>0</td>\n",
       "      <td>0</td>\n",
       "      <td>1</td>\n",
       "      <td>0.0</td>\n",
       "    </tr>\n",
       "    <tr>\n",
       "      <th>3</th>\n",
       "      <td>JDG</td>\n",
       "      <td>1990</td>\n",
       "      <td>2</td>\n",
       "      <td>2</td>\n",
       "      <td>0</td>\n",
       "      <td>4</td>\n",
       "      <td>50.0</td>\n",
       "    </tr>\n",
       "  </tbody>\n",
       "</table>\n",
       "</div>"
      ],
      "text/plain": [
       "  Newspaper Decade  Number of faces  Present face  Pages with faces (%)  \\\n",
       "0       GDL   1790                0             0                     0   \n",
       "1       GDL   1990                0             0                     0   \n",
       "2       JDG   1820                0             0                     0   \n",
       "3       JDG   1990                2             2                     0   \n",
       "\n",
       "   Number of Pages  Pages with Faces (%)  \n",
       "0                1                   0.0  \n",
       "1                2                   0.0  \n",
       "2                1                   0.0  \n",
       "3                4                  50.0  "
      ]
     },
     "execution_count": 41,
     "metadata": {},
     "output_type": "execute_result"
    }
   ],
   "source": [
    "pages_with_faces"
   ]
  },
  {
   "cell_type": "code",
   "execution_count": 17,
   "metadata": {},
   "outputs": [
    {
     "name": "stdout",
     "output_type": "stream",
     "text": [
      "The plot has been saved to the out folder\n"
     ]
    },
    {
     "data": {
      "image/png": "[encoded data removed]",
      "text/plain": [
       "<Figure size 640x480 with 1 Axes>"
      ]
     },
     "metadata": {},
     "output_type": "display_data"
    }
   ],
   "source": []
  },
  {
   "cell_type": "code",
   "execution_count": null,
   "metadata": {},
   "outputs": [],
   "source": []
  },
  {
   "cell_type": "code",
   "execution_count": null,
   "metadata": {},
   "outputs": [],
   "source": [
    "def initialize_MTCNN():\n",
    "    \"\"\"\n",
    "    Initialize Multi-Task Cascaded Convolutional Neural Networks (MTCNN) for face detection\n",
    "    \"\"\"\n",
    "    mtcnn = MTCNN(keep_all = True)\n",
    "    return mtcnn\n",
    "\n",
    "\n",
    "def load_classifier():\n",
    "    \"\"\"\n",
    "    Load pre-trained FaceNet model\n",
    "    \"\"\"\n",
    "    resnet = InceptionResnetV1(pretrained = 'casia-webface').eval()\n",
    "    return resnet\n",
    "\n",
    "\n",
    "def initialize_df():\n",
    "    \"\"\"\n",
    "    total number of faces per dacade\n",
    "    percentage of pages for that decade which have faces on them\n",
    "    \"\"\"\n",
    "    df = pd.DataFrame(columns = (\"Newspaper\", \"Decade\", \"Number of faces\", \"Present face\", \"Pages with faces (%)\"))\n",
    "    \n",
    "    newspaper = filepaths.split('-')[0]\n",
    "    df.loc(len(df)) = [newspaper, 0, 0, 0, 0]\n",
    "    return df\n",
    "\n",
    "\n",
    "def get_decade(year):\n",
    "    \"\"\"\n",
    "    Get the decade from a given year, ie. 1789 = 80\n",
    "    \"\"\"\n",
    "    decade = str(year)[:3] + \"0\"\n",
    "    return decade"
   ]
  },
  {
   "cell_type": "code",
   "execution_count": null,
   "metadata": {},
   "outputs": [],
   "source": [
    "def face_detection(image, mtcnn, df):\n",
    "    \"\"\"\n",
    "    The function detects faces in a given input image using MTCNN.\n",
    "    \"\"\"    \n",
    "    boxes, _ = mtcnn.detect(image)\n",
    "\n",
    "    i = 0\n",
    "    if type(boxes) == type(None): \n",
    "        i += 1\n",
    "    else:\n",
    "        n_faces = boxes.shape[0]\n",
    "        df.loc[i, \"Number of faces\"] = n_faces\n",
    "        if n_faces > 0:\n",
    "            df.loc[i, \"Present face\"] = 1\n",
    "            i += 1\n",
    "\n",
    "    return df "
   ]
  },
  {
   "cell_type": "code",
   "execution_count": null,
   "metadata": {},
   "outputs": [],
   "source": [
    "\n",
    "def process_newspaper(filepath, mtcnn, df):\n",
    "    \"\"\" \n",
    "    The function iterates over the the three newspapers.\n",
    "    \"\"\"\n",
    "    for newpaper in os.listdir(filepath):\n",
    "        newspaper_path = os.path.join(filepath, newpaper)\n",
    "\n",
    "        # Initialize data structures for the current newspaper\n",
    "        newspaper_results = pd.DataFrame(columns = (\"Decade\", \"Total Faces\", \"Total Pages\"))\n",
    "\n",
    "        # Iterate through each newspaper issue\n",
    "        for issue in os.listdir(newspaper_path):\n",
    "            issue_year = int(issue.split('-')[1])\n",
    "            decade = get_decade(issue_year)\n",
    "            \n",
    "            print(issue) # JDG-1955-07-29-a-p0005.jpg\n",
    "\n",
    "            issue_dir = os.path.join(newspaper_path, issue)\n",
    "            print(issue_dir) # ../in/JDG/JDG-1955-07-29-a-p0005.jpg\n",
    "\n",
    "            image = Image.open(issue_dir)\n",
    "            df = face_detection(image, mtcnn, df)\n",
    "            \n",
    "            #text_row = [decade, total_faces, total_pages]\n",
    "            #newspaper_results.loc[len(newspaper_results)] = text_row\n",
    "\n",
    "    df.to_csv(\"../out/face_count.csv\")\n",
    "    #csv_outpath = os.path.join(\"out\", f\"{newspaper}_results.csv\")\n",
    "\n",
    "    return print(\"The results has been saved to the out folder\")\n"
   ]
  },
  {
   "cell_type": "code",
   "execution_count": null,
   "metadata": {},
   "outputs": [],
   "source": []
  },
  {
   "cell_type": "code",
   "execution_count": null,
   "metadata": {},
   "outputs": [],
   "source": [
    "# group by decade\n",
    "\n",
    "# Calculate\n",
    "            total_faces = sum(n_faces)\n",
    "            total_pages = len(n_faces)\n",
    "            pages_with_faces = sum([1 for faces in n_faces if faces > 0])\n",
    "            percentage_pages_with_faces = (pages_with_faces / total_pages) * 100\n",
    "            \n",
    "            print(total_faces)\n",
    "            print(total_pages)\n",
    "\n",
    "            text_row = [decade, total_faces, total_pages]\n",
    "            newspaper_results.loc[len(newspaper_results)] = text_row"
   ]
  },
  {
   "cell_type": "code",
   "execution_count": null,
   "metadata": {},
   "outputs": [
    {
     "data": {
      "text/plain": [
       "'1780'"
      ]
     },
     "execution_count": 3,
     "metadata": {},
     "output_type": "execute_result"
    }
   ],
   "source": [
    "issue = \"GDL-1789-02-05-a-p0001.jpg\"\n",
    "issue_year = int(issue.split('-')[1])\n",
    "issue_year\n",
    "\n",
    "decade = get_decade(issue_year)\n",
    "decade"
   ]
  },
  {
   "cell_type": "code",
   "execution_count": null,
   "metadata": {},
   "outputs": [],
   "source": [
    "# A plot which shows the latter information - i.e. percentage of pages with faces per decade over\n",
    "#  all of the decades avaiable for that newspaper\n",
    "\n",
    "def plot():\n",
    "    \"\"\"\n",
    "    Plot the percentage of pages with faces per decade \n",
    "    \"\"\"\n",
    "\n",
    "    # x = decade\n",
    "    # y = percentage of pages with faces \n",
    "\n",
    "    sns.relplot(data = df, kind = \"line\")\n",
    "    (data = df, x = \"Decade\", y = \"faces %\", hue = \"Newspaper\")\n",
    "\n",
    "    plt.title(f'Percentage of pages with faces per pecade - {newspaper}')\n",
    "    plt.xlabel('Decade')\n",
    "    plt.ylabel('Pages with faces (%)')\n",
    "\n",
    "    plt.savefig(\"out\", f'{newspaper}_faces_by_decade_plot.png')\n",
    "    #plt.show()\n",
    "\n",
    "    return print(\"The plot has been saved to the out folder\")\n"
   ]
  },
  {
   "cell_type": "code",
   "execution_count": null,
   "metadata": {},
   "outputs": [],
   "source": [
    "def main():\n",
    "\n",
    "    filepath = os.path.join(\"../in_test\")\n",
    "\n",
    "    mtcnn = initialize_MTCNN()\n",
    "    resnet = load_classifier()\n",
    "\n",
    "    df = initialize_df(filepath)\n",
    "    print(df)\n",
    "\n",
    "    df = process_newspaper(filepath, mtcnn, df)\n",
    "    print(df)\n",
    "    \n",
    "    plot()\n",
    "\n",
    "if __name__ == \"__main__\":\n",
    "    main()"
   ]
  },
  {
   "cell_type": "code",
   "execution_count": null,
   "metadata": {},
   "outputs": [
    {
     "data": {
      "text/html": [
       "<div>\n",
       "<style scoped>\n",
       "    .dataframe tbody tr th:only-of-type {\n",
       "        vertical-align: middle;\n",
       "    }\n",
       "\n",
       "    .dataframe tbody tr th {\n",
       "        vertical-align: top;\n",
       "    }\n",
       "\n",
       "    .dataframe thead th {\n",
       "        text-align: right;\n",
       "    }\n",
       "</style>\n",
       "<table border=\"1\" class=\"dataframe\">\n",
       "  <thead>\n",
       "    <tr style=\"text-align: right;\">\n",
       "      <th></th>\n",
       "      <th>Newspaper</th>\n",
       "      <th>Decade</th>\n",
       "      <th>Number of faces</th>\n",
       "      <th>Present face</th>\n",
       "      <th>Pages with faces (%)</th>\n",
       "    </tr>\n",
       "  </thead>\n",
       "  <tbody>\n",
       "    <tr>\n",
       "      <th>0</th>\n",
       "      <td>NaN</td>\n",
       "      <td>NaN</td>\n",
       "      <td>2</td>\n",
       "      <td>1</td>\n",
       "      <td>NaN</td>\n",
       "    </tr>\n",
       "  </tbody>\n",
       "</table>\n",
       "</div>"
      ],
      "text/plain": [
       "  Newspaper Decade Number of faces Present face Pages with faces (%)\n",
       "0       NaN    NaN               2            1                  NaN"
      ]
     },
     "execution_count": 29,
     "metadata": {},
     "output_type": "execute_result"
    }
   ],
   "source": [
    "df"
   ]
  },
  {
   "cell_type": "code",
   "execution_count": null,
   "metadata": {},
   "outputs": [
    {
     "name": "stdout",
     "output_type": "stream",
     "text": [
      "Empty DataFrame\n",
      "Columns: [Newspaper, Decade, Number of faces, Present face, Pages with faces (%)]\n",
      "Index: []\n",
      "GDL-1798-02-05-a-p0003.jpg\n",
      "../in_test/GDL/GDL-1798-02-05-a-p0003.jpg\n",
      "GDL-1997-08-09-a-p0029.jpg\n",
      "../in_test/GDL/GDL-1997-08-09-a-p0029.jpg\n",
      "GDL-1992-05-06-a-p0002.jpg\n",
      "../in_test/GDL/GDL-1992-05-06-a-p0002.jpg\n",
      "GDL-1997-08-09-a-p0027.jpg\n",
      "../in_test/GDL/GDL-1997-08-09-a-p0027.jpg\n"
     ]
    },
    {
     "ename": "OSError",
     "evalue": "Cannot save file into a non-existent directory: 'out'",
     "output_type": "error",
     "traceback": [
      "\u001b[0;31m---------------------------------------------------------------------------\u001b[0m",
      "\u001b[0;31mOSError\u001b[0m                                   Traceback (most recent call last)",
      "\u001b[1;32m/work/Visual_analytics/cds-vis/assignments/assignment-4/src/main.ipynb Cell 11\u001b[0m line \u001b[0;36m9\n\u001b[1;32m      <a href='vscode-notebook-cell://app-5040626-0.cloud.sdu.dk/work/Visual_analytics/cds-vis/assignments/assignment-4/src/main.ipynb#X23sdnNjb2RlLXJlbW90ZQ%3D%3D?line=5'>6</a>\u001b[0m df \u001b[39m=\u001b[39m initialize_df()\n\u001b[1;32m      <a href='vscode-notebook-cell://app-5040626-0.cloud.sdu.dk/work/Visual_analytics/cds-vis/assignments/assignment-4/src/main.ipynb#X23sdnNjb2RlLXJlbW90ZQ%3D%3D?line=6'>7</a>\u001b[0m \u001b[39mprint\u001b[39m(df)\n\u001b[0;32m----> <a href='vscode-notebook-cell://app-5040626-0.cloud.sdu.dk/work/Visual_analytics/cds-vis/assignments/assignment-4/src/main.ipynb#X23sdnNjb2RlLXJlbW90ZQ%3D%3D?line=8'>9</a>\u001b[0m df \u001b[39m=\u001b[39m process_newspaper(filepath, mtcnn, df)\n\u001b[1;32m     <a href='vscode-notebook-cell://app-5040626-0.cloud.sdu.dk/work/Visual_analytics/cds-vis/assignments/assignment-4/src/main.ipynb#X23sdnNjb2RlLXJlbW90ZQ%3D%3D?line=9'>10</a>\u001b[0m \u001b[39mprint\u001b[39m(df)\n",
      "\u001b[1;32m/work/Visual_analytics/cds-vis/assignments/assignment-4/src/main.ipynb Cell 11\u001b[0m line \u001b[0;36m2\n\u001b[1;32m     <a href='vscode-notebook-cell://app-5040626-0.cloud.sdu.dk/work/Visual_analytics/cds-vis/assignments/assignment-4/src/main.ipynb#X23sdnNjb2RlLXJlbW90ZQ%3D%3D?line=21'>22</a>\u001b[0m         df \u001b[39m=\u001b[39m face_detection(image, mtcnn, df)\n\u001b[1;32m     <a href='vscode-notebook-cell://app-5040626-0.cloud.sdu.dk/work/Visual_analytics/cds-vis/assignments/assignment-4/src/main.ipynb#X23sdnNjb2RlLXJlbW90ZQ%3D%3D?line=23'>24</a>\u001b[0m         \u001b[39m#text_row = [decade, total_faces, total_pages]\u001b[39;00m\n\u001b[1;32m     <a href='vscode-notebook-cell://app-5040626-0.cloud.sdu.dk/work/Visual_analytics/cds-vis/assignments/assignment-4/src/main.ipynb#X23sdnNjb2RlLXJlbW90ZQ%3D%3D?line=24'>25</a>\u001b[0m         \u001b[39m#newspaper_results.loc[len(newspaper_results)] = text_row\u001b[39;00m\n\u001b[0;32m---> <a href='vscode-notebook-cell://app-5040626-0.cloud.sdu.dk/work/Visual_analytics/cds-vis/assignments/assignment-4/src/main.ipynb#X23sdnNjb2RlLXJlbW90ZQ%3D%3D?line=26'>27</a>\u001b[0m     df\u001b[39m.\u001b[39;49mto_csv(\u001b[39m\"\u001b[39;49m\u001b[39mout/face_count.csv\u001b[39;49m\u001b[39m\"\u001b[39;49m)\n\u001b[1;32m     <a href='vscode-notebook-cell://app-5040626-0.cloud.sdu.dk/work/Visual_analytics/cds-vis/assignments/assignment-4/src/main.ipynb#X23sdnNjb2RlLXJlbW90ZQ%3D%3D?line=27'>28</a>\u001b[0m     \u001b[39m#csv_outpath = os.path.join(\"out\", f\"{newspaper}_results.csv\")\u001b[39;00m\n\u001b[1;32m     <a href='vscode-notebook-cell://app-5040626-0.cloud.sdu.dk/work/Visual_analytics/cds-vis/assignments/assignment-4/src/main.ipynb#X23sdnNjb2RlLXJlbW90ZQ%3D%3D?line=29'>30</a>\u001b[0m \u001b[39mreturn\u001b[39;00m \u001b[39mprint\u001b[39m(\u001b[39m\"\u001b[39m\u001b[39mThe results has been saved to the out folder\u001b[39m\u001b[39m\"\u001b[39m)\n",
      "File \u001b[0;32m~/.local/lib/python3.10/site-packages/pandas/util/_decorators.py:333\u001b[0m, in \u001b[0;36mdeprecate_nonkeyword_arguments.<locals>.decorate.<locals>.wrapper\u001b[0;34m(*args, **kwargs)\u001b[0m\n\u001b[1;32m    327\u001b[0m \u001b[39mif\u001b[39;00m \u001b[39mlen\u001b[39m(args) \u001b[39m>\u001b[39m num_allow_args:\n\u001b[1;32m    328\u001b[0m     warnings\u001b[39m.\u001b[39mwarn(\n\u001b[1;32m    329\u001b[0m         msg\u001b[39m.\u001b[39mformat(arguments\u001b[39m=\u001b[39m_format_argument_list(allow_args)),\n\u001b[1;32m    330\u001b[0m         \u001b[39mFutureWarning\u001b[39;00m,\n\u001b[1;32m    331\u001b[0m         stacklevel\u001b[39m=\u001b[39mfind_stack_level(),\n\u001b[1;32m    332\u001b[0m     )\n\u001b[0;32m--> 333\u001b[0m \u001b[39mreturn\u001b[39;00m func(\u001b[39m*\u001b[39;49margs, \u001b[39m*\u001b[39;49m\u001b[39m*\u001b[39;49mkwargs)\n",
      "File \u001b[0;32m~/.local/lib/python3.10/site-packages/pandas/core/generic.py:3967\u001b[0m, in \u001b[0;36mNDFrame.to_csv\u001b[0;34m(self, path_or_buf, sep, na_rep, float_format, columns, header, index, index_label, mode, encoding, compression, quoting, quotechar, lineterminator, chunksize, date_format, doublequote, escapechar, decimal, errors, storage_options)\u001b[0m\n\u001b[1;32m   3956\u001b[0m df \u001b[39m=\u001b[39m \u001b[39mself\u001b[39m \u001b[39mif\u001b[39;00m \u001b[39misinstance\u001b[39m(\u001b[39mself\u001b[39m, ABCDataFrame) \u001b[39melse\u001b[39;00m \u001b[39mself\u001b[39m\u001b[39m.\u001b[39mto_frame()\n\u001b[1;32m   3958\u001b[0m formatter \u001b[39m=\u001b[39m DataFrameFormatter(\n\u001b[1;32m   3959\u001b[0m     frame\u001b[39m=\u001b[39mdf,\n\u001b[1;32m   3960\u001b[0m     header\u001b[39m=\u001b[39mheader,\n\u001b[0;32m   (...)\u001b[0m\n\u001b[1;32m   3964\u001b[0m     decimal\u001b[39m=\u001b[39mdecimal,\n\u001b[1;32m   3965\u001b[0m )\n\u001b[0;32m-> 3967\u001b[0m \u001b[39mreturn\u001b[39;00m DataFrameRenderer(formatter)\u001b[39m.\u001b[39;49mto_csv(\n\u001b[1;32m   3968\u001b[0m     path_or_buf,\n\u001b[1;32m   3969\u001b[0m     lineterminator\u001b[39m=\u001b[39;49mlineterminator,\n\u001b[1;32m   3970\u001b[0m     sep\u001b[39m=\u001b[39;49msep,\n\u001b[1;32m   3971\u001b[0m     encoding\u001b[39m=\u001b[39;49mencoding,\n\u001b[1;32m   3972\u001b[0m     errors\u001b[39m=\u001b[39;49merrors,\n\u001b[1;32m   3973\u001b[0m     compression\u001b[39m=\u001b[39;49mcompression,\n\u001b[1;32m   3974\u001b[0m     quoting\u001b[39m=\u001b[39;49mquoting,\n\u001b[1;32m   3975\u001b[0m     columns\u001b[39m=\u001b[39;49mcolumns,\n\u001b[1;32m   3976\u001b[0m     index_label\u001b[39m=\u001b[39;49mindex_label,\n\u001b[1;32m   3977\u001b[0m     mode\u001b[39m=\u001b[39;49mmode,\n\u001b[1;32m   3978\u001b[0m     chunksize\u001b[39m=\u001b[39;49mchunksize,\n\u001b[1;32m   3979\u001b[0m     quotechar\u001b[39m=\u001b[39;49mquotechar,\n\u001b[1;32m   3980\u001b[0m     date_format\u001b[39m=\u001b[39;49mdate_format,\n\u001b[1;32m   3981\u001b[0m     doublequote\u001b[39m=\u001b[39;49mdoublequote,\n\u001b[1;32m   3982\u001b[0m     escapechar\u001b[39m=\u001b[39;49mescapechar,\n\u001b[1;32m   3983\u001b[0m     storage_options\u001b[39m=\u001b[39;49mstorage_options,\n\u001b[1;32m   3984\u001b[0m )\n",
      "File \u001b[0;32m~/.local/lib/python3.10/site-packages/pandas/io/formats/format.py:1014\u001b[0m, in \u001b[0;36mDataFrameRenderer.to_csv\u001b[0;34m(self, path_or_buf, encoding, sep, columns, index_label, mode, compression, quoting, quotechar, lineterminator, chunksize, date_format, doublequote, escapechar, errors, storage_options)\u001b[0m\n\u001b[1;32m    993\u001b[0m     created_buffer \u001b[39m=\u001b[39m \u001b[39mFalse\u001b[39;00m\n\u001b[1;32m    995\u001b[0m csv_formatter \u001b[39m=\u001b[39m CSVFormatter(\n\u001b[1;32m    996\u001b[0m     path_or_buf\u001b[39m=\u001b[39mpath_or_buf,\n\u001b[1;32m    997\u001b[0m     lineterminator\u001b[39m=\u001b[39mlineterminator,\n\u001b[0;32m   (...)\u001b[0m\n\u001b[1;32m   1012\u001b[0m     formatter\u001b[39m=\u001b[39m\u001b[39mself\u001b[39m\u001b[39m.\u001b[39mfmt,\n\u001b[1;32m   1013\u001b[0m )\n\u001b[0;32m-> 1014\u001b[0m csv_formatter\u001b[39m.\u001b[39;49msave()\n\u001b[1;32m   1016\u001b[0m \u001b[39mif\u001b[39;00m created_buffer:\n\u001b[1;32m   1017\u001b[0m     \u001b[39massert\u001b[39;00m \u001b[39misinstance\u001b[39m(path_or_buf, StringIO)\n",
      "File \u001b[0;32m~/.local/lib/python3.10/site-packages/pandas/io/formats/csvs.py:251\u001b[0m, in \u001b[0;36mCSVFormatter.save\u001b[0;34m(self)\u001b[0m\n\u001b[1;32m    247\u001b[0m \u001b[39m\u001b[39m\u001b[39m\"\"\"\u001b[39;00m\n\u001b[1;32m    248\u001b[0m \u001b[39mCreate the writer & save.\u001b[39;00m\n\u001b[1;32m    249\u001b[0m \u001b[39m\"\"\"\u001b[39;00m\n\u001b[1;32m    250\u001b[0m \u001b[39m# apply compression and byte/text conversion\u001b[39;00m\n\u001b[0;32m--> 251\u001b[0m \u001b[39mwith\u001b[39;00m get_handle(\n\u001b[1;32m    252\u001b[0m     \u001b[39mself\u001b[39;49m\u001b[39m.\u001b[39;49mfilepath_or_buffer,\n\u001b[1;32m    253\u001b[0m     \u001b[39mself\u001b[39;49m\u001b[39m.\u001b[39;49mmode,\n\u001b[1;32m    254\u001b[0m     encoding\u001b[39m=\u001b[39;49m\u001b[39mself\u001b[39;49m\u001b[39m.\u001b[39;49mencoding,\n\u001b[1;32m    255\u001b[0m     errors\u001b[39m=\u001b[39;49m\u001b[39mself\u001b[39;49m\u001b[39m.\u001b[39;49merrors,\n\u001b[1;32m    256\u001b[0m     compression\u001b[39m=\u001b[39;49m\u001b[39mself\u001b[39;49m\u001b[39m.\u001b[39;49mcompression,\n\u001b[1;32m    257\u001b[0m     storage_options\u001b[39m=\u001b[39;49m\u001b[39mself\u001b[39;49m\u001b[39m.\u001b[39;49mstorage_options,\n\u001b[1;32m    258\u001b[0m ) \u001b[39mas\u001b[39;00m handles:\n\u001b[1;32m    259\u001b[0m     \u001b[39m# Note: self.encoding is irrelevant here\u001b[39;00m\n\u001b[1;32m    260\u001b[0m     \u001b[39mself\u001b[39m\u001b[39m.\u001b[39mwriter \u001b[39m=\u001b[39m csvlib\u001b[39m.\u001b[39mwriter(\n\u001b[1;32m    261\u001b[0m         handles\u001b[39m.\u001b[39mhandle,\n\u001b[1;32m    262\u001b[0m         lineterminator\u001b[39m=\u001b[39m\u001b[39mself\u001b[39m\u001b[39m.\u001b[39mlineterminator,\n\u001b[0;32m   (...)\u001b[0m\n\u001b[1;32m    267\u001b[0m         quotechar\u001b[39m=\u001b[39m\u001b[39mself\u001b[39m\u001b[39m.\u001b[39mquotechar,\n\u001b[1;32m    268\u001b[0m     )\n\u001b[1;32m    270\u001b[0m     \u001b[39mself\u001b[39m\u001b[39m.\u001b[39m_save()\n",
      "File \u001b[0;32m~/.local/lib/python3.10/site-packages/pandas/io/common.py:749\u001b[0m, in \u001b[0;36mget_handle\u001b[0;34m(path_or_buf, mode, encoding, compression, memory_map, is_text, errors, storage_options)\u001b[0m\n\u001b[1;32m    747\u001b[0m \u001b[39m# Only for write methods\u001b[39;00m\n\u001b[1;32m    748\u001b[0m \u001b[39mif\u001b[39;00m \u001b[39m\"\u001b[39m\u001b[39mr\u001b[39m\u001b[39m\"\u001b[39m \u001b[39mnot\u001b[39;00m \u001b[39min\u001b[39;00m mode \u001b[39mand\u001b[39;00m is_path:\n\u001b[0;32m--> 749\u001b[0m     check_parent_directory(\u001b[39mstr\u001b[39;49m(handle))\n\u001b[1;32m    751\u001b[0m \u001b[39mif\u001b[39;00m compression:\n\u001b[1;32m    752\u001b[0m     \u001b[39mif\u001b[39;00m compression \u001b[39m!=\u001b[39m \u001b[39m\"\u001b[39m\u001b[39mzstd\u001b[39m\u001b[39m\"\u001b[39m:\n\u001b[1;32m    753\u001b[0m         \u001b[39m# compression libraries do not like an explicit text-mode\u001b[39;00m\n",
      "File \u001b[0;32m~/.local/lib/python3.10/site-packages/pandas/io/common.py:616\u001b[0m, in \u001b[0;36mcheck_parent_directory\u001b[0;34m(path)\u001b[0m\n\u001b[1;32m    614\u001b[0m parent \u001b[39m=\u001b[39m Path(path)\u001b[39m.\u001b[39mparent\n\u001b[1;32m    615\u001b[0m \u001b[39mif\u001b[39;00m \u001b[39mnot\u001b[39;00m parent\u001b[39m.\u001b[39mis_dir():\n\u001b[0;32m--> 616\u001b[0m     \u001b[39mraise\u001b[39;00m \u001b[39mOSError\u001b[39;00m(\u001b[39mrf\u001b[39m\u001b[39m\"\u001b[39m\u001b[39mCannot save file into a non-existent directory: \u001b[39m\u001b[39m'\u001b[39m\u001b[39m{\u001b[39;00mparent\u001b[39m}\u001b[39;00m\u001b[39m'\u001b[39m\u001b[39m\"\u001b[39m)\n",
      "\u001b[0;31mOSError\u001b[0m: Cannot save file into a non-existent directory: 'out'"
     ]
    }
   ],
   "source": [
    "filepath = os.path.join(\"../in_test\")\n",
    "\n",
    "mtcnn = initialize_MTCNN()\n",
    "resnet = load_classifier()\n",
    "\n",
    "df = initialize_df()\n",
    "print(df)\n",
    "\n",
    "df = process_newspaper(filepath, mtcnn, df)\n",
    "print(df)\n"
   ]
  },
  {
   "cell_type": "code",
   "execution_count": null,
   "metadata": {},
   "outputs": [],
   "source": []
  },
  {
   "cell_type": "code",
   "execution_count": null,
   "metadata": {},
   "outputs": [
    {
     "name": "stdout",
     "output_type": "stream",
     "text": [
      "../in/JDG\n",
      "JDG-1955-07-29-a-p0005.jpg\n",
      "../in/JDG/JDG-1955-07-29-a-p0005.jpg\n",
      "<PIL.JpegImagePlugin.JpegImageFile image mode=RGB size=1378x2000 at 0x7F66B127FC40>\n",
      "None\n"
     ]
    },
    {
     "ename": "ZeroDivisionError",
     "evalue": "division by zero",
     "output_type": "error",
     "traceback": [
      "\u001b[0;31m---------------------------------------------------------------------------\u001b[0m",
      "\u001b[0;31mZeroDivisionError\u001b[0m                         Traceback (most recent call last)",
      "\u001b[1;32m/work/Visual_analytics/cds-vis/assignments/assignment-4/src/main.ipynb Cell 13\u001b[0m line \u001b[0;36m2\n\u001b[1;32m      <a href='vscode-notebook-cell://app-5039712-0.cloud.sdu.dk/work/Visual_analytics/cds-vis/assignments/assignment-4/src/main.ipynb#X56sdnNjb2RlLXJlbW90ZQ%3D%3D?line=0'>1</a>\u001b[0m df \u001b[39m=\u001b[39m os\u001b[39m.\u001b[39mpath\u001b[39m.\u001b[39mjoin(\u001b[39m\"\u001b[39m\u001b[39m../in\u001b[39m\u001b[39m\"\u001b[39m)\n\u001b[0;32m----> <a href='vscode-notebook-cell://app-5039712-0.cloud.sdu.dk/work/Visual_analytics/cds-vis/assignments/assignment-4/src/main.ipynb#X56sdnNjb2RlLXJlbW90ZQ%3D%3D?line=1'>2</a>\u001b[0m process_newspaper(df, mtcnn)\n",
      "\u001b[1;32m/work/Visual_analytics/cds-vis/assignments/assignment-4/src/main.ipynb Cell 13\u001b[0m line \u001b[0;36m3\n\u001b[1;32m     <a href='vscode-notebook-cell://app-5039712-0.cloud.sdu.dk/work/Visual_analytics/cds-vis/assignments/assignment-4/src/main.ipynb#X56sdnNjb2RlLXJlbW90ZQ%3D%3D?line=28'>29</a>\u001b[0m total_pages \u001b[39m=\u001b[39m \u001b[39mlen\u001b[39m(issue_faces)\n\u001b[1;32m     <a href='vscode-notebook-cell://app-5039712-0.cloud.sdu.dk/work/Visual_analytics/cds-vis/assignments/assignment-4/src/main.ipynb#X56sdnNjb2RlLXJlbW90ZQ%3D%3D?line=29'>30</a>\u001b[0m pages_with_faces \u001b[39m=\u001b[39m \u001b[39msum\u001b[39m([\u001b[39m1\u001b[39m \u001b[39mfor\u001b[39;00m faces \u001b[39min\u001b[39;00m issue_faces \u001b[39mif\u001b[39;00m faces \u001b[39m>\u001b[39m \u001b[39m0\u001b[39m])\n\u001b[0;32m---> <a href='vscode-notebook-cell://app-5039712-0.cloud.sdu.dk/work/Visual_analytics/cds-vis/assignments/assignment-4/src/main.ipynb#X56sdnNjb2RlLXJlbW90ZQ%3D%3D?line=30'>31</a>\u001b[0m percentage_pages_with_faces \u001b[39m=\u001b[39m (pages_with_faces \u001b[39m/\u001b[39;49m total_pages) \u001b[39m*\u001b[39m \u001b[39m100\u001b[39m\n\u001b[1;32m     <a href='vscode-notebook-cell://app-5039712-0.cloud.sdu.dk/work/Visual_analytics/cds-vis/assignments/assignment-4/src/main.ipynb#X56sdnNjb2RlLXJlbW90ZQ%3D%3D?line=32'>33</a>\u001b[0m text_row \u001b[39m=\u001b[39m [decade, total_faces, total_pages]\n\u001b[1;32m     <a href='vscode-notebook-cell://app-5039712-0.cloud.sdu.dk/work/Visual_analytics/cds-vis/assignments/assignment-4/src/main.ipynb#X56sdnNjb2RlLXJlbW90ZQ%3D%3D?line=33'>34</a>\u001b[0m newspaper_results\u001b[39m.\u001b[39mloc[\u001b[39mlen\u001b[39m(newspaper_results)] \u001b[39m=\u001b[39m text_row\n",
      "\u001b[0;31mZeroDivisionError\u001b[0m: division by zero"
     ]
    }
   ],
   "source": [
    "df = os.path.join(\"../in\")\n",
    "process_newspaper(df, mtcnn)"
   ]
  },
  {
   "cell_type": "code",
   "execution_count": null,
   "metadata": {},
   "outputs": [
    {
     "data": {
      "text/plain": [
       "PIL.JpegImagePlugin.JpegImageFile"
      ]
     },
     "execution_count": 70,
     "metadata": {},
     "output_type": "execute_result"
    }
   ],
   "source": [
    "mtcnn = MTCNN(keep_all = True)\n",
    "image = Image.open(\"../in/GDL/GDL-1798-02-05-a-p0001.jpg\")\n",
    "type(image)"
   ]
  },
  {
   "cell_type": "code",
   "execution_count": null,
   "metadata": {},
   "outputs": [],
   "source": []
  }
 ],
 "metadata": {
  "kernelspec": {
   "display_name": "Python 3",
   "language": "python",
   "name": "python3"
  },
  "language_info": {
   "codemirror_mode": {
    "name": "ipython",
    "version": 3
   },
   "file_extension": ".py",
   "mimetype": "text/x-python",
   "name": "python",
   "nbconvert_exporter": "python",
   "pygments_lexer": "ipython3",
   "version": "3.10.12"
  }
 },
 "nbformat": 4,
 "nbformat_minor": 2
}
