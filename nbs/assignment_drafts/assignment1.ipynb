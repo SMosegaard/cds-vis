{
 "cells": [
  {
   "cell_type": "markdown",
   "metadata": {},
   "source": [
    "## Portfolio 1 - Building a simple image search algorithm\n",
    "\n",
    "*By Sofie Mosegaard, 01-03-2024*\n",
    "\n",
    "In this assignment I will create a simple image search algorithm using ```OpenCV```. The assignment will include the following:\n",
    "\n",
    "1. Define a particular image that you want to work with\n",
    "2. For that image\n",
    "    - Extract the colour histogram\n",
    "3. Extract colour histograms for all of the **other* images in the data\n",
    "4. Compare the histogram of our chosen image to all of the other histograms \n",
    "      -   For this, use the ```cv2.compareHist()``` function with the ```cv2.HISTCMP_CHISQR``` metric\n",
    "5. Find the five images which are most simlar to the target image\n",
    "      -  Save a CSV file to the folder called ```out```, showing the five most similar images and the distance metric:\n"
   ]
  },
  {
   "cell_type": "markdown",
   "metadata": {},
   "source": [
    "### Import libraries"
   ]
  },
  {
   "cell_type": "code",
   "execution_count": null,
   "metadata": {},
   "outputs": [],
   "source": [
    "# sudo apt-get update\n",
    "# sudo apt-get install -y python3-opencv\n",
    "# pip install opencv-python matplotlib"
   ]
  },
  {
   "cell_type": "code",
   "execution_count": 1,
   "metadata": {},
   "outputs": [],
   "source": [
    "import os\n",
    "import glob\n",
    "import sys\n",
    "import pandas as pd\n",
    "\n",
    "sys.path.append(\"..\")\n",
    "\n",
    "# Image processing and numerical tools\n",
    "import cv2 # openCV\n",
    "import numpy as np\n",
    "\n",
    "# class utils functions\n",
    "from utils.imutils import jimshow as show\n",
    "from utils.imutils import jimshow_channel as show_channel\n",
    "import matplotlib.pyplot as plt"
   ]
  },
  {
   "cell_type": "markdown",
   "metadata": {},
   "source": [
    "### Extract one color histogram for comparison\n",
    "\n",
    "First, I will extract one histogram of all color channels from one particular image. The histogram will be normalised using MinMax:\n"
   ]
  },
  {
   "cell_type": "code",
   "execution_count": 4,
   "metadata": {},
   "outputs": [],
   "source": [
    "filepath_f1 = os.path.join(\"..\",\n",
    "                            \"..\",\n",
    "                            \"..\",\n",
    "                            \"..\",\n",
    "                            \"..\",\n",
    "                            \"cds-vis-data\",\n",
    "                            \"flowers\", \n",
    "                            \"image_0001.jpg\")\n",
    "\n",
    "image_f1 = cv2.imread(filepath_f1)"
   ]
  },
  {
   "cell_type": "code",
   "execution_count": 5,
   "metadata": {},
   "outputs": [],
   "source": [
    "hist_f1 = cv2.calcHist([image_f1], [0,1,2], None, [255,255,255], [0,256, 0,256,0,256])\n",
    "norm_hist_f1 = cv2.normalize(hist_f1, hist_f1, 0, 1.0, cv2.NORM_MINMAX)"
   ]
  },
  {
   "cell_type": "markdown",
   "metadata": {},
   "source": [
    "### Extract colour histograms for all other images and compare\n"
   ]
  },
  {
   "cell_type": "code",
   "execution_count": 6,
   "metadata": {},
   "outputs": [],
   "source": [
    "filepath = os.path.join(\"..\",\n",
    "                        \"..\",\n",
    "                        \"..\",\n",
    "                        \"..\",\n",
    "                        \"..\",\n",
    "                        \"cds-vis-data\",\n",
    "                        \"flowers\")"
   ]
  },
  {
   "cell_type": "code",
   "execution_count": 18,
   "metadata": {},
   "outputs": [],
   "source": [
    "# Define a function that updates the df with new dist values\n",
    "def update_distance_df(filename, distance):\n",
    "    distance_df.loc[len(distance_df.index)] = [filename, distance] # .loc is used to access rows and columns by label(s)"
   ]
  },
  {
   "cell_type": "code",
   "execution_count": 24,
   "metadata": {},
   "outputs": [
    {
     "data": {
      "text/html": [
       "<div>\n",
       "<style scoped>\n",
       "    .dataframe tbody tr th:only-of-type {\n",
       "        vertical-align: middle;\n",
       "    }\n",
       "\n",
       "    .dataframe tbody tr th {\n",
       "        vertical-align: top;\n",
       "    }\n",
       "\n",
       "    .dataframe thead th {\n",
       "        text-align: right;\n",
       "    }\n",
       "</style>\n",
       "<table border=\"1\" class=\"dataframe\">\n",
       "  <thead>\n",
       "    <tr style=\"text-align: right;\">\n",
       "      <th></th>\n",
       "      <th>Filename</th>\n",
       "      <th>Distance</th>\n",
       "    </tr>\n",
       "  </thead>\n",
       "  <tbody>\n",
       "    <tr>\n",
       "      <th>0</th>\n",
       "      <td>image_0001</td>\n",
       "      <td>0.000</td>\n",
       "    </tr>\n",
       "    <tr>\n",
       "      <th>1</th>\n",
       "      <td>image_0928</td>\n",
       "      <td>178.124</td>\n",
       "    </tr>\n",
       "    <tr>\n",
       "      <th>2</th>\n",
       "      <td>image_0773</td>\n",
       "      <td>190.081</td>\n",
       "    </tr>\n",
       "    <tr>\n",
       "      <th>3</th>\n",
       "      <td>image_0142</td>\n",
       "      <td>190.209</td>\n",
       "    </tr>\n",
       "    <tr>\n",
       "      <th>4</th>\n",
       "      <td>image_0876</td>\n",
       "      <td>188.548</td>\n",
       "    </tr>\n",
       "    <tr>\n",
       "      <th>5</th>\n",
       "      <td>image_1316</td>\n",
       "      <td>190.222</td>\n",
       "    </tr>\n",
       "  </tbody>\n",
       "</table>\n",
       "</div>"
      ],
      "text/plain": [
       "     Filename  Distance\n",
       "0  image_0001     0.000\n",
       "1  image_0928   178.124\n",
       "2  image_0773   190.081\n",
       "3  image_0142   190.209\n",
       "4  image_0876   188.548\n",
       "5  image_1316   190.222"
      ]
     },
     "execution_count": 24,
     "metadata": {},
     "output_type": "execute_result"
    }
   ],
   "source": [
    "# Initialize a pandas dataframe with specified column names\n",
    "distance_df = pd.DataFrame(columns=(\"Filename\", \"Distance\"))\n",
    "\n",
    "# Loop through all images in the sorted order\n",
    "for file in sorted(os.listdir(filepath)):\n",
    "    if file != filepath_f1:\n",
    "   \n",
    "        individual_filepath = os.path.join(filepath, file)\n",
    "        image = cv2.imread(individual_filepath)\n",
    "        image_name = file.split(\".jpg\")[0]\n",
    "\n",
    "        # Extract color hist\n",
    "        hist = cv2.calcHist([image], [0,1,2], None, [255,255,255], [0,256, 0,256,0,256])\n",
    "\n",
    "        # Normalise hist\n",
    "        norm_hist = cv2.normalize(hist, hist, 0, 1.0, cv2.NORM_MINMAX)\n",
    "\n",
    "        # Compare the hist of flower image 1 and the current image \n",
    "        dist = round(cv2.compareHist(norm_hist_f1, norm_hist, cv2.HISTCMP_CHISQR), 3) # 3 decimals\n",
    "\n",
    "        \"\"\"\n",
    "        First, I want to append the first 5 images' names and dist values to the distance_df. When the table\n",
    "        consitsts of five images, I want to compare the distance between the image with the biggest dist value\n",
    "        in the distance_df ( = so the image least similar to the target image (image_f1)) and the dist value\n",
    "        of the current image. If the current image has a smaller dist, I want to ipdate the df.\n",
    "        \"\"\"\n",
    "\n",
    "        if len(distance_df) < 6: \n",
    "            # If there is less than 6 rows (5 + 1 target) in the table --> append image_name and dist to the df\n",
    "            update_distance_df(image_name, dist)\n",
    "        else:\n",
    "            # Find image with highest dist in df - so the one that is least similar to the target image\n",
    "            max_dist_idx = distance_df['Distance'].idxmax() # .idxmax() returns the index with the maximum value\n",
    "            max_dist = distance_df.loc[max_dist_idx, 'Distance']\n",
    "\n",
    "            # If the dist of the current image is smaller than the highest dist in df, then update\n",
    "            if dist < max_dist:\n",
    "                distance_df.at[max_dist_idx, 'Filename'] = image_name # Update 'Filename' column at row idx with max dist\n",
    "                distance_df.at[max_dist_idx, 'Distance'] = dist # Update 'Distance' column at row idx with max dist\n",
    "\n",
    "        # Save the table as a .csv file\n",
    "        csv_outpath = os.path.join(\"..\", \"out\", \"output.csv\")\n",
    "    distance_df.to_csv(csv_outpath)  \n",
    "\n",
    "distance_df    "
   ]
  },
  {
   "cell_type": "markdown",
   "metadata": {},
   "source": [
    "### Alternative method\n",
    "\n",
    "Alternatively, one could also append all calculated distances to the distance_df and then in the end simply extract the six rows with the smallest distance value using the 'nsmallest' method:"
   ]
  },
  {
   "cell_type": "code",
   "execution_count": null,
   "metadata": {},
   "outputs": [],
   "source": [
    "distance_df = pd.DataFrame(columns=(\"Filename\", \"Distance\"))\n",
    "\n",
    "for file in sorted(os.listdir(filepath)):\n",
    "    individual_filepath = os.path.join(filepath, file) \n",
    "    image = cv2.imread(individual_filepath) \n",
    "    filename = file.split(\".jpg\")[0]\n",
    "\n",
    "    hist = cv2.calcHist([image], [0,1,2], None, [255,255,255], [0,256, 0,256,0,256])\n",
    "    norm_hist = cv2.normalize(hist, hist, 0, 1.0, cv2.NORM_MINMAX) \n",
    "    \n",
    "    # Compare the hist of flower image 1 and the current image \n",
    "    dist = round(cv2.compareHist(norm_hist_f1, norm_hist, cv2.HISTCMP_CHISQR), 3) # 3 decimals\n",
    "    \n",
    "    # Append the filename and distance value \n",
    "    row = [filename, dist]\n",
    "    distance_df.loc[len(distance_df)] = row\n",
    "\n",
    "# Extract 6 rows with the smallest distance value (5 + 1 target (= image_f1 ))\n",
    "final_df = distance_df.nsmallest(6, [\"Distance\"])\n",
    "\n",
    "csv_outpath = os.path.join(\"..\", \"out\", \"output.csv\")\n",
    "final_df.to_csv(csv_outpath)\n"
   ]
  },
  {
   "cell_type": "code",
   "execution_count": 41,
   "metadata": {},
   "outputs": [
    {
     "data": {
      "text/html": [
       "<div>\n",
       "<style scoped>\n",
       "    .dataframe tbody tr th:only-of-type {\n",
       "        vertical-align: middle;\n",
       "    }\n",
       "\n",
       "    .dataframe tbody tr th {\n",
       "        vertical-align: top;\n",
       "    }\n",
       "\n",
       "    .dataframe thead th {\n",
       "        text-align: right;\n",
       "    }\n",
       "</style>\n",
       "<table border=\"1\" class=\"dataframe\">\n",
       "  <thead>\n",
       "    <tr style=\"text-align: right;\">\n",
       "      <th></th>\n",
       "      <th>Filename</th>\n",
       "      <th>Distance</th>\n",
       "    </tr>\n",
       "  </thead>\n",
       "  <tbody>\n",
       "    <tr>\n",
       "      <th>0</th>\n",
       "      <td>image_0001</td>\n",
       "      <td>0.000</td>\n",
       "    </tr>\n",
       "    <tr>\n",
       "      <th>927</th>\n",
       "      <td>image_0928</td>\n",
       "      <td>178.124</td>\n",
       "    </tr>\n",
       "    <tr>\n",
       "      <th>875</th>\n",
       "      <td>image_0876</td>\n",
       "      <td>188.548</td>\n",
       "    </tr>\n",
       "    <tr>\n",
       "      <th>772</th>\n",
       "      <td>image_0773</td>\n",
       "      <td>190.081</td>\n",
       "    </tr>\n",
       "    <tr>\n",
       "      <th>141</th>\n",
       "      <td>image_0142</td>\n",
       "      <td>190.209</td>\n",
       "    </tr>\n",
       "    <tr>\n",
       "      <th>1315</th>\n",
       "      <td>image_1316</td>\n",
       "      <td>190.222</td>\n",
       "    </tr>\n",
       "  </tbody>\n",
       "</table>\n",
       "</div>"
      ],
      "text/plain": [
       "        Filename  Distance\n",
       "0     image_0001     0.000\n",
       "927   image_0928   178.124\n",
       "875   image_0876   188.548\n",
       "772   image_0773   190.081\n",
       "141   image_0142   190.209\n",
       "1315  image_1316   190.222"
      ]
     },
     "execution_count": 41,
     "metadata": {},
     "output_type": "execute_result"
    }
   ],
   "source": [
    "final_df"
   ]
  }
 ],
 "metadata": {
  "kernelspec": {
   "display_name": "Python 3",
   "language": "python",
   "name": "python3"
  },
  "language_info": {
   "codemirror_mode": {
    "name": "ipython",
    "version": 3
   },
   "file_extension": ".py",
   "mimetype": "text/x-python",
   "name": "python",
   "nbconvert_exporter": "python",
   "pygments_lexer": "ipython3",
   "version": "3.10.12"
  }
 },
 "nbformat": 4,
 "nbformat_minor": 2
}
